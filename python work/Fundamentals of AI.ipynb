{
 "cells": [
  {
   "cell_type": "markdown",
   "id": "c218247c",
   "metadata": {},
   "source": [
    "# Bubble Sort in Python\n",
    "A Bubble sort is an easy algorithm among the various sorting algorithms. We learn it as a first sorting algorithm. It is easy to learn and highly intuitive. It can be easy to implement into the code, which is much beneficial for beginner software developers. But it is the worst algorithm for sorting the elements in every except because it checks every time the array is sorted or not.\n",
    "\n",
    "Let's understand the concepts of the bubble sort.\n",
    "\n",
    "Concept of Bubble Sort\n",
    "The bubble sort uses a straightforward logic that works by repeating swapping the adjacent elements if they are not in the right order. It compares one pair at a time and swaps if the first element is greater than the second element; otherwise, move further to the next pair of elements for comparison."
   ]
  },
  {
   "cell_type": "markdown",
   "id": "c107f495",
   "metadata": {},
   "source": [
    "# Example -\n",
    "\n",
    "We are creating a list of element, which stores the integer numbers\n",
    "\n",
    "list1 = [5, 3, 8, 6, 7, 2]\n",
    "\n",
    "Here the algorithm sort the elements -\n",
    "\n",
    "## First iteration\n",
    "\n",
    "[5, 3, 8, 6, 7, 2]\n",
    "It compares the first two elements and here 5>3 then swap with each other. Now we get new list is -\n",
    "\n",
    "[3, 5, 8, 6, 7, 2]\n",
    "\n",
    "In second comparison, 5 < 8 then swapping happen -\n",
    "\n",
    "\n",
    "[3, 5, 8, 6, 7, 2]\n",
    "\n",
    "In third comparison, 8>6 then swap -\n",
    "\n",
    "[3, 5, 6, 8, 7, 2]\n",
    "\n",
    "In fourth comparison, 8>7 then swap -\n",
    "\n",
    "[3, 5, 6, 7, 8, 2]\n",
    "\n",
    "\n",
    "In fifth comparison, 8>2 then swap-\n",
    "\n",
    "[3, 5, 6, 7, 2, 8]\n",
    "\n",
    "Here the first iteration is complete and we get the largest element at the end. Now we need to the len(list1) - 1\n",
    "\n",
    "\n",
    "## Second Iteration\n",
    "\n",
    "[3, 5, 6, 7, 2, 8] - > [3, 5, 6, 7, 2, 8] here, 3<5 then no swap taken place\n",
    "\n",
    "[3, 5, 6, 7, 2, 8] - > [3, 5, 6, 7, 2, 8] here, 5<6 then no swap taken place\n",
    "\n",
    "[3, 5, 6, 7, 2, 8] - > [3, 5, 6, 7, 2, 8] here, 6<7 then no swap taken place\n",
    "\n",
    "[3, 5, 6, 7, 2, 8] - > [3, 5, 6, 2, 7, 8] here 7>2 then swap their position. Now\n",
    "\n",
    "[3, 5, 6, 2, 7, 8] - > [3, 5, 6, 2, 7, 8] here 7<8 then no swap taken place.\n",
    "\n",
    "## Third Iteration\n",
    "\n",
    "[3, 5, 6, 2, 7, 8] - > [3, 5, 6, 7, 2, 8] here, 3<5 then no swap taken place\n",
    "\n",
    "[3, 5, 6, 2, 7, 8] - > [3, 5, 6, 7, 2, 8] here, 5<6 then no swap taken place\n",
    "\n",
    "[3, 5, 6, 2, 7, 8] - > [3, 5, 2, 6, 7, 8] here, 6<2 then swap their positions\n",
    "\n",
    "[3, 5, 2, 6, 7, 8] - > [3, 5, 2, 6, 7, 8] here 6<7 then no swap taken place. Now\n",
    "\n",
    "[3, 5, 2, 6, 7, 8] - > [3, 5, 2, 6, 7, 8] here 7<8 then swap their position.\n",
    "\n",
    "It will iterate until the list is sorted.\n",
    "\n",
    "## Fourth Iteration -\n",
    "\n",
    "[3, 5, 2, 6, 7, 8] - > [3, 5, 2, 6, 7, 8]\n",
    "\n",
    "[3, 5, 2, 6, 7, 8] - > [3, 2, 5, 6, 7, 8]\n",
    "\n",
    "[3, 2, 5, 6, 7, 8] - > [3, 2, 5, 6, 7, 8]\n",
    "\n",
    "[3, 2, 5, 6, 7, 8] - > [3, 2, 5, 6, 7, 8]\n",
    "\n",
    "[3, 2, 5, 6, 7, 8] - > [3, 2, 5, 6, 7, 8]\n",
    "\n",
    "## Fifth Iteration\n",
    "\n",
    "[3, 2, 5, 6, 7, 8] - > [2, 3, 5, 6, 7, 8]\n",
    "Check the each element and as we can see that our list is sorted using the bubble sort technique.\n",
    "\n",
    "Implementation in Python Code\n",
    "We have already described the technique of bubble sort. Now, we will implement the logic in the Python code.\n"
   ]
  },
  {
   "cell_type": "code",
   "execution_count": 2,
   "id": "15aa4f72",
   "metadata": {},
   "outputs": [
    {
     "name": "stdout",
     "output_type": "stream",
     "text": [
      "The unsorted list is:  [5, 3, 8, 6, 7, 2]\n",
      "The sorted list is:  [2, 3, 5, 6, 7, 8]\n"
     ]
    }
   ],
   "source": [
    "#Program\n",
    "\n",
    "# Creating a bubble sort function  \n",
    "def bubble_sort(list1):  \n",
    "    # Outer loop for traverse the entire list  \n",
    "    for i in range(0,len(list1)-1):  \n",
    "        for j in range(len(list1)-1):  \n",
    "            if(list1[j]>list1[j+1]):  \n",
    "                temp = list1[j]  \n",
    "                list1[j] = list1[j+1]  \n",
    "                list1[j+1] = temp  \n",
    "    return list1  \n",
    "  \n",
    "list1 = [5, 3, 8, 6, 7, 2]  \n",
    "print(\"The unsorted list is: \", list1)  \n",
    "# Calling the bubble sort function  \n",
    "print(\"The sorted list is: \", bubble_sort(list1))  \n",
    "\n",
    "\n"
   ]
  },
  {
   "cell_type": "markdown",
   "id": "25aed086",
   "metadata": {},
   "source": [
    "# Explanation:\n",
    "\n",
    "In the above code, we have defined a bubble_sort() function which takes list1 as an argument.\n",
    "\n",
    "Inside the function, we have defined two for loop - first for loop iterates the complete list and the second for loop iterates the list and the compare the two elements in every outer loop iterations.\n",
    "The for loop will be terminated when it reaches at the end.\n",
    "We have defined the condition in the inner for loop; if a first index value is greater than the second index value, swap their positions with each other.\n",
    "We called the function and passed a list; it iterated and returned the sorted list."
   ]
  },
  {
   "cell_type": "markdown",
   "id": "fb4dcf7b",
   "metadata": {},
   "source": [
    "## Time Comparison\n",
    "Let's see the time comparison between the above code snippets.\n",
    "\n",
    "Unoptimized Bubble Sort Takes: 0.0106407  \n",
    "Optimize Bubble Sort Takes: 0.0078251  \n",
    "Bubble Sort with a Boolean flag and shortened list Takes: 0.0075207   "
   ]
  },
  {
   "cell_type": "markdown",
   "id": "6865281b",
   "metadata": {},
   "source": [
    "# Selection Sort in Python\n",
    "\n",
    "In this tutorial, we will implement the selection sort algorithm in Python. It is quite straightforward algorithm using the less swapping.\n",
    "\n",
    "In this algorithm, we select the smallest element from an unsorted array in each pass and swap with the beginning of the unsorted array. This process will continue until all the elements are placed at right place. It is simple and an in-place comparison sorting algorithm.\n",
    "\n",
    "## Working of Selection Sort\n",
    "\n",
    "The following are the steps to explain the working of the Selection sort in Python.\n",
    "\n",
    "Let's take an unsorted array to apply the selection sort algorithm.\n"
   ]
  },
  {
   "cell_type": "markdown",
   "id": "ca116594",
   "metadata": {},
   "source": [
    "## Example -\n",
    "\n",
    "Step - 1: Get the length of the array.\n",
    "\n",
    "length = len(array) → 6\n",
    "\n",
    "Step - 2: First, we set the first element as minimum element.\n",
    "\n",
    "Step - 3: Now compare the minimum with the second element. If the second element is smaller than the first, we assign it as a minimum.\n",
    "\n",
    "Again we compare the second element to the third and if the third element is smaller than second, assign it as minimum. This process goes on until we find the last element.\n",
    "\n",
    "Step - 4: After each iteration, minimum element is swapped in front of the unsorted array.\n",
    "\n",
    "Step - 5: The second to third steps are repeated until we get the sorted array.\n",
    "\n"
   ]
  },
  {
   "cell_type": "code",
   "execution_count": 4,
   "id": "1588b45e",
   "metadata": {},
   "outputs": [
    {
     "name": "stdout",
     "output_type": "stream",
     "text": [
      "The sorted array is:  [3, 6, 9, 21, 33]\n"
     ]
    }
   ],
   "source": [
    "#Selection Sort Program using Python\n",
    "#The following code snippet shows the selection sort algorithm implementation using Python.\n",
    "\n",
    "#Code -\n",
    "\n",
    "def selection_sort(array):  \n",
    "    length = len(array)  \n",
    "      \n",
    "    for i in range(length-1):  \n",
    "        minIndex = i  \n",
    "          \n",
    "        for j in range(i+1, length):  \n",
    "            if array[j]<array[minIndex]:  \n",
    "                minIndex = j  \n",
    "                  \n",
    "        array[i], array[minIndex] = array[minIndex], array[i]  \n",
    "          \n",
    "          \n",
    "    return array      \n",
    "array = [21,6,9,33,3]  \n",
    "  \n",
    "print(\"The sorted array is: \", selection_sort(array))  "
   ]
  },
  {
   "cell_type": "markdown",
   "id": "4f645a79",
   "metadata": {},
   "source": [
    "# Explanation -\n",
    "\n",
    "Let's understand the above code -\n",
    "\n",
    "First, we define the selection_sort() function that takes array as an argument.\n",
    "In the function, we get the length of the array which used to determine the number of passes to be made comparing values.\n",
    "As we can see that, we use two loops - outer and inner loop. The outer loop uses to iterate through the values of the list. This loop will iterate to 0 to (length-1). So the first iteration will be perform (5-1) or 4 times. In each iteration, the value of the variable i is assigned to the variable\n",
    "The inner loop uses to compare the each value of right-side element to the other value on the leftmost element. So the second loop starts its iteration from i+1. It will only pick the value that is unsorted.\n",
    "Find the minimum element in the unsorted list and update the minIndex position.\n",
    "Place the value at the beginning of the array.\n",
    "Once the iteration is completed, the sorted array is returned.\n",
    "At last we create an unsorted array and pass to the selection_sort() It prints the sorted array.\n",
    "\n",
    "\n"
   ]
  },
  {
   "cell_type": "markdown",
   "id": "64c20215",
   "metadata": {},
   "source": [
    "# Time Complexity of Selection Sort\n",
    "\n",
    "Time complexity is an essential in term of how much time an algorithm take to sort it. In the selection sort, there are two loops. The outer loop runs for the n times (n is a total number of element).\n",
    "\n",
    "\n",
    "The inner loop is also executed for n times. It compares the rest of the value to outer loop value. So, there is n*n times of execution. Hence the time complexity of merge sort algorithm is O(n2).\n",
    "\n"
   ]
  },
  {
   "cell_type": "code",
   "execution_count": null,
   "id": "e1d70397",
   "metadata": {},
   "outputs": [],
   "source": []
  }
 ],
 "metadata": {
  "kernelspec": {
   "display_name": "Python 3 (ipykernel)",
   "language": "python",
   "name": "python3"
  },
  "language_info": {
   "codemirror_mode": {
    "name": "ipython",
    "version": 3
   },
   "file_extension": ".py",
   "mimetype": "text/x-python",
   "name": "python",
   "nbconvert_exporter": "python",
   "pygments_lexer": "ipython3",
   "version": "3.9.7"
  }
 },
 "nbformat": 4,
 "nbformat_minor": 5
}
