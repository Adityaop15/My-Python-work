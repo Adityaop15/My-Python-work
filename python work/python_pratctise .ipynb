{
 "cells": [
  {
   "cell_type": "code",
   "execution_count": 5,
   "id": "859fb5ca",
   "metadata": {},
   "outputs": [],
   "source": [
    "#if and else conditions questions\n",
    "a=30\n",
    "b=200\n",
    "if a>b:\n",
    "     print(\"b is greater than a\")\n",
    "   "
   ]
  },
  {
   "cell_type": "code",
   "execution_count": null,
   "id": "dbe50006",
   "metadata": {},
   "outputs": [],
   "source": []
  },
  {
   "cell_type": "code",
   "execution_count": 1,
   "id": "954e457e",
   "metadata": {},
   "outputs": [
    {
     "name": "stdout",
     "output_type": "stream",
     "text": [
      "5\n",
      "6\n",
      "7\n",
      "8\n",
      "9\n",
      "10\n",
      "11\n",
      "12\n",
      "13\n",
      "14\n",
      "15\n",
      "16\n",
      "17\n",
      "18\n",
      "19\n"
     ]
    }
   ],
   "source": [
    "x=range(5,20)\n",
    "for i in x:\n",
    "    print(i)"
   ]
  },
  {
   "cell_type": "code",
   "execution_count": 2,
   "id": "83293670",
   "metadata": {},
   "outputs": [
    {
     "name": "stdout",
     "output_type": "stream",
     "text": [
      "5\n",
      "8\n",
      "11\n",
      "14\n",
      "17\n"
     ]
    }
   ],
   "source": [
    "x=range(5,20,3)\n",
    "for i in x:\n",
    "    print(i)"
   ]
  },
  {
   "cell_type": "code",
   "execution_count": 9,
   "id": "c12f91a3",
   "metadata": {},
   "outputs": [
    {
     "ename": "TypeError",
     "evalue": "int() argument must be a string, a bytes-like object or a number, not 'range'",
     "output_type": "error",
     "traceback": [
      "\u001b[1;31m---------------------------------------------------------------------------\u001b[0m",
      "\u001b[1;31mTypeError\u001b[0m                                 Traceback (most recent call last)",
      "\u001b[1;32m~\\AppData\\Local\\Temp/ipykernel_12416/627507256.py\u001b[0m in \u001b[0;36m<module>\u001b[1;34m\u001b[0m\n\u001b[0;32m      1\u001b[0m \u001b[0mx\u001b[0m\u001b[1;33m=\u001b[0m\u001b[0mrange\u001b[0m\u001b[1;33m(\u001b[0m\u001b[1;36m6\u001b[0m\u001b[1;33m)\u001b[0m\u001b[1;33m\u001b[0m\u001b[1;33m\u001b[0m\u001b[0m\n\u001b[1;32m----> 2\u001b[1;33m \u001b[0msum\u001b[0m \u001b[1;33m=\u001b[0m\u001b[0mint\u001b[0m\u001b[1;33m(\u001b[0m\u001b[0mx\u001b[0m\u001b[1;33m)\u001b[0m\u001b[1;33m+\u001b[0m\u001b[1;36m1\u001b[0m\u001b[1;33m\u001b[0m\u001b[1;33m\u001b[0m\u001b[0m\n\u001b[0m\u001b[0;32m      3\u001b[0m \u001b[1;32mfor\u001b[0m \u001b[0msum\u001b[0m \u001b[1;32min\u001b[0m \u001b[0mx\u001b[0m\u001b[1;33m:\u001b[0m\u001b[1;33m\u001b[0m\u001b[1;33m\u001b[0m\u001b[0m\n\u001b[0;32m      4\u001b[0m     \u001b[0mprint\u001b[0m\u001b[1;33m(\u001b[0m\u001b[0msum\u001b[0m\u001b[1;33m)\u001b[0m\u001b[1;33m\u001b[0m\u001b[1;33m\u001b[0m\u001b[0m\n\u001b[0;32m      5\u001b[0m \u001b[1;33m\u001b[0m\u001b[0m\n",
      "\u001b[1;31mTypeError\u001b[0m: int() argument must be a string, a bytes-like object or a number, not 'range'"
     ]
    }
   ],
   "source": [
    "x=range(6)\n",
    "sum =int(x)+1\n",
    "for sum in x:\n",
    "    print(sum)\n",
    "    "
   ]
  },
  {
   "cell_type": "code",
   "execution_count": 1,
   "id": "ad2dbb43",
   "metadata": {},
   "outputs": [
    {
     "name": "stdout",
     "output_type": "stream",
     "text": [
      "1\n",
      "2\n",
      "3\n",
      "4\n",
      "5\n"
     ]
    }
   ],
   "source": [
    "i=1\n",
    "while i<6:\n",
    "    print(i)\n",
    "    i+=1\n",
    "    "
   ]
  },
  {
   "cell_type": "code",
   "execution_count": null,
   "id": "045c60ac",
   "metadata": {},
   "outputs": [],
   "source": [
    "#data types ,str,boolean,float,complex,integer \n",
    "convert int into str, float,complex,"
   ]
  },
  {
   "cell_type": "code",
   "execution_count": 16,
   "id": "caba9d3f",
   "metadata": {},
   "outputs": [
    {
     "data": {
      "text/plain": [
       "'5'"
      ]
     },
     "execution_count": 16,
     "metadata": {},
     "output_type": "execute_result"
    }
   ],
   "source": [
    "#convert int, into str, float,complex,boolean\n",
    "#int covert into strint\n",
    "a=5\n",
    "str(a)\n"
   ]
  },
  {
   "cell_type": "code",
   "execution_count": 15,
   "id": "eff266d1",
   "metadata": {},
   "outputs": [
    {
     "data": {
      "text/plain": [
       "4.0"
      ]
     },
     "execution_count": 15,
     "metadata": {},
     "output_type": "execute_result"
    }
   ],
   "source": [
    "#int covert into float\n",
    "\n",
    "float(a)\n"
   ]
  },
  {
   "cell_type": "code",
   "execution_count": 17,
   "id": "b899520e",
   "metadata": {},
   "outputs": [
    {
     "data": {
      "text/plain": [
       "(5+0j)"
      ]
     },
     "execution_count": 17,
     "metadata": {},
     "output_type": "execute_result"
    }
   ],
   "source": [
    "#int covert into complex\n",
    "complex(a)\n"
   ]
  },
  {
   "cell_type": "code",
   "execution_count": 18,
   "id": "5abf88fc",
   "metadata": {},
   "outputs": [
    {
     "data": {
      "text/plain": [
       "True"
      ]
     },
     "execution_count": 18,
     "metadata": {},
     "output_type": "execute_result"
    }
   ],
   "source": [
    "#int covert into boolean\n",
    "bool(a)\n"
   ]
  },
  {
   "cell_type": "code",
   "execution_count": 19,
   "id": "8e0234c5",
   "metadata": {},
   "outputs": [
    {
     "data": {
      "text/plain": [
       "5"
      ]
     },
     "execution_count": 19,
     "metadata": {},
     "output_type": "execute_result"
    }
   ],
   "source": [
    "#convert float  into str, int,complex,boolean\n",
    "#float convert into int\n",
    "a=5.5\n",
    "int(a)"
   ]
  },
  {
   "cell_type": "code",
   "execution_count": 48,
   "id": "118a9e9b",
   "metadata": {},
   "outputs": [
    {
     "data": {
      "text/plain": [
       "'5.5'"
      ]
     },
     "execution_count": 48,
     "metadata": {},
     "output_type": "execute_result"
    }
   ],
   "source": [
    "#float convert into str\n",
    "a=5.5\n",
    "str(a)\n"
   ]
  },
  {
   "cell_type": "code",
   "execution_count": 49,
   "id": "89007425",
   "metadata": {},
   "outputs": [
    {
     "data": {
      "text/plain": [
       "(5.5+0j)"
      ]
     },
     "execution_count": 49,
     "metadata": {},
     "output_type": "execute_result"
    }
   ],
   "source": [
    "#float convert into complex\n",
    "a=5.5\n",
    "complex(a)"
   ]
  },
  {
   "cell_type": "code",
   "execution_count": 50,
   "id": "f260f41f",
   "metadata": {},
   "outputs": [
    {
     "data": {
      "text/plain": [
       "True"
      ]
     },
     "execution_count": 50,
     "metadata": {},
     "output_type": "execute_result"
    }
   ],
   "source": [
    "#float convert into bool\n",
    "a=5.5\n",
    "bool(a)"
   ]
  },
  {
   "cell_type": "code",
   "execution_count": 23,
   "id": "5151605a",
   "metadata": {},
   "outputs": [
    {
     "ename": "ValueError",
     "evalue": "invalid literal for int() with base 10: 'aditya'",
     "output_type": "error",
     "traceback": [
      "\u001b[1;31m---------------------------------------------------------------------------\u001b[0m",
      "\u001b[1;31mValueError\u001b[0m                                Traceback (most recent call last)",
      "\u001b[1;32m~\\AppData\\Local\\Temp/ipykernel_14788/2583807381.py\u001b[0m in \u001b[0;36m<module>\u001b[1;34m\u001b[0m\n\u001b[0;32m      2\u001b[0m \u001b[1;31m#string convert into int\u001b[0m\u001b[1;33m\u001b[0m\u001b[1;33m\u001b[0m\u001b[0m\n\u001b[0;32m      3\u001b[0m \u001b[0ma\u001b[0m\u001b[1;33m=\u001b[0m\u001b[1;34m\"aditya\"\u001b[0m\u001b[1;33m\u001b[0m\u001b[1;33m\u001b[0m\u001b[0m\n\u001b[1;32m----> 4\u001b[1;33m \u001b[0mint\u001b[0m\u001b[1;33m(\u001b[0m\u001b[0ma\u001b[0m\u001b[1;33m)\u001b[0m\u001b[1;33m\u001b[0m\u001b[1;33m\u001b[0m\u001b[0m\n\u001b[0m",
      "\u001b[1;31mValueError\u001b[0m: invalid literal for int() with base 10: 'aditya'"
     ]
    }
   ],
   "source": [
    "#convert string into float, int,complex,boolean\n",
    "#string convert into int\n",
    "a=\"aditya\"\n",
    "int(a)\n"
   ]
  },
  {
   "cell_type": "code",
   "execution_count": 28,
   "id": "bbade38d",
   "metadata": {},
   "outputs": [
    {
     "ename": "ValueError",
     "evalue": "could not convert string to float: 'aditya'",
     "output_type": "error",
     "traceback": [
      "\u001b[1;31m---------------------------------------------------------------------------\u001b[0m",
      "\u001b[1;31mValueError\u001b[0m                                Traceback (most recent call last)",
      "\u001b[1;32m~\\AppData\\Local\\Temp/ipykernel_14788/531303672.py\u001b[0m in \u001b[0;36m<module>\u001b[1;34m\u001b[0m\n\u001b[0;32m      1\u001b[0m \u001b[1;31m#string convert into int\u001b[0m\u001b[1;33m\u001b[0m\u001b[1;33m\u001b[0m\u001b[0m\n\u001b[0;32m      2\u001b[0m \u001b[0ma\u001b[0m\u001b[1;33m=\u001b[0m\u001b[1;34m\"aditya\"\u001b[0m\u001b[1;33m\u001b[0m\u001b[1;33m\u001b[0m\u001b[0m\n\u001b[1;32m----> 3\u001b[1;33m \u001b[0mfloat\u001b[0m\u001b[1;33m(\u001b[0m\u001b[0ma\u001b[0m\u001b[1;33m)\u001b[0m\u001b[1;33m\u001b[0m\u001b[1;33m\u001b[0m\u001b[0m\n\u001b[0m",
      "\u001b[1;31mValueError\u001b[0m: could not convert string to float: 'aditya'"
     ]
    }
   ],
   "source": [
    "#string convert into float\n",
    "a=\"aditya\"\n",
    "float(a)\n"
   ]
  },
  {
   "cell_type": "code",
   "execution_count": 47,
   "id": "1940ee9f",
   "metadata": {},
   "outputs": [
    {
     "ename": "ValueError",
     "evalue": "complex() arg is a malformed string",
     "output_type": "error",
     "traceback": [
      "\u001b[1;31m---------------------------------------------------------------------------\u001b[0m",
      "\u001b[1;31mValueError\u001b[0m                                Traceback (most recent call last)",
      "\u001b[1;32m~\\AppData\\Local\\Temp/ipykernel_14788/2929482354.py\u001b[0m in \u001b[0;36m<module>\u001b[1;34m\u001b[0m\n\u001b[0;32m      1\u001b[0m \u001b[1;31m#string convert into compleax\u001b[0m\u001b[1;33m\u001b[0m\u001b[1;33m\u001b[0m\u001b[0m\n\u001b[0;32m      2\u001b[0m \u001b[0ma\u001b[0m\u001b[1;33m=\u001b[0m\u001b[1;34m\"aditya\"\u001b[0m\u001b[1;33m\u001b[0m\u001b[1;33m\u001b[0m\u001b[0m\n\u001b[1;32m----> 3\u001b[1;33m \u001b[0mcomplex\u001b[0m\u001b[1;33m(\u001b[0m\u001b[0ma\u001b[0m\u001b[1;33m)\u001b[0m\u001b[1;33m\u001b[0m\u001b[1;33m\u001b[0m\u001b[0m\n\u001b[0m",
      "\u001b[1;31mValueError\u001b[0m: complex() arg is a malformed string"
     ]
    }
   ],
   "source": [
    "#string convert into compleax\n",
    "a=\"aditya\"\n",
    "complex(a)\n"
   ]
  },
  {
   "cell_type": "code",
   "execution_count": 35,
   "id": "d50472b6",
   "metadata": {},
   "outputs": [
    {
     "data": {
      "text/plain": [
       "'True'"
      ]
     },
     "execution_count": 35,
     "metadata": {},
     "output_type": "execute_result"
    }
   ],
   "source": [
    "\n",
    "#string convert into boolean\n",
    "a=True\n",
    "str(a)"
   ]
  },
  {
   "cell_type": "code",
   "execution_count": 33,
   "id": "7fc090b8",
   "metadata": {},
   "outputs": [
    {
     "data": {
      "text/plain": [
       "1"
      ]
     },
     "execution_count": 33,
     "metadata": {},
     "output_type": "execute_result"
    }
   ],
   "source": [
    "#convert boolean into float, int,complex,string\n",
    "#boolean convert into int\n",
    "a=True\n",
    "int(a)"
   ]
  },
  {
   "cell_type": "code",
   "execution_count": 32,
   "id": "7c03bc88",
   "metadata": {},
   "outputs": [
    {
     "data": {
      "text/plain": [
       "1.0"
      ]
     },
     "execution_count": 32,
     "metadata": {},
     "output_type": "execute_result"
    }
   ],
   "source": [
    "#boolean convert into int\n",
    "a=True\n",
    "float(a)"
   ]
  },
  {
   "cell_type": "code",
   "execution_count": 36,
   "id": "af20ce80",
   "metadata": {},
   "outputs": [
    {
     "data": {
      "text/plain": [
       "'True'"
      ]
     },
     "execution_count": 36,
     "metadata": {},
     "output_type": "execute_result"
    }
   ],
   "source": [
    "#boolean convert into string\n",
    "a=True\n",
    "str(a)"
   ]
  },
  {
   "cell_type": "code",
   "execution_count": 37,
   "id": "85191c0c",
   "metadata": {},
   "outputs": [
    {
     "data": {
      "text/plain": [
       "(1+0j)"
      ]
     },
     "execution_count": 37,
     "metadata": {},
     "output_type": "execute_result"
    }
   ],
   "source": [
    "#boolean convert into compleax\n",
    "a=True\n",
    "complex(a)"
   ]
  },
  {
   "cell_type": "code",
   "execution_count": 45,
   "id": "37f6672a",
   "metadata": {},
   "outputs": [
    {
     "data": {
      "text/plain": [
       "'(1+0j)'"
      ]
     },
     "execution_count": 45,
     "metadata": {},
     "output_type": "execute_result"
    }
   ],
   "source": [
    "#complex into string\n",
    "str(a)"
   ]
  },
  {
   "cell_type": "code",
   "execution_count": null,
   "id": "371e2deb",
   "metadata": {},
   "outputs": [],
   "source": [
    "l =[\"cdac\",\"patna\",\"pgdai\",\"course\"]\n",
    "\n",
    "for i in  l:\n",
    "    if len(i)> 4:\n",
    "        l.append(i.upper())\n",
    "    else:\n",
    "        l.append(i)\n"
   ]
  },
  {
   "cell_type": "code",
   "execution_count": 3,
   "id": "8be7c4a6",
   "metadata": {},
   "outputs": [
    {
     "name": "stdout",
     "output_type": "stream",
     "text": [
      "x = 10\n",
      "y = 5\n"
     ]
    }
   ],
   "source": [
    "#swapping two number\n",
    "x = 5\n",
    "y = 10\n",
    "\n",
    "x, y = y, x\n",
    "print(\"x =\", x)\n",
    "print(\"y =\", y)"
   ]
  },
  {
   "cell_type": "code",
   "execution_count": 10,
   "id": "14680c97",
   "metadata": {},
   "outputs": [
    {
     "name": "stdout",
     "output_type": "stream",
     "text": [
      "number is a prime\n"
     ]
    }
   ],
   "source": [
    "num=7\n",
    "for i in range(2,num):\n",
    "    if num%1==0:\n",
    "        print(\"number is a prime\")\n",
    "    \n",
    "    break\n",
    "else:\n",
    "    print(\"not a prime\")\n"
   ]
  },
  {
   "cell_type": "code",
   "execution_count": 4,
   "id": "c7763805",
   "metadata": {},
   "outputs": [
    {
     "name": "stdout",
     "output_type": "stream",
     "text": [
      "[2, 3, 4, 5]\n"
     ]
    }
   ],
   "source": [
    "l=[1,2,3,4,5]\n",
    "l.remove(1)\n",
    "print(l)"
   ]
  },
  {
   "cell_type": "code",
   "execution_count": 26,
   "id": "37dadf31",
   "metadata": {},
   "outputs": [
    {
     "data": {
      "text/plain": [
       "3"
      ]
     },
     "execution_count": 26,
     "metadata": {},
     "output_type": "execute_result"
    }
   ],
   "source": [
    "l=[1,2,3,4,5,2,6,7,7]\n",
    "l.pop(2)"
   ]
  },
  {
   "cell_type": "code",
   "execution_count": 34,
   "id": "8bd51efa",
   "metadata": {},
   "outputs": [],
   "source": [
    "l=[1,1,2,3,4,3,4,6,3]\n",
    "l.extend(l)"
   ]
  },
  {
   "cell_type": "code",
   "execution_count": 41,
   "id": "983a5c71",
   "metadata": {},
   "outputs": [
    {
     "data": {
      "text/plain": [
       "[1, 2]"
      ]
     },
     "execution_count": 41,
     "metadata": {},
     "output_type": "execute_result"
    }
   ],
   "source": [
    "l=[1,2,3,4,5]\n",
    "l[:2]"
   ]
  },
  {
   "cell_type": "code",
   "execution_count": 40,
   "id": "0967b92a",
   "metadata": {},
   "outputs": [
    {
     "data": {
      "text/plain": [
       "[3, 4, 5]"
      ]
     },
     "execution_count": 40,
     "metadata": {},
     "output_type": "execute_result"
    }
   ],
   "source": [
    "l[2:]"
   ]
  },
  {
   "cell_type": "code",
   "execution_count": 42,
   "id": "a246101f",
   "metadata": {},
   "outputs": [
    {
     "data": {
      "text/plain": [
       "[2]"
      ]
     },
     "execution_count": 42,
     "metadata": {},
     "output_type": "execute_result"
    }
   ],
   "source": [
    "l[1:2]"
   ]
  },
  {
   "cell_type": "code",
   "execution_count": 39,
   "id": "32dcb755",
   "metadata": {},
   "outputs": [
    {
     "data": {
      "text/plain": [
       "[5, 4, 3, 2, 1]"
      ]
     },
     "execution_count": 39,
     "metadata": {},
     "output_type": "execute_result"
    }
   ],
   "source": [
    "l[::-1]"
   ]
  },
  {
   "cell_type": "code",
   "execution_count": 45,
   "id": "45748ec4",
   "metadata": {},
   "outputs": [
    {
     "data": {
      "text/plain": [
       "4"
      ]
     },
     "execution_count": 45,
     "metadata": {},
     "output_type": "execute_result"
    }
   ],
   "source": [
    "l.index(5)"
   ]
  },
  {
   "cell_type": "code",
   "execution_count": 2,
   "id": "4d9e40fa",
   "metadata": {},
   "outputs": [
    {
     "ename": "SyntaxError",
     "evalue": "invalid syntax (Temp/ipykernel_32496/1226213188.py, line 3)",
     "output_type": "error",
     "traceback": [
      "\u001b[1;36m  File \u001b[1;32m\"C:\\Users\\DELL\\AppData\\Local\\Temp/ipykernel_32496/1226213188.py\"\u001b[1;36m, line \u001b[1;32m3\u001b[0m\n\u001b[1;33m    d{}\u001b[0m\n\u001b[1;37m     ^\u001b[0m\n\u001b[1;31mSyntaxError\u001b[0m\u001b[1;31m:\u001b[0m invalid syntax\n"
     ]
    }
   ],
   "source": [
    "keys= [\"ten\", \"twenty\", \"thirty\"]\n",
    "value= [10, 40, 30]\n",
    "d{}\n",
    "for i in range(len(keys)):\n",
    "    d[key[i]]=value\n",
    "    \n",
    "  \n",
    "\n",
    "\n",
    "\n"
   ]
  },
  {
   "cell_type": "code",
   "execution_count": 12,
   "id": "1daf2c69",
   "metadata": {},
   "outputs": [],
   "source": [
    "dict1 = {\"ten\": 10, \"twenty\": 20}\n",
    "dict2 = {'a': 40, 'b': 50}\n",
    "dict1.update(dict2)\n"
   ]
  },
  {
   "cell_type": "code",
   "execution_count": 10,
   "id": "d27e442d",
   "metadata": {},
   "outputs": [
    {
     "ename": "IndentationError",
     "evalue": "expected an indented block (Temp/ipykernel_20260/4081466531.py, line 8)",
     "output_type": "error",
     "traceback": [
      "\u001b[1;36m  File \u001b[1;32m\"C:\\Users\\DELL\\AppData\\Local\\Temp/ipykernel_20260/4081466531.py\"\u001b[1;36m, line \u001b[1;32m8\u001b[0m\n\u001b[1;33m    d3[i]=(j+y)\u001b[0m\n\u001b[1;37m               ^\u001b[0m\n\u001b[1;31mIndentationError\u001b[0m\u001b[1;31m:\u001b[0m expected an indented block\n"
     ]
    }
   ],
   "source": [
    "d1={\"a\":100,\"b\":200,\"c\":300}\n",
    "d2={\"a\":300,\"b\":200,\"c\":400}\n",
    "#program to combine two dictionary adding valuse key\n",
    "d3 = {}\n",
    "for i in d1.keys():\n",
    "    if i in d2.key():\n",
    "        op[i]\n",
    "    "
   ]
  },
  {
   "cell_type": "code",
   "execution_count": 18,
   "id": "b19458f1",
   "metadata": {},
   "outputs": [
    {
     "name": "stdout",
     "output_type": "stream",
     "text": [
      "{'i': 2, ' ': 5, 's': 1, 't': 2, 'u': 1, 'd': 2, 'y': 1, 'n': 2, 'c': 2, 'a': 3, 'p': 1}\n"
     ]
    }
   ],
   "source": [
    "#program to create a dicitonary from a string \n",
    "s=\"cdac\"\n",
    "#with key =letter in string\n",
    "#value=count of those letter in string\n",
    "s=\"i study in cdac patna \"\n",
    "d = {}\n",
    "  \n",
    "for i in s:\n",
    "    d[i]=s.count(i)\n",
    "print (d)\n",
    "         \n",
    "    \n",
    "    \n"
   ]
  },
  {
   "cell_type": "code",
   "execution_count": null,
   "id": "61b1f6db",
   "metadata": {},
   "outputs": [],
   "source": [
    "d={\"fee\"=5000,\"no of students\":100,\"capicity\";250,\"pass marks\":40}\n",
    "#program to find the sum of all values in dict"
   ]
  },
  {
   "cell_type": "code",
   "execution_count": 9,
   "id": "65ee14c9",
   "metadata": {},
   "outputs": [
    {
     "name": "stdout",
     "output_type": "stream",
     "text": [
      " unique value are: 5\n"
     ]
    }
   ],
   "source": [
    "list1 = [1, 2, 2, 5, 8, 4, 4, 8]\n",
    "l1 = []\n",
    "count = 0\n",
    "for i in list1:\n",
    "    if item not in l1:\n",
    "        count += 1\n",
    "        l1.append(i)\n",
    "print(\" unique value are:\", count)"
   ]
  },
  {
   "cell_type": "code",
   "execution_count": 78,
   "id": "3b5cd0a6",
   "metadata": {},
   "outputs": [
    {
     "name": "stdout",
     "output_type": "stream",
     "text": [
      "a2\n",
      "b2\n",
      "<class 'int'>\n",
      "4\n"
     ]
    }
   ],
   "source": [
    "a=int(input(\"a\"))\n",
    "b=int(input(\"b\"))\n",
    "print(type(a))\n",
    "s=a+b\n",
    "print(s)"
   ]
  },
  {
   "cell_type": "code",
   "execution_count": 7,
   "id": "3f339091",
   "metadata": {},
   "outputs": [
    {
     "name": "stdout",
     "output_type": "stream",
     "text": [
      "cdac\n",
      "course\n"
     ]
    }
   ],
   "source": [
    "a=[\"cdac\",\"course\",\"patna\"]\n",
    "\n",
    "for i in a:\n",
    "    if i.startswith(\"c\"):\n",
    "        print(i)\n",
    "        \n",
    "    \n",
    "    "
   ]
  },
  {
   "cell_type": "code",
   "execution_count": 4,
   "id": "8807cd46",
   "metadata": {},
   "outputs": [
    {
     "name": "stdout",
     "output_type": "stream",
     "text": [
      "[1, 2, 3, 4, 5, 6, 7, 1, 8, 1]\n"
     ]
    }
   ],
   "source": [
    "l=[1,2,3,4,5,6,7,1,8,1] \n",
    "for i in l :\n",
    "    print\n",
    "\n",
    "print(l)"
   ]
  },
  {
   "cell_type": "code",
   "execution_count": 9,
   "id": "4e0d8f60",
   "metadata": {},
   "outputs": [
    {
     "name": "stdout",
     "output_type": "stream",
     "text": [
      "<class 'dict'>\n"
     ]
    }
   ],
   "source": [
    "                     #SET\n",
    "\n",
    "d={}              # empty set\n",
    "print(type(d))"
   ]
  },
  {
   "cell_type": "code",
   "execution_count": 11,
   "id": "9b3543d4",
   "metadata": {},
   "outputs": [
    {
     "name": "stdout",
     "output_type": "stream",
     "text": [
      "<class 'set'>\n"
     ]
    }
   ],
   "source": [
    "s=set()\n",
    "print(type(s))"
   ]
  },
  {
   "cell_type": "code",
   "execution_count": 14,
   "id": "035acace",
   "metadata": {},
   "outputs": [
    {
     "name": "stdout",
     "output_type": "stream",
     "text": [
      "<class 'set'>\n"
     ]
    }
   ],
   "source": [
    "x={\"cdac\"}\n",
    "print(type(x))"
   ]
  },
  {
   "cell_type": "code",
   "execution_count": 16,
   "id": "1ea0624d",
   "metadata": {},
   "outputs": [
    {
     "name": "stdout",
     "output_type": "stream",
     "text": [
      "{'cdac', 'patna'}\n"
     ]
    }
   ],
   "source": [
    "s=set(['cdac','patna'])\n",
    "print(s)"
   ]
  },
  {
   "cell_type": "code",
   "execution_count": 19,
   "id": "9d0554e4",
   "metadata": {},
   "outputs": [
    {
     "name": "stdout",
     "output_type": "stream",
     "text": [
      "2\n"
     ]
    }
   ],
   "source": [
    "print(len(s))"
   ]
  },
  {
   "cell_type": "code",
   "execution_count": 21,
   "id": "e990a9d7",
   "metadata": {},
   "outputs": [
    {
     "name": "stdout",
     "output_type": "stream",
     "text": [
      "{'cdac'}\n"
     ]
    }
   ],
   "source": [
    "#set(sequence -str/list/tuple)\n",
    "s={\"cdac\"}\n",
    "print(s)"
   ]
  },
  {
   "cell_type": "code",
   "execution_count": 23,
   "id": "8e7064bd",
   "metadata": {},
   "outputs": [
    {
     "name": "stdout",
     "output_type": "stream",
     "text": [
      "1\n",
      "2\n",
      "cdac\n",
      "patna\n",
      "True\n"
     ]
    }
   ],
   "source": [
    "#order is random\n",
    "s={\"cdac\",\"patna\",1,2}\n",
    "for i in s:\n",
    "    print(i)\n",
    "#check if an element exist\n",
    "print(\"patna\"in s)\n",
    "    "
   ]
  },
  {
   "cell_type": "code",
   "execution_count": 26,
   "id": "f647f9cd",
   "metadata": {},
   "outputs": [
    {
     "data": {
      "text/plain": [
       "{1, 2, 'cdac', 'course', 'patna'}"
      ]
     },
     "execution_count": 26,
     "metadata": {},
     "output_type": "execute_result"
    }
   ],
   "source": [
    "#element add in a set\n",
    "s.add(\"course\")         # we cant add a list in set \n",
    "s"
   ]
  },
  {
   "cell_type": "code",
   "execution_count": 28,
   "id": "887170ac",
   "metadata": {},
   "outputs": [
    {
     "data": {
      "text/plain": [
       "{1, 2, 4, 5, 6, 'cdac', 'course', 'patna'}"
      ]
     },
     "execution_count": 28,
     "metadata": {},
     "output_type": "execute_result"
    }
   ],
   "source": [
    "s.update([4,5,6,])\n",
    "s"
   ]
  },
  {
   "cell_type": "code",
   "execution_count": 30,
   "id": "2bb45804",
   "metadata": {},
   "outputs": [
    {
     "data": {
      "text/plain": [
       "{'pgdi,pgdiot'}"
      ]
     },
     "execution_count": 30,
     "metadata": {},
     "output_type": "execute_result"
    }
   ],
   "source": [
    "s1={ \"pgdi,pgdiot\"}\n",
    "s.update(s1)  # we can pass any squence in update method to add multiple element\n",
    "s1              # it can be added randomly \n"
   ]
  },
  {
   "cell_type": "code",
   "execution_count": 33,
   "id": "b3c1dbf3",
   "metadata": {},
   "outputs": [
    {
     "data": {
      "text/plain": [
       "{'pgdi', 'pgdi,pgdiot'}"
      ]
     },
     "execution_count": 33,
     "metadata": {},
     "output_type": "execute_result"
    }
   ],
   "source": [
    "s1={ \"pgdi,pgdiot\",\"pgdi\"}\n",
    "s1"
   ]
  },
  {
   "cell_type": "code",
   "execution_count": 34,
   "id": "a556be31",
   "metadata": {},
   "outputs": [
    {
     "data": {
      "text/plain": [
       "{1, 2, 4, 5, 6, 'cdac', 'patna', 'pgdi,pgdiot'}"
      ]
     },
     "execution_count": 34,
     "metadata": {},
     "output_type": "execute_result"
    }
   ],
   "source": [
    "#removing element in the set \n",
    "#remove methods \n",
    "s.remove(\"course\")\n",
    "s"
   ]
  },
  {
   "cell_type": "code",
   "execution_count": 36,
   "id": "f5e40390",
   "metadata": {},
   "outputs": [
    {
     "data": {
      "text/plain": [
       "{1, 2, 4, 5, 6, 'cdac', 'patna', 'pgdi,pgdiot'}"
      ]
     },
     "execution_count": 36,
     "metadata": {},
     "output_type": "execute_result"
    }
   ],
   "source": [
    "# discard methos \n",
    "s.discard((45,56)) # if element is not present ,it donest nt thorow error\n",
    "                   #if element is not present , it throw error \n",
    "s"
   ]
  },
  {
   "cell_type": "code",
   "execution_count": 37,
   "id": "db2e9e94",
   "metadata": {},
   "outputs": [
    {
     "ename": "TypeError",
     "evalue": "set.remove() takes exactly one argument (0 given)",
     "output_type": "error",
     "traceback": [
      "\u001b[1;31m---------------------------------------------------------------------------\u001b[0m",
      "\u001b[1;31mTypeError\u001b[0m                                 Traceback (most recent call last)",
      "\u001b[1;32m~\\AppData\\Local\\Temp/ipykernel_1560/4242302164.py\u001b[0m in \u001b[0;36m<module>\u001b[1;34m\u001b[0m\n\u001b[1;32m----> 1\u001b[1;33m \u001b[0ms\u001b[0m\u001b[1;33m.\u001b[0m\u001b[0mremove\u001b[0m\u001b[1;33m(\u001b[0m\u001b[1;33m)\u001b[0m\u001b[1;33m\u001b[0m\u001b[1;33m\u001b[0m\u001b[0m\n\u001b[0m\u001b[0;32m      2\u001b[0m \u001b[0ms\u001b[0m\u001b[1;33m\u001b[0m\u001b[1;33m\u001b[0m\u001b[0m\n",
      "\u001b[1;31mTypeError\u001b[0m: set.remove() takes exactly one argument (0 given)"
     ]
    }
   ],
   "source": [
    "s.remove()\n",
    "s"
   ]
  },
  {
   "cell_type": "code",
   "execution_count": 38,
   "id": "7b0cb280",
   "metadata": {},
   "outputs": [
    {
     "data": {
      "text/plain": [
       "1"
      ]
     },
     "execution_count": 38,
     "metadata": {},
     "output_type": "execute_result"
    }
   ],
   "source": [
    "#pop methods\n",
    "s.pop()"
   ]
  },
  {
   "cell_type": "code",
   "execution_count": 39,
   "id": "dd8e1a53",
   "metadata": {},
   "outputs": [
    {
     "data": {
      "text/plain": [
       "set()"
      ]
     },
     "execution_count": 39,
     "metadata": {},
     "output_type": "execute_result"
    }
   ],
   "source": [
    "#clear & del\n",
    "s.clear()\n",
    "s"
   ]
  },
  {
   "cell_type": "code",
   "execution_count": 40,
   "id": "9095e196",
   "metadata": {},
   "outputs": [
    {
     "ename": "NameError",
     "evalue": "name 's' is not defined",
     "output_type": "error",
     "traceback": [
      "\u001b[1;31m---------------------------------------------------------------------------\u001b[0m",
      "\u001b[1;31mNameError\u001b[0m                                 Traceback (most recent call last)",
      "\u001b[1;32m~\\AppData\\Local\\Temp/ipykernel_1560/2967571837.py\u001b[0m in \u001b[0;36m<module>\u001b[1;34m\u001b[0m\n\u001b[0;32m      1\u001b[0m \u001b[1;32mdel\u001b[0m\u001b[1;33m(\u001b[0m\u001b[0ms\u001b[0m\u001b[1;33m)\u001b[0m\u001b[1;33m\u001b[0m\u001b[1;33m\u001b[0m\u001b[0m\n\u001b[1;32m----> 2\u001b[1;33m \u001b[0ms\u001b[0m\u001b[1;33m\u001b[0m\u001b[1;33m\u001b[0m\u001b[0m\n\u001b[0m",
      "\u001b[1;31mNameError\u001b[0m: name 's' is not defined"
     ]
    }
   ],
   "source": [
    "del(s)\n",
    "s"
   ]
  },
  {
   "cell_type": "code",
   "execution_count": null,
   "id": "8b45671d",
   "metadata": {},
   "outputs": [],
   "source": [
    "#special methods in set \n",
    "#union -combined the element\n",
    "\n",
    "#intersection- common element\n",
    "#difference - a-b\n",
    "#symmertic differecence-\n",
    "#disadjoint- there is nothing commonn in 2 set\n",
    "#subset- b element present in a\n",
    "#superset- then a is super set \n",
    "\n"
   ]
  },
  {
   "cell_type": "code",
   "execution_count": 42,
   "id": "5d678aba",
   "metadata": {},
   "outputs": [
    {
     "data": {
      "text/plain": [
       "{1, 2, 3, 4, 5, 6, 7, 8}"
      ]
     },
     "execution_count": 42,
     "metadata": {},
     "output_type": "execute_result"
    }
   ],
   "source": [
    "#special methods in set \n",
    "s1={1,2,3,4,5,6,7}\n",
    "s2={4,5,6,7,8}\n",
    "s3= s1.union(s2)\n",
    "s3\n"
   ]
  },
  {
   "cell_type": "code",
   "execution_count": 44,
   "id": "e1f81311",
   "metadata": {},
   "outputs": [
    {
     "data": {
      "text/plain": [
       "{4, 5, 6, 7}"
      ]
     },
     "execution_count": 44,
     "metadata": {},
     "output_type": "execute_result"
    }
   ],
   "source": [
    "s4=s1.intersection(s2)\n",
    "s4\n"
   ]
  },
  {
   "cell_type": "code",
   "execution_count": 45,
   "id": "b0f8010b",
   "metadata": {},
   "outputs": [
    {
     "data": {
      "text/plain": [
       "{4, 5, 6, 7, 8}"
      ]
     },
     "execution_count": 45,
     "metadata": {},
     "output_type": "execute_result"
    }
   ],
   "source": [
    "s5=s1.difference(s2)\n",
    "s2"
   ]
  },
  {
   "cell_type": "code",
   "execution_count": 46,
   "id": "9e062f40",
   "metadata": {},
   "outputs": [
    {
     "data": {
      "text/plain": [
       "{1, 2, 3, 8}"
      ]
     },
     "execution_count": 46,
     "metadata": {},
     "output_type": "execute_result"
    }
   ],
   "source": [
    "s6=s1.symmetric_difference(s2)\n",
    "s6\n",
    "                        "
   ]
  },
  {
   "cell_type": "code",
   "execution_count": 49,
   "id": "70e9e825",
   "metadata": {},
   "outputs": [
    {
     "data": {
      "text/plain": [
       "True"
      ]
     },
     "execution_count": 49,
     "metadata": {},
     "output_type": "execute_result"
    }
   ],
   "source": [
    "s1={1,2,3,4,5}\n",
    "s2={1,2,3,4}\n",
    "s1.issuperset(s2)\n"
   ]
  },
  {
   "cell_type": "code",
   "execution_count": 51,
   "id": "f0652022",
   "metadata": {},
   "outputs": [
    {
     "data": {
      "text/plain": [
       "{1, 2, 3, 4, 5, 6, 7, 8}"
      ]
     },
     "execution_count": 51,
     "metadata": {},
     "output_type": "execute_result"
    }
   ],
   "source": [
    "s1={1,2,3,4,5}\n",
    "s2={1,2,3,4}\n",
    "s3.intersection(s2)\n",
    "s3"
   ]
  },
  {
   "cell_type": "code",
   "execution_count": 52,
   "id": "5e35b7f1",
   "metadata": {},
   "outputs": [
    {
     "data": {
      "text/plain": [
       "{1, 2, 3, 4}"
      ]
     },
     "execution_count": 52,
     "metadata": {},
     "output_type": "execute_result"
    }
   ],
   "source": [
    "s1.intersection_update(s2)\n",
    "s1"
   ]
  },
  {
   "cell_type": "code",
   "execution_count": 53,
   "id": "02c1ebd1",
   "metadata": {},
   "outputs": [
    {
     "data": {
      "text/plain": [
       "set()"
      ]
     },
     "execution_count": 53,
     "metadata": {},
     "output_type": "execute_result"
    }
   ],
   "source": [
    "s1.difference_update(s2)\n",
    "s1"
   ]
  },
  {
   "cell_type": "code",
   "execution_count": 54,
   "id": "6106b404",
   "metadata": {},
   "outputs": [
    {
     "data": {
      "text/plain": [
       "set()"
      ]
     },
     "execution_count": 54,
     "metadata": {},
     "output_type": "execute_result"
    }
   ],
   "source": [
    "s1={1,2,3,4,5}\n",
    "s2={1,2,3,4}\n",
    "s2.difference_update(s1)\n",
    "s2"
   ]
  },
  {
   "cell_type": "code",
   "execution_count": 55,
   "id": "625f3a82",
   "metadata": {},
   "outputs": [
    {
     "name": "stdout",
     "output_type": "stream",
     "text": [
      "{1, 2, 3, 4, 5}\n"
     ]
    }
   ],
   "source": [
    "print(s1|s2)"
   ]
  },
  {
   "cell_type": "code",
   "execution_count": 57,
   "id": "0cfe9e9d",
   "metadata": {},
   "outputs": [
    {
     "name": "stdout",
     "output_type": "stream",
     "text": [
      "set()\n"
     ]
    }
   ],
   "source": [
    "print(s1&s2)"
   ]
  },
  {
   "cell_type": "code",
   "execution_count": null,
   "id": "6d60edb2",
   "metadata": {},
   "outputs": [],
   "source": [
    "''''union=|\n",
    "intersection=&\n",
    "symmertic diff=^\n",
    "isssubset=<\n",
    "issuperset=>\n",
    "''''\n"
   ]
  },
  {
   "cell_type": "code",
   "execution_count": null,
   "id": "f01a0a03",
   "metadata": {},
   "outputs": [],
   "source": []
  },
  {
   "cell_type": "code",
   "execution_count": 61,
   "id": "c8e693bf",
   "metadata": {},
   "outputs": [
    {
     "name": "stdout",
     "output_type": "stream",
     "text": [
      "[1, 2, 3, 4, 5]\n"
     ]
    }
   ],
   "source": [
    "l=[1,2,3,4,5,3,2,1]   # remove the duplicste elements\n",
    "print(list(set(l)))\n"
   ]
  },
  {
   "cell_type": "code",
   "execution_count": 19,
   "id": "8bc9d8d4",
   "metadata": {},
   "outputs": [
    {
     "name": "stdout",
     "output_type": "stream",
     "text": [
      "S is a binary string\n"
     ]
    }
   ],
   "source": [
    "s = \"1010101010\"\n",
    "\n",
    "b = '10'\n",
    "count = 0\n",
    "for i in s:\n",
    "       if i not in b:\n",
    "            count = 1\n",
    "            break \n",
    "            \n",
    "else:\n",
    "    pass\n",
    "     \n",
    "if count:\n",
    "   print(\"S is not a binary string\")\n",
    "else:\n",
    "   print(\"S is a binary string\")"
   ]
  },
  {
   "cell_type": "code",
   "execution_count": null,
   "id": "1290e108",
   "metadata": {},
   "outputs": [],
   "source": [
    "s=\"1010101010\"\n",
    "for i in s:\n",
    "    if i either in "
   ]
  },
  {
   "cell_type": "code",
   "execution_count": 1,
   "id": "a742a30f",
   "metadata": {},
   "outputs": [
    {
     "name": "stdout",
     "output_type": "stream",
     "text": [
      "13\n",
      "num is odd\n"
     ]
    }
   ],
   "source": [
    "#fun to check if a number is odd\\even\n",
    "def oddEven(num):\n",
    "    if num%2==0:\n",
    "        print(\"num is even\")\n",
    "    else:\n",
    "        print(\"num is odd\")\n",
    "a=int(input()) \n",
    "oddEven(a)\n"
   ]
  },
  {
   "cell_type": "code",
   "execution_count": 94,
   "id": "8f2c5182",
   "metadata": {},
   "outputs": [
    {
     "name": "stdout",
     "output_type": "stream",
     "text": [
      "7\n",
      "num is not divisible 5\n"
     ]
    }
   ],
   "source": [
    "def divisible(num):\n",
    "    if num%5==0:\n",
    "        print(\"num is divisble by 5\")\n",
    "    else:\n",
    "        print(\"num is not divisible 5\")\n",
    "        \n",
    "a=int(input()) \n",
    "divisible(a)\n",
    "        "
   ]
  },
  {
   "cell_type": "code",
   "execution_count": 5,
   "id": "48bb68ca",
   "metadata": {},
   "outputs": [
    {
     "name": "stdout",
     "output_type": "stream",
     "text": [
      "{'Yellow', 'Red', 'Blue', 'Orange', 'Black', 'Green'}\n"
     ]
    }
   ],
   "source": [
    "#Exercise 1: Add a list of elements to a se\n",
    "set1 = {\"Yellow\", \"Orange\", \"Black\"}\n",
    "list1 = [\"Blue\", \"Green\", \"Red\"]\n",
    "\n",
    "set1.update(list1)\n",
    "print(set1)"
   ]
  },
  {
   "cell_type": "code",
   "execution_count": 6,
   "id": "9d4c6de4",
   "metadata": {},
   "outputs": [
    {
     "name": "stdout",
     "output_type": "stream",
     "text": [
      "{40, 50, 30}\n"
     ]
    }
   ],
   "source": [
    "#Exercise 2: Return a new set of identical items from two sets\n",
    "\n",
    "set1 = {10, 20, 30, 40, 50}\n",
    "set2 = {30, 40, 50, 60, 70}\n",
    "\n",
    "print(set1.intersection(set2))"
   ]
  },
  {
   "cell_type": "code",
   "execution_count": 7,
   "id": "ae6454fe",
   "metadata": {},
   "outputs": [
    {
     "name": "stdout",
     "output_type": "stream",
     "text": [
      "{70, 40, 10, 50, 20, 60, 30}\n"
     ]
    }
   ],
   "source": [
    "#Exercise 3: Get Only unique items from two sets\n",
    "\n",
    "set1 = {10, 20, 30, 40, 50}\n",
    "set2 = {30, 40, 50, 60, 70}\n",
    "\n",
    "print(set1.union(set2))"
   ]
  },
  {
   "cell_type": "code",
   "execution_count": 8,
   "id": "47ac5283",
   "metadata": {},
   "outputs": [
    {
     "name": "stdout",
     "output_type": "stream",
     "text": [
      "{10, 30}\n"
     ]
    }
   ],
   "source": [
    "#Exercise 4: Update the first set with items that don’t exist in the second set\n",
    "\n",
    "set1 = {10, 20, 30}\n",
    "set2 = {20, 40, 50}\n",
    "\n",
    "set1.difference_update(set2)\n",
    "print(set1)"
   ]
  },
  {
   "cell_type": "code",
   "execution_count": 10,
   "id": "313bb338",
   "metadata": {},
   "outputs": [
    {
     "name": "stdout",
     "output_type": "stream",
     "text": [
      "{50, 70, 40, 60}\n"
     ]
    }
   ],
   "source": [
    "#Exercise 5: Remove items from the set at once\n",
    "\n",
    "set2 = {30, 40, 50, 60, 70}\n",
    "set2.difference_update({10, 20, 30})\n",
    "print(set2)"
   ]
  },
  {
   "cell_type": "code",
   "execution_count": 11,
   "id": "6f6efcb3",
   "metadata": {},
   "outputs": [
    {
     "name": "stdout",
     "output_type": "stream",
     "text": [
      "{20, 70, 10, 60}\n"
     ]
    }
   ],
   "source": [
    "#Exercise 6: Return a set of elements present in Set A or B, but not both\n",
    "\n",
    "set1 = {10, 20, 30, 40, 50}\n",
    "set2 = {30, 40, 50, 60, 70}\n",
    "\n",
    "print(set1.symmetric_difference(set2))"
   ]
  },
  {
   "cell_type": "code",
   "execution_count": 13,
   "id": "4cc2c6b2",
   "metadata": {},
   "outputs": [
    {
     "name": "stdout",
     "output_type": "stream",
     "text": [
      "{70, 10}\n"
     ]
    }
   ],
   "source": [
    "#Exercise 8: Update set1 by adding items from set2, except common items\n",
    "\n",
    "set1 = {10, 20, 30, 40, 50}\n",
    "set2 = {20, 30, 40, 50, 70}\n",
    "\n",
    "set1.symmetric_difference_update(set2)\n",
    "print(set1)"
   ]
  },
  {
   "cell_type": "code",
   "execution_count": 14,
   "id": "fd618ba1",
   "metadata": {},
   "outputs": [
    {
     "name": "stdout",
     "output_type": "stream",
     "text": [
      "{40, 50, 30}\n"
     ]
    }
   ],
   "source": [
    "#Exercise 9: Remove items from set1 that are not common to both set1 and set2\n",
    "\n",
    "set1 = {10, 20, 30, 40, 50}\n",
    "set2 = {30, 40, 50, 60, 70}\n",
    "\n",
    "set1.intersection_update(set2)\n",
    "print(set1)"
   ]
  },
  {
   "cell_type": "code",
   "execution_count": 11,
   "id": "a19d395d",
   "metadata": {},
   "outputs": [
    {
     "name": "stdout",
     "output_type": "stream",
     "text": [
      "Non Binary String\n",
      "None\n"
     ]
    }
   ],
   "source": [
    "s=\"1010101010\"\n",
    "\n",
    "def binary_fun(s):\n",
    "    b=(\"10\")\n",
    "    for i in s:\n",
    "        if s == b or b == ('0') or b == ('1'):\n",
    "            print(\"Binary String\")\n",
    "            \n",
    "         \n",
    "        else :\n",
    "            print(\"Non Binary String\")\n",
    "        \n",
    "        \n",
    "    \n",
    "s=binary_fun(\"s\") \n",
    "print(s)"
   ]
  },
  {
   "cell_type": "code",
   "execution_count": null,
   "id": "3c37e724",
   "metadata": {},
   "outputs": [],
   "source": [
    "#\n",
    "def expo(num,power):\n",
    "    return "
   ]
  },
  {
   "cell_type": "code",
   "execution_count": 51,
   "id": "14c02c09",
   "metadata": {
    "scrolled": true
   },
   "outputs": [
    {
     "ename": "IndentationError",
     "evalue": "unindent does not match any outer indentation level (<tokenize>, line 8)",
     "output_type": "error",
     "traceback": [
      "\u001b[1;36m  File \u001b[1;32m\"<tokenize>\"\u001b[1;36m, line \u001b[1;32m8\u001b[0m\n\u001b[1;33m    else:\u001b[0m\n\u001b[1;37m    ^\u001b[0m\n\u001b[1;31mIndentationError\u001b[0m\u001b[1;31m:\u001b[0m unindent does not match any outer indentation level\n"
     ]
    }
   ],
   "source": [
    "lower_number = int(input (\" enter lower value\"))  \n",
    "upper_number  = int(input (\"enter the upper value \")) \n",
    "  \n",
    "for number in range (lower_number , upper_number + 1):\n",
    "    \n",
    "    if number > 1: for i in range (2, number):  \n",
    "            if (number % i) == 0:  \n",
    "                break \n",
    "        else\n",
    "        \n",
    "\n",
    "    "
   ]
  },
  {
   "cell_type": "code",
   "execution_count": 3,
   "id": "2bf395c7",
   "metadata": {},
   "outputs": [
    {
     "ename": "SyntaxError",
     "evalue": "invalid syntax (Temp/ipykernel_22984/3035209149.py, line 2)",
     "output_type": "error",
     "traceback": [
      "\u001b[1;36m  File \u001b[1;32m\"C:\\Users\\DELL\\AppData\\Local\\Temp/ipykernel_22984/3035209149.py\"\u001b[1;36m, line \u001b[1;32m2\u001b[0m\n\u001b[1;33m    x = #\u001b[0m\n\u001b[1;37m        ^\u001b[0m\n\u001b[1;31mSyntaxError\u001b[0m\u001b[1;31m:\u001b[0m invalid syntax\n"
     ]
    }
   ],
   "source": [
    "a=\"cad#cdac#$+#@^%&#+\"\n",
    "x = #\n",
    "y = *\n",
    "\n",
    "x, y = y, x\n",
    "print(\"x =, x)\n",
    "print(\"y =,)\n",
    "\n"
   ]
  },
  {
   "cell_type": "code",
   "execution_count": 2,
   "id": "663ff0c0",
   "metadata": {},
   "outputs": [
    {
     "name": "stdout",
     "output_type": "stream",
     "text": [
      "1\n"
     ]
    }
   ],
   "source": [
    "l=[1,2,3,4,5,6,7,8]     \n",
    "a=l[0]-l[2]\n",
    "print(a)"
   ]
  },
  {
   "cell_type": "code",
   "execution_count": 12,
   "id": "9693f537",
   "metadata": {},
   "outputs": [
    {
     "name": "stdout",
     "output_type": "stream",
     "text": [
      "4\n",
      "5\n"
     ]
    },
    {
     "ename": "TypeError",
     "evalue": "'int' object is not iterable",
     "output_type": "error",
     "traceback": [
      "\u001b[1;31m---------------------------------------------------------------------------\u001b[0m",
      "\u001b[1;31mTypeError\u001b[0m                                 Traceback (most recent call last)",
      "\u001b[1;32m~\\AppData\\Local\\Temp/ipykernel_22984/1504018349.py\u001b[0m in \u001b[0;36m<module>\u001b[1;34m\u001b[0m\n\u001b[0;32m      2\u001b[0m \u001b[0mb\u001b[0m\u001b[1;33m=\u001b[0m\u001b[0mint\u001b[0m\u001b[1;33m(\u001b[0m\u001b[0minput\u001b[0m\u001b[1;33m(\u001b[0m\u001b[1;33m)\u001b[0m\u001b[1;33m)\u001b[0m\u001b[1;33m\u001b[0m\u001b[1;33m\u001b[0m\u001b[0m\n\u001b[0;32m      3\u001b[0m \u001b[0mi\u001b[0m\u001b[1;33m=\u001b[0m\u001b[0ma\u001b[0m\u001b[1;33m,\u001b[0m \u001b[0mb\u001b[0m \u001b[1;33m=\u001b[0m \u001b[0mb\u001b[0m\u001b[1;33m,\u001b[0m\u001b[0ma\u001b[0m\u001b[1;33m\u001b[0m\u001b[1;33m\u001b[0m\u001b[0m\n\u001b[1;32m----> 4\u001b[1;33m \u001b[1;32mfor\u001b[0m \u001b[0mi\u001b[0m \u001b[1;32min\u001b[0m \u001b[0ma\u001b[0m\u001b[1;33m:\u001b[0m\u001b[1;33m\u001b[0m\u001b[1;33m\u001b[0m\u001b[0m\n\u001b[0m\u001b[0;32m      5\u001b[0m     \u001b[1;32mif\u001b[0m \u001b[0mj\u001b[0m\u001b[1;33m==\u001b[0m\u001b[0mi\u001b[0m\u001b[1;33m:\u001b[0m\u001b[1;33m\u001b[0m\u001b[1;33m\u001b[0m\u001b[0m\n\u001b[0;32m      6\u001b[0m         \u001b[0mprint\u001b[0m\u001b[1;33m(\u001b[0m\u001b[0mi\u001b[0m\u001b[1;33m)\u001b[0m\u001b[1;33m\u001b[0m\u001b[1;33m\u001b[0m\u001b[0m\n",
      "\u001b[1;31mTypeError\u001b[0m: 'int' object is not iterable"
     ]
    }
   ],
   "source": []
  },
  {
   "cell_type": "code",
   "execution_count": 13,
   "id": "c22827a2",
   "metadata": {},
   "outputs": [
    {
     "name": "stdout",
     "output_type": "stream",
     "text": [
      "l2 element1\n",
      "[2, 3, 4, 5, 6, 7, 8, 1]\n"
     ]
    }
   ],
   "source": [
    "l1=[4,5,6,7,8,9,10]\n",
    "j=int(input(\"l2 element\"))\n",
    "l1=l[j:]\n",
    "l2=l[:j]\n",
    "print(l1+l2)"
   ]
  },
  {
   "cell_type": "code",
   "execution_count": 16,
   "id": "7ee0c076",
   "metadata": {},
   "outputs": [
    {
     "name": "stdout",
     "output_type": "stream",
     "text": [
      "hello cdac patna\n",
      "hello world in the \n"
     ]
    }
   ],
   "source": [
    "x=input()\n",
    "y=input()\n",
    "\n",
    "for i in y:\n",
    "    if  :\n",
    "        print(i)"
   ]
  },
  {
   "cell_type": "code",
   "execution_count": null,
   "id": "10b04d67",
   "metadata": {},
   "outputs": [],
   "source": [
    "#sytanx error\n",
    "a= 5\n",
    "while a==5:\n",
    "    print(a)\n",
    "    break\n",
    "    \n"
   ]
  },
  {
   "cell_type": "code",
   "execution_count": 1,
   "id": "eb543cf4",
   "metadata": {},
   "outputs": [
    {
     "ename": "SyntaxError",
     "evalue": "invalid syntax (Temp/ipykernel_9388/4008008113.py, line 6)",
     "output_type": "error",
     "traceback": [
      "\u001b[1;36m  File \u001b[1;32m\"C:\\Users\\DELL\\AppData\\Local\\Temp/ipykernel_9388/4008008113.py\"\u001b[1;36m, line \u001b[1;32m6\u001b[0m\n\u001b[1;33m    print(\"area is\"self.length*self.breadth)\u001b[0m\n\u001b[1;37m                   ^\u001b[0m\n\u001b[1;31mSyntaxError\u001b[0m\u001b[1;31m:\u001b[0m invalid syntax\n"
     ]
    }
   ],
   "source": [
    "class shape:\n",
    "    height=12\n",
    "    breadth=15\n",
    "    \n",
    "    def get_area(self):\n",
    "        print(\"area is\"self.length*self.breadth)\n",
    "e1=shape()  \n",
    "\n",
    "e1.display()\n",
    "     "
   ]
  },
  {
   "cell_type": "code",
   "execution_count": 19,
   "id": "bf7b3d7c",
   "metadata": {},
   "outputs": [
    {
     "ename": "IndentationError",
     "evalue": "unexpected indent (Temp/ipykernel_9388/3493788295.py, line 17)",
     "output_type": "error",
     "traceback": [
      "\u001b[1;36m  File \u001b[1;32m\"C:\\Users\\DELL\\AppData\\Local\\Temp/ipykernel_9388/3493788295.py\"\u001b[1;36m, line \u001b[1;32m17\u001b[0m\n\u001b[1;33m    return self.sum\u001b[0m\n\u001b[1;37m    ^\u001b[0m\n\u001b[1;31mIndentationError\u001b[0m\u001b[1;31m:\u001b[0m unexpected indent\n"
     ]
    }
   ],
   "source": [
    "class calculator:\n",
    "    sum=0\n",
    "    division=\n",
    "    \n",
    "    def _init_(self,num1,num2) :\n",
    "        self.num1 =num1\n",
    "        self.num2 =num2\n",
    "        \n",
    "    def add(self):\n",
    "            self.sum =self.num1+self.num2\n",
    "            return self.sum\n",
    "    def sub(self):\n",
    "            self.sum =self.num1-self.num2\n",
    "            return self.sum    \n",
    "    def divison(self):\n",
    "        self.sum =self.num1 //self.num2\n",
    "            return self.sum  \n",
    "    def multiplication(self):\n",
    "        self.\n",
    "        \n",
    "    \n",
    "c= calculator(4,5) \n",
    "print(c.add())\n",
    "\n"
   ]
  },
  {
   "cell_type": "code",
   "execution_count": 20,
   "id": "ef323d97",
   "metadata": {},
   "outputs": [
    {
     "ename": "NameError",
     "evalue": "name 'string' is not defined",
     "output_type": "error",
     "traceback": [
      "\u001b[1;31m---------------------------------------------------------------------------\u001b[0m",
      "\u001b[1;31mNameError\u001b[0m                                 Traceback (most recent call last)",
      "\u001b[1;32m~\\AppData\\Local\\Temp/ipykernel_9388/3011756488.py\u001b[0m in \u001b[0;36m<module>\u001b[1;34m\u001b[0m\n\u001b[0;32m      4\u001b[0m         \u001b[1;32mdef\u001b[0m \u001b[0mdisplay\u001b[0m \u001b[1;33m(\u001b[0m\u001b[0mself\u001b[0m\u001b[1;33m)\u001b[0m\u001b[1;33m:\u001b[0m\u001b[1;33m\u001b[0m\u001b[1;33m\u001b[0m\u001b[0m\n\u001b[0;32m      5\u001b[0m             \u001b[0mprint\u001b[0m\u001b[1;33m(\u001b[0m\u001b[0mself\u001b[0m\u001b[1;33m.\u001b[0m \u001b[0mattribute\u001b[0m\u001b[1;33m)\u001b[0m\u001b[1;33m\u001b[0m\u001b[1;33m\u001b[0m\u001b[0m\n\u001b[1;32m----> 6\u001b[1;33m \u001b[0mstring1\u001b[0m\u001b[1;33m=\u001b[0m\u001b[0mstring\u001b[0m\u001b[1;33m(\u001b[0m\u001b[1;33m)\u001b[0m\u001b[1;33m\u001b[0m\u001b[1;33m\u001b[0m\u001b[0m\n\u001b[0m\u001b[0;32m      7\u001b[0m \u001b[1;33m\u001b[0m\u001b[0m\n\u001b[0;32m      8\u001b[0m \u001b[1;33m\u001b[0m\u001b[0m\n",
      "\u001b[1;31mNameError\u001b[0m: name 'string' is not defined"
     ]
    }
   ],
   "source": [
    "class sting:\n",
    "    def _int_(self):\n",
    "        self.attrbute=\"aditya\"\n",
    "        def display (self):\n",
    "            print(self. attribute)\n",
    "string1=string()          \n",
    "        \n",
    "    "
   ]
  },
  {
   "cell_type": "code",
   "execution_count": 11,
   "id": "1c7f1f9b",
   "metadata": {},
   "outputs": [
    {
     "name": "stdout",
     "output_type": "stream",
     "text": [
      "0\n"
     ]
    }
   ],
   "source": [
    "class dog :\n",
    "    counter = 0\n",
    "\n",
    "    \n",
    "    def __init__(self,name,age) :\n",
    "        self.name = name\n",
    "        self.age = age\n",
    "        dog.counter = +1\n",
    "        \n",
    "dog1=('xyx',22)       \n",
    "dog2=(\"xxy\",23) \n",
    "print(dog.counter)"
   ]
  },
  {
   "cell_type": "code",
   "execution_count": 21,
   "id": "a342de1b",
   "metadata": {},
   "outputs": [
    {
     "ename": "AttributeError",
     "evalue": "'car' object has no attribute 'maxspeed'",
     "output_type": "error",
     "traceback": [
      "\u001b[1;31m---------------------------------------------------------------------------\u001b[0m",
      "\u001b[1;31mAttributeError\u001b[0m                            Traceback (most recent call last)",
      "\u001b[1;32m~\\AppData\\Local\\Temp/ipykernel_16808/3482539386.py\u001b[0m in \u001b[0;36m<module>\u001b[1;34m\u001b[0m\n\u001b[0;32m      7\u001b[0m         \u001b[0mprint\u001b[0m\u001b[1;33m(\u001b[0m\u001b[0mself\u001b[0m\u001b[1;33m.\u001b[0m\u001b[0mmaxspeed\u001b[0m\u001b[1;33m,\u001b[0m\u001b[0mself\u001b[0m\u001b[1;33m.\u001b[0m\u001b[0msittingcapacity\u001b[0m\u001b[1;33m,\u001b[0m\u001b[0mself\u001b[0m\u001b[1;33m.\u001b[0m\u001b[0mmileage\u001b[0m\u001b[1;33m)\u001b[0m\u001b[1;33m\u001b[0m\u001b[1;33m\u001b[0m\u001b[0m\n\u001b[0;32m      8\u001b[0m \u001b[1;33m\u001b[0m\u001b[0m\n\u001b[1;32m----> 9\u001b[1;33m \u001b[0mc1\u001b[0m \u001b[1;33m=\u001b[0m \u001b[0mcar\u001b[0m\u001b[1;33m(\u001b[0m\u001b[1;36m120\u001b[0m\u001b[1;33m,\u001b[0m\u001b[1;36m5\u001b[0m\u001b[1;33m,\u001b[0m\u001b[1;36m25\u001b[0m\u001b[1;33m)\u001b[0m\u001b[1;33m\u001b[0m\u001b[1;33m\u001b[0m\u001b[0m\n\u001b[0m\u001b[0;32m     10\u001b[0m \u001b[0mc1\u001b[0m\u001b[1;33m.\u001b[0m\u001b[0mdisplay\u001b[0m\u001b[1;33m(\u001b[0m\u001b[1;33m)\u001b[0m\u001b[1;33m\u001b[0m\u001b[1;33m\u001b[0m\u001b[0m\n",
      "\u001b[1;32m~\\AppData\\Local\\Temp/ipykernel_16808/3482539386.py\u001b[0m in \u001b[0;36m__init__\u001b[1;34m(self, maxspeed, sittingcapacity, mileage)\u001b[0m\n\u001b[0;32m      1\u001b[0m \u001b[1;32mclass\u001b[0m \u001b[0mcar\u001b[0m\u001b[1;33m:\u001b[0m\u001b[1;33m\u001b[0m\u001b[1;33m\u001b[0m\u001b[0m\n\u001b[0;32m      2\u001b[0m     \u001b[1;32mdef\u001b[0m \u001b[0m__init__\u001b[0m\u001b[1;33m(\u001b[0m\u001b[0mself\u001b[0m\u001b[1;33m,\u001b[0m\u001b[0mmaxspeed\u001b[0m\u001b[1;33m,\u001b[0m\u001b[0msittingcapacity\u001b[0m\u001b[1;33m,\u001b[0m\u001b[0mmileage\u001b[0m\u001b[1;33m)\u001b[0m\u001b[1;33m:\u001b[0m\u001b[1;33m\u001b[0m\u001b[1;33m\u001b[0m\u001b[0m\n\u001b[1;32m----> 3\u001b[1;33m         \u001b[0mself\u001b[0m\u001b[1;33m.\u001b[0m\u001b[0mmaxspeed\u001b[0m\u001b[1;33m\u001b[0m\u001b[1;33m\u001b[0m\u001b[0m\n\u001b[0m\u001b[0;32m      4\u001b[0m         \u001b[0mself\u001b[0m\u001b[1;33m.\u001b[0m\u001b[0msittingcapacity\u001b[0m\u001b[1;33m\u001b[0m\u001b[1;33m\u001b[0m\u001b[0m\n\u001b[0;32m      5\u001b[0m         \u001b[0mself\u001b[0m\u001b[1;33m.\u001b[0m\u001b[0mmileage\u001b[0m\u001b[1;33m\u001b[0m\u001b[1;33m\u001b[0m\u001b[0m\n",
      "\u001b[1;31mAttributeError\u001b[0m: 'car' object has no attribute 'maxspeed'"
     ]
    }
   ],
   "source": [
    "class car:  \n",
    "    def __init__(self,maxspeed,sittingcapacity,mileage):  \n",
    "        self.maxspeed  \n",
    "        self.sittingcapacity \n",
    "        self.mileage\n",
    "    def display(self):  \n",
    "        print(self.maxspeed,self.sittingcapacity,self.mileage)  \n",
    "  \n",
    "c1 = car(120,5,25)  \n",
    "c1.display()  "
   ]
  },
  {
   "cell_type": "code",
   "execution_count": 36,
   "id": "2e5587eb",
   "metadata": {},
   "outputs": [],
   "source": [
    "#1-Create a vehicle class with  no attributes and methods.\n",
    "class Car:\n",
    "    pass\n",
    "    \n",
    "\n",
    "    \n"
   ]
  },
  {
   "cell_type": "code",
   "execution_count": 6,
   "id": "966410a9",
   "metadata": {},
   "outputs": [
    {
     "name": "stdout",
     "output_type": "stream",
     "text": [
      "200 25 4\n"
     ]
    }
   ],
   "source": [
    "#Q2. Create a Vehicle class with max_speed and mileage instance attributes and seating_capacity as a method.\n",
    "\n",
    "class car:\n",
    "    def __init__(self, maxspeed, mileage,sitting):\n",
    "        self.maxspeed = maxspeed\n",
    "        self.mileage = mileage\n",
    "        self.sitting=sitting\n",
    "        \n",
    "        \n",
    "        \n",
    "c1 = car(200,25,4)\n",
    "print(c1.maxspeed, c1.mileage,c1.sitting)\n",
    "\n"
   ]
  },
  {
   "cell_type": "code",
   "execution_count": 33,
   "id": "98ba2c87",
   "metadata": {},
   "outputs": [
    {
     "name": "stdout",
     "output_type": "stream",
     "text": [
      "200 25 4\n"
     ]
    }
   ],
   "source": [
    "\n",
    "class car:\n",
    "    def __init__(self, maxspeed, mileage,sitting):\n",
    "        self.maxspeed = maxspeed\n",
    "        self.mileage = mileage\n",
    "        self.sitting=sitting\n",
    "class bus(car):\n",
    "    def __init__(self, maxspeed, mileage,sitting):\n",
    "        self.maxspeed = maxspeed\n",
    "        self.mileage = mileage\n",
    "        self.sitting=sitting\n",
    "    \n",
    "        \n",
    "c1 = bus(200,25,4)\n",
    "print(c1.maxspeed, c1.mileage,c1.sitting)"
   ]
  },
  {
   "cell_type": "code",
   "execution_count": 28,
   "id": "4fc35f4b",
   "metadata": {},
   "outputs": [
    {
     "name": "stdout",
     "output_type": "stream",
     "text": [
      "200 25 50\n"
     ]
    }
   ],
   "source": [
    "#Q. Create a Bus class that inherits from the Vehicle class. Give the capacity argument of Bus.seating_capacity() a default value of 50.\n",
    "class car:\n",
    "    def __init__(self, maxspeed, mileage,sitting):\n",
    "        self.maxspeed = maxspeed\n",
    "        self.mileage = mileage\n",
    "        self.sitting=sitting\n",
    "class bus(car):\n",
    "    def __init__(self, maxspeed, mileage,sitting):\n",
    "        self.maxspeed = maxspeed\n",
    "        self.mileage = mileage\n",
    "        self.sitting=sitting\n",
    "    \n",
    "        \n",
    "c1 = bus(200,25,50)\n",
    "print(c1.maxspeed, c1.mileage,c1.sitting)"
   ]
  },
  {
   "cell_type": "code",
   "execution_count": 42,
   "id": "1c098cf4",
   "metadata": {},
   "outputs": [
    {
     "name": "stdout",
     "output_type": "stream",
     "text": [
      "200 25 4\n"
     ]
    },
    {
     "data": {
      "text/plain": [
       "'white'"
      ]
     },
     "execution_count": 42,
     "metadata": {},
     "output_type": "execute_result"
    }
   ],
   "source": [
    "#Q5.Define another property that should have the same value for every class instance of vehicle.\n",
    "\n",
    "class car:\n",
    "    colour=\"white\"\n",
    "\n",
    "    def __init__(self, maxspeed, mileage,sitting):\n",
    "        self.maxspeed = maxspeed\n",
    "        self.mileage = mileage\n",
    "        self.sitting=sitting\n",
    "class bus(car):\n",
    "    colour=\"white\"\n",
    "    def __init__(self, maxspeed, mileage,sitting):\n",
    "        self.maxspeed = maxspeed\n",
    "        self.mileage = mileage\n",
    "        self.sitting=sitting\n",
    "    \n",
    "\n",
    "class van(car):\n",
    "    def __init__(self, maxspeed, mileage,sitting):\n",
    "        self.maxspeed = maxspeed\n",
    "        self.mileage = mileage\n",
    "        self.sitting=sitting\n",
    "    \n",
    "          \n",
    "        \n",
    "c1 = bus(200,25,4)\n",
    "print(c1.maxspeed, c1.mileage,c1.sitting)\n",
    "van.colour\n"
   ]
  },
  {
   "cell_type": "code",
   "execution_count": 27,
   "id": "f6b7cee1",
   "metadata": {},
   "outputs": [
    {
     "name": "stdout",
     "output_type": "stream",
     "text": [
      "200 25 4\n"
     ]
    },
    {
     "data": {
      "text/plain": [
       "'white'"
      ]
     },
     "execution_count": 27,
     "metadata": {},
     "output_type": "execute_result"
    }
   ],
   "source": [
    "class car:\n",
    "    wheel=4\n",
    "    colour=\"white\"\n",
    "    def __init__(self, maxspeed, mileage,sitting):\n",
    "        self.maxspeed = maxspeed\n",
    "        self.mileage = mileage\n",
    "        self.sitting=sitting\n",
    "class bus(car):\n",
    "     def __init__(self, maxspeed, mileage,sitting):\n",
    "        self.maxspeed = maxspeed\n",
    "        self.mileage = mileage\n",
    "        self.sitting=sitting\n",
    "\n",
    "class van(bus):\n",
    "     def __init__(self, maxspeed, mileage,sitting):\n",
    "        self.maxspeed = maxspeed\n",
    "        self.mileage = mileage\n",
    "        self.sitting=sitting\n",
    "          \n",
    "        \n",
    "c1 = bus(200,25,4)\n",
    "print(c1.maxspeed, c1.mileage,c1.sitting)\n",
    "van.colour"
   ]
  },
  {
   "cell_type": "code",
   "execution_count": 43,
   "id": "b04acaba",
   "metadata": {},
   "outputs": [
    {
     "name": "stdout",
     "output_type": "stream",
     "text": [
      "<class 'int'>\n"
     ]
    }
   ],
   "source": [
    "print(type(0xFF))\n",
    "\n"
   ]
  },
  {
   "cell_type": "code",
   "execution_count": 45,
   "id": "4d42e5ea",
   "metadata": {},
   "outputs": [
    {
     "name": "stdout",
     "output_type": "stream",
     "text": [
      "<class 'dict'>\n"
     ]
    }
   ],
   "source": [
    "d = {1:'Jimmy', 2:'Alex', 3:'john', 4:'mike'}    \n",
    "print(type(d))"
   ]
  },
  {
   "cell_type": "code",
   "execution_count": 8,
   "id": "9beaa8c0",
   "metadata": {},
   "outputs": [
    {
     "name": "stdout",
     "output_type": "stream",
     "text": [
      "1 3 6 10 15 21 28 36 45 55 "
     ]
    }
   ],
   "source": [
    "#Program to print the sum of the given list.\n",
    "l1=[1,2,3,4,5,6,7,8,9,10]\n",
    "sum=0\n",
    "for i in l1:\n",
    "    sum=sum+i\n",
    "    print(sum,end=\" \")\n",
    "    "
   ]
  },
  {
   "cell_type": "code",
   "execution_count": null,
   "id": "dda399e0",
   "metadata": {},
   "outputs": [],
   "source": [
    "import numpy as np"
   ]
  },
  {
   "cell_type": "code",
   "execution_count": null,
   "id": "3accf0cb",
   "metadata": {},
   "outputs": [],
   "source": [
    "a=np.array"
   ]
  },
  {
   "cell_type": "code",
   "execution_count": 20,
   "id": "9f441fc8",
   "metadata": {},
   "outputs": [
    {
     "data": {
      "text/plain": [
       "[8, 9, 10]"
      ]
     },
     "execution_count": 20,
     "metadata": {},
     "output_type": "execute_result"
    }
   ],
   "source": [
    "l=[0,1,2,3,4,5,6,7,8,9,10]\n",
    "l[:]"
   ]
  },
  {
   "cell_type": "code",
   "execution_count": 21,
   "id": "e30ad44d",
   "metadata": {},
   "outputs": [
    {
     "data": {
      "text/plain": [
       "[34, 66, 99]"
      ]
     },
     "execution_count": 21,
     "metadata": {},
     "output_type": "execute_result"
    }
   ],
   "source": [
    "l=[24,34,44,55,66,77,88,99,65,43,25]\n",
    "l[1:8:3]"
   ]
  },
  {
   "cell_type": "code",
   "execution_count": 29,
   "id": "06b1d354",
   "metadata": {},
   "outputs": [
    {
     "data": {
      "text/plain": [
       "[1, 2, 3, 4]"
      ]
     },
     "execution_count": 29,
     "metadata": {},
     "output_type": "execute_result"
    }
   ],
   "source": [
    "l=[1,2,3,4,5,6,7,8,9,10]\n",
    "l[:4]"
   ]
  },
  {
   "cell_type": "code",
   "execution_count": 39,
   "id": "74585435",
   "metadata": {},
   "outputs": [
    {
     "data": {
      "text/plain": [
       "[3]"
      ]
     },
     "execution_count": 39,
     "metadata": {},
     "output_type": "execute_result"
    }
   ],
   "source": [
    "l=[1,2,3,4,5,6,7,8,9]\n",
    "l[2::7]"
   ]
  },
  {
   "cell_type": "code",
   "execution_count": 38,
   "id": "517310d8",
   "metadata": {},
   "outputs": [
    {
     "data": {
      "text/plain": [
       "[30]"
      ]
     },
     "execution_count": 38,
     "metadata": {},
     "output_type": "execute_result"
    }
   ],
   "source": [
    "Lst = [50, 70, 30, 20, 90, 10, 50]\n",
    "Lst[2:5:4]"
   ]
  },
  {
   "cell_type": "code",
   "execution_count": 41,
   "id": "b1b4a3c5",
   "metadata": {},
   "outputs": [
    {
     "data": {
      "text/plain": [
       "[]"
      ]
     },
     "execution_count": 41,
     "metadata": {},
     "output_type": "execute_result"
    }
   ],
   "source": [
    "lst=[50, 70, 30, 20, 90, 10, 50]\n",
    "lst[5:2:2]"
   ]
  },
  {
   "cell_type": "code",
   "execution_count": 46,
   "id": "36f76dfb",
   "metadata": {},
   "outputs": [
    {
     "data": {
      "text/plain": [
       "[6, 8]"
      ]
     },
     "execution_count": 46,
     "metadata": {},
     "output_type": "execute_result"
    }
   ],
   "source": [
    "lst=[1,2,3,4,5,6,7,8]\n",
    "lst[5:8:2]"
   ]
  },
  {
   "cell_type": "code",
   "execution_count": 49,
   "id": "fbfa0784",
   "metadata": {},
   "outputs": [
    {
     "data": {
      "text/plain": [
       "[1, 3, 5]"
      ]
     },
     "execution_count": 49,
     "metadata": {},
     "output_type": "execute_result"
    }
   ],
   "source": [
    "l=[1,2,3,4,5,6,7,8,9,10]\n",
    "l[0:6:2]"
   ]
  },
  {
   "cell_type": "code",
   "execution_count": 50,
   "id": "5aacf691",
   "metadata": {},
   "outputs": [
    {
     "data": {
      "text/plain": [
       "[1, 2]"
      ]
     },
     "execution_count": 50,
     "metadata": {},
     "output_type": "execute_result"
    }
   ],
   "source": [
    "l[:2]"
   ]
  },
  {
   "cell_type": "code",
   "execution_count": 51,
   "id": "77989ca1",
   "metadata": {},
   "outputs": [
    {
     "data": {
      "text/plain": [
       "[2, 4, 6, 8, 10]"
      ]
     },
     "execution_count": 51,
     "metadata": {},
     "output_type": "execute_result"
    }
   ],
   "source": [
    "l=[1,2,3,4,5,6,7,8,9,10]\n",
    "l[1::2]"
   ]
  },
  {
   "cell_type": "code",
   "execution_count": 55,
   "id": "3165e5ab",
   "metadata": {},
   "outputs": [
    {
     "data": {
      "text/plain": [
       "[3, 5]"
      ]
     },
     "execution_count": 55,
     "metadata": {},
     "output_type": "execute_result"
    }
   ],
   "source": [
    "l=[1,2,3,4,5,6,7,8,9,10]\n",
    "l[2:5:2]"
   ]
  },
  {
   "cell_type": "code",
   "execution_count": 69,
   "id": "b4ecf719",
   "metadata": {},
   "outputs": [
    {
     "name": "stdout",
     "output_type": "stream",
     "text": [
      "6\n",
      "7\n",
      "8\n",
      "9\n",
      "10\n"
     ]
    }
   ],
   "source": [
    "b=([[1,2,3,4,5],[6,7,8,9,10]])\n",
    "    print(j)"
   ]
  },
  {
   "cell_type": "code",
   "execution_count": 75,
   "id": "f85382ef",
   "metadata": {},
   "outputs": [
    {
     "ename": "ModuleNotFoundError",
     "evalue": "No module named 'nump'",
     "output_type": "error",
     "traceback": [
      "\u001b[1;31m---------------------------------------------------------------------------\u001b[0m",
      "\u001b[1;31mModuleNotFoundError\u001b[0m                       Traceback (most recent call last)",
      "\u001b[1;32m~\\AppData\\Local\\Temp/ipykernel_14852/2322494178.py\u001b[0m in \u001b[0;36m<module>\u001b[1;34m\u001b[0m\n\u001b[1;32m----> 1\u001b[1;33m \u001b[1;32mimport\u001b[0m \u001b[0mnump\u001b[0m\u001b[1;33m\u001b[0m\u001b[1;33m\u001b[0m\u001b[0m\n\u001b[0m\u001b[0;32m      2\u001b[0m \u001b[1;33m\u001b[0m\u001b[0m\n\u001b[0;32m      3\u001b[0m \u001b[0ma\u001b[0m\u001b[1;33m=\u001b[0m \u001b[0mnp\u001b[0m\u001b[1;33m.\u001b[0m\u001b[0marray\u001b[0m\u001b[1;33m(\u001b[0m\u001b[1;33m[\u001b[0m\u001b[1;36m1\u001b[0m\u001b[1;33m,\u001b[0m\u001b[1;36m2\u001b[0m\u001b[1;33m,\u001b[0m\u001b[1;36m3\u001b[0m\u001b[1;33m,\u001b[0m\u001b[1;36m4\u001b[0m\u001b[1;33m,\u001b[0m\u001b[1;36m5\u001b[0m\u001b[1;33m,\u001b[0m\u001b[1;36m6\u001b[0m\u001b[1;33m,\u001b[0m\u001b[1;36m7\u001b[0m\u001b[1;33m,\u001b[0m\u001b[1;36m8\u001b[0m\u001b[1;33m]\u001b[0m\u001b[1;33m)\u001b[0m\u001b[1;33m\u001b[0m\u001b[1;33m\u001b[0m\u001b[0m\n\u001b[0;32m      4\u001b[0m \u001b[0ma\u001b[0m\u001b[1;33m+\u001b[0m\u001b[1;36m2\u001b[0m\u001b[1;33m\u001b[0m\u001b[1;33m\u001b[0m\u001b[0m\n\u001b[0;32m      5\u001b[0m \u001b[0ma\u001b[0m\u001b[1;33m\u001b[0m\u001b[1;33m\u001b[0m\u001b[0m\n",
      "\u001b[1;31mModuleNotFoundError\u001b[0m: No module named 'nump'"
     ]
    }
   ],
   "source": [
    "import nump\n",
    "\n",
    "a= np.array([1,2,3,4,5,6,7,8])\n",
    "a+2\n",
    "a\n",
    "      "
   ]
  },
  {
   "cell_type": "code",
   "execution_count": 1,
   "id": "fd22184d",
   "metadata": {},
   "outputs": [
    {
     "ename": "SyntaxError",
     "evalue": "invalid syntax (Temp/ipykernel_103216/1895441565.py, line 5)",
     "output_type": "error",
     "traceback": [
      "\u001b[1;36m  File \u001b[1;32m\"C:\\Users\\DELL\\AppData\\Local\\Temp/ipykernel_103216/1895441565.py\"\u001b[1;36m, line \u001b[1;32m5\u001b[0m\n\u001b[1;33m    class Boat(car):\u001b[0m\n\u001b[1;37m    ^\u001b[0m\n\u001b[1;31mSyntaxError\u001b[0m\u001b[1;31m:\u001b[0m invalid syntax\n"
     ]
    }
   ],
   "source": [
    "class Car:\n",
    "    def __init__(self, maxspeed:\n",
    "    max_speed=max_speed\n",
    "        \n",
    "class Boat(car):\n",
    "    def __init__(self, maxspeed:\n",
    "        max_speed= \"77 knots\"\n",
    "        \n",
    "c1= car(max_speed)\n",
    "c2=boat(max_speed)\n",
    "print(c1.maxspeed, c2.max_speed)"
   ]
  },
  {
   "cell_type": "code",
   "execution_count": 11,
   "id": "95d30642",
   "metadata": {},
   "outputs": [
    {
     "name": "stdout",
     "output_type": "stream",
     "text": [
      "200kmhrs 77knots\n"
     ]
    }
   ],
   "source": [
    "class car:\n",
    "    \n",
    "\n",
    "    def __init__(self, maxspeed):\n",
    "        self.maxspeed = maxspeed\n",
    "        \n",
    "class boat(car):\n",
    "    \n",
    "    def __init__(self, maxspeed):\n",
    "        self.maxspeed = maxspeed\n",
    "        \n",
    "c1 = car(\"200kmhrs\")\n",
    "c2=boat(\"77knots\")\n",
    "\n",
    "print(c1.maxspeed,c2.maxspeed)\n",
    "        \n",
    "        \n",
    "    "
   ]
  },
  {
   "cell_type": "code",
   "execution_count": null,
   "id": "146705b5",
   "metadata": {},
   "outputs": [],
   "source": []
  },
  {
   "cell_type": "code",
   "execution_count": null,
   "id": "8e11edb2",
   "metadata": {},
   "outputs": [],
   "source": []
  }
 ],
 "metadata": {
  "kernelspec": {
   "display_name": "Python 3 (ipykernel)",
   "language": "python",
   "name": "python3"
  },
  "language_info": {
   "codemirror_mode": {
    "name": "ipython",
    "version": 3
   },
   "file_extension": ".py",
   "mimetype": "text/x-python",
   "name": "python",
   "nbconvert_exporter": "python",
   "pygments_lexer": "ipython3",
   "version": "3.9.7"
  }
 },
 "nbformat": 4,
 "nbformat_minor": 5
}
