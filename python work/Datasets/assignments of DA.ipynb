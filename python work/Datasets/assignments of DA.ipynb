{
 "cells": [
  {
   "cell_type": "code",
   "execution_count": 19,
   "id": "93b62620",
   "metadata": {},
   "outputs": [
    {
     "data": {
      "text/plain": [
       "(161.24971669192976, 175.75028330807024)"
      ]
     },
     "execution_count": 19,
     "metadata": {},
     "output_type": "execute_result"
    }
   ],
   "source": [
    "#THU-28APR-Day11\n",
    "''''Q. take sample s=[180,162,158,172,168,150,171,183,165,176]\n",
    "\n",
    "    find confidence interval at 95% level of confidence.'''\n",
    "\n",
    "import numpy as np\n",
    "import scipy.stats as st\n",
    "\n",
    "#sample data\n",
    "data = [180,162,158,172,168,150,171,183,165,176]\n",
    "\n",
    "#create 95% confidence interval.\n",
    "st.t.interval(alpha=0.95, df=len(data)-1, loc=np.mean(data), scale=st.sem(data)) \n",
    "\n",
    "\n",
    "    \n",
    "\n"
   ]
  },
  {
   "cell_type": "code",
   "execution_count": 20,
   "id": "fa214bee",
   "metadata": {},
   "outputs": [
    {
     "data": {
      "image/png": "[encoded data removed]",
      "text/plain": [
       "<Figure size 432x288 with 1 Axes>"
      ]
     },
     "metadata": {
      "needs_background": "light"
     },
     "output_type": "display_data"
    }
   ],
   "source": [
    "#FRI-22nd APR- Day6\n",
    "#Questions on Binomial and Bernoulli Distribution\n",
    "\n",
    "from scipy.stats import binom\n",
    "import matplotlib.pyplot as plt\n",
    "\n",
    "n = 6\n",
    "p = 0.6\n",
    "\n",
    "values = list(range(n + 1))\n",
    "# list of pmf values\n",
    "dist = [binom.pmf(r, n, p) for r in values ]\n",
    "# plotting the graph \n",
    "plt.bar(r_values, dist)\n",
    "plt.show()"
   ]
  },
  {
   "cell_type": "code",
   "execution_count": 9,
   "id": "a2c74e4c",
   "metadata": {},
   "outputs": [
    {
     "name": "stdout",
     "output_type": "stream",
     "text": [
      "[ 2.00852566e-01  8.99195009e-01 -4.75218365e-01 -5.15539442e-01\n",
      "  8.31750197e-01  2.15052024e-01 -1.65785615e-01  1.63511999e-01\n",
      "  3.73940749e-01 -1.91825808e-01  9.10018030e-02 -1.96171187e-01\n",
      " -5.02038364e-01 -2.01769058e+00  4.25935340e-01 -2.74096048e-01\n",
      " -1.29449330e-03 -8.01034953e-01 -5.63297796e-01 -8.22856525e-01\n",
      " -3.67060456e-01  6.74823641e-01 -1.03531565e+00 -2.07647376e+00\n",
      "  4.00552134e-01  1.42907762e+00  2.00035742e+00 -2.25777015e-01\n",
      "  1.88236664e+00 -8.62089764e-01 -5.62858289e-01  4.69569586e-02\n",
      "  3.51612285e-01 -2.58960498e-01 -1.62437452e-01  1.20795379e+00\n",
      "  2.02087387e-01  5.03652623e-01  1.28352912e+00  1.94724370e+00\n",
      "  1.97323199e+00  2.33269953e-01  1.29090977e+00  8.90703629e-01\n",
      " -1.59581345e+00  3.43922547e-01 -8.94632973e-01  2.74898994e-01\n",
      " -1.04057757e+00  5.84822075e-01  5.10120154e-01 -3.68240966e-01\n",
      "  1.39836011e+00 -1.39532862e+00  6.16052939e-01 -2.12373794e+00\n",
      "  1.15370674e+00  1.17893268e+00  1.18516986e+00  8.15319818e-01\n",
      " -4.71714417e-01  8.07694452e-01 -7.78093561e-02 -2.34037897e-01\n",
      " -1.33242160e+00  1.75251637e-01  4.00157954e-01 -9.37210768e-01\n",
      "  1.10355273e+00 -6.60758085e-01 -1.21681163e+00 -2.22053384e+00\n",
      "  1.10970975e+00 -4.84510536e-01 -2.58027386e+00  1.08657464e-01\n",
      "  3.12475539e-01  8.33305464e-01  1.71916872e+00 -1.07479997e+00\n",
      "  1.45156218e+00  4.53293237e-01 -1.23579073e+00 -5.02679417e-01\n",
      " -1.01814387e+00  3.86560197e-02  1.83087282e+00 -1.30527925e-01\n",
      " -9.97989799e-01 -4.56444530e-01 -3.20630053e-01  1.88736007e+00\n",
      "  2.91152744e-01  1.25834233e+00 -7.84299054e-01 -4.21074667e-01\n",
      " -2.13617543e+00  2.29328918e-02  5.02455045e-02  1.31175501e-01\n",
      "  1.33584562e+00  1.22799997e+00  9.33564094e-01 -1.90146607e+00\n",
      "  8.87091355e-02  4.90408688e-01  5.39569007e-01  1.42961928e+00\n",
      "  9.80328393e-02  1.68822259e+00  1.51506175e+00  8.44147506e-01\n",
      "  1.76147086e+00  2.01926826e+00  6.64051763e-01  1.33571777e+00\n",
      "  1.23059106e+00 -5.38304409e-01 -1.69249073e+00 -4.26531847e-01\n",
      "  1.35829000e+00  6.89349539e-01  1.90649837e+00 -1.13260784e+00\n",
      "  3.69160901e-02 -8.36733777e-01  7.34858443e-01  9.41975485e-01\n",
      "  6.41212343e-01 -1.89028344e-01 -1.33588315e+00 -1.37371128e+00\n",
      " -7.21967145e-01  8.87018104e-01  1.29712935e+00  7.57121274e-02\n",
      "  4.60534694e-01  9.52773251e-01  2.94748743e-01 -1.48671398e+00\n",
      "  3.58751946e-02 -6.78227492e-01  3.88344722e-01 -3.91080662e-01\n",
      "  1.01632783e-01  2.04158293e-01  1.73582174e+00 -1.10194922e+00\n",
      " -1.95434539e+00  7.34492313e-01  1.47947073e+00 -3.93267627e-01\n",
      " -6.58590026e-01  9.62486179e-01 -2.48587194e+00 -5.63500854e-01\n",
      " -1.08695180e+00  1.02880729e+00 -1.72850379e+00  6.76732891e-01\n",
      "  6.63942465e-01  3.85385782e-01 -1.62118088e+00  5.14923366e-01\n",
      " -1.21700987e+00 -8.28814572e-01  6.99273822e-01 -1.33997855e+00\n",
      "  2.02899948e+00  3.52298517e-01 -6.14095104e-01  1.59113858e+00\n",
      "  6.06940361e-01 -4.06979191e-01  7.61051158e-01 -2.10330033e+00\n",
      " -1.94741464e+00 -1.05094436e+00 -3.21991104e-01 -4.98194147e-01\n",
      "  5.39307526e-01 -6.65990046e-01  1.39678881e+00  2.98088165e-01\n",
      "  4.27998770e-01  3.06107994e-01 -3.01849765e-01 -1.18758516e+00\n",
      " -5.94688783e-01 -1.69950931e-01 -4.08052261e-01 -8.35790665e-01\n",
      "  8.19639411e-01  6.75452170e-01 -4.90255751e-01 -5.65208309e-01\n",
      "  8.46514083e-01 -2.73096849e-01  2.62761252e-01 -6.63080748e-01]\n"
     ]
    },
    {
     "data": {
      "text/plain": [
       "1.0353053713248555"
      ]
     },
     "execution_count": 9,
     "metadata": {},
     "output_type": "execute_result"
    }
   ],
   "source": [
    "#MON-25th APR-Day8 Assignment Q.2\n",
    "\n",
    "#Take a normal distributed data set( using numpy ) and make it Standard normal.\n",
    "\n",
    "import numpy as np\n",
    "from numpy.random import normal\n",
    "\n",
    "\n",
    "# mean of sample\n",
    "data = normal(loc=0, scale=1, size=200)\n",
    "\n",
    "\n",
    "print(data)\n",
    "\n",
    "#standard deviation of sample\n",
    "np.std(data, ddof=1)\n",
    "\n"
   ]
  },
  {
   "cell_type": "code",
   "execution_count": 10,
   "id": "3b99535f",
   "metadata": {},
   "outputs": [
    {
     "name": "stdout",
     "output_type": "stream",
     "text": [
      "[[2.03629167 0.9313    ]\n",
      " [0.9313     0.4498    ]]\n"
     ]
    }
   ],
   "source": [
    "#Tue-APR-26th Day9\n",
    "#Assign Q1\n",
    "\n",
    "#take random values of x and y and find the covariance between them.\n",
    "import numpy as np\n",
    " \n",
    "x = [1.23, 2.12, 3.34, 4.5]\n",
    " \n",
    "y = [2.56, 2.89, 3.76, 3.95]\n",
    " \n",
    "# find out covariance with respect  columns\n",
    "cov_mat = np.stack((x, y), axis = 0)\n",
    " \n",
    "print(np.cov(cov_mat))"
   ]
  },
  {
   "cell_type": "code",
   "execution_count": null,
   "id": "183a51bc",
   "metadata": {},
   "outputs": [],
   "source": []
  }
 ],
 "metadata": {
  "kernelspec": {
   "display_name": "Python 3 (ipykernel)",
   "language": "python",
   "name": "python3"
  },
  "language_info": {
   "codemirror_mode": {
    "name": "ipython",
    "version": 3
   },
   "file_extension": ".py",
   "mimetype": "text/x-python",
   "name": "python",
   "nbconvert_exporter": "python",
   "pygments_lexer": "ipython3",
   "version": "3.9.7"
  }
 },
 "nbformat": 4,
 "nbformat_minor": 5
}
