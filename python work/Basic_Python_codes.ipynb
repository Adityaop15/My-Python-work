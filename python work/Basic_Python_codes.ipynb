{
 "cells": [
  {
   "cell_type": "code",
   "execution_count": null,
   "id": "71b4c609",
   "metadata": {},
   "outputs": [],
   "source": [
    "\n",
    "\n",
    "def hello():\n",
    "    print(\"hello!\")\n",
    "    print(\"cdac\")\n",
    "    print(\"patna\")\n",
    "    \n",
    "hello()\n",
    "    "
   ]
  },
  {
   "cell_type": "code",
   "execution_count": 2,
   "id": "d3aa351c",
   "metadata": {},
   "outputs": [
    {
     "name": "stdout",
     "output_type": "stream",
     "text": [
      "number is less than 2\n"
     ]
    }
   ],
   "source": [
    "a=5\n",
    "if a<2:\n",
    "  print(\"number is greater than 2\")\n",
    "else: \n",
    "  print(\"number is less than 2\")"
   ]
  },
  {
   "cell_type": "code",
   "execution_count": 11,
   "id": "14c3b6d6",
   "metadata": {},
   "outputs": [
    {
     "name": "stdout",
     "output_type": "stream",
     "text": [
      "cadc\n"
     ]
    }
   ],
   "source": [
    "a=('cadc')\n",
    "print(a)"
   ]
  },
  {
   "cell_type": "code",
   "execution_count": 12,
   "id": "566b9a54",
   "metadata": {},
   "outputs": [
    {
     "name": "stdout",
     "output_type": "stream",
     "text": [
      "3 4\n"
     ]
    }
   ],
   "source": [
    "a=3\n",
    "b=4\n",
    "print(a,b)"
   ]
  },
  {
   "cell_type": "code",
   "execution_count": 13,
   "id": "aa8ae21b",
   "metadata": {},
   "outputs": [
    {
     "name": "stdout",
     "output_type": "stream",
     "text": [
      "3\n"
     ]
    }
   ],
   "source": [
    "a=3\n",
    "A=5\n",
    "print(a)"
   ]
  },
  {
   "cell_type": "code",
   "execution_count": 21,
   "id": "4a0c7ee1",
   "metadata": {},
   "outputs": [
    {
     "name": "stdout",
     "output_type": "stream",
     "text": [
      "x\n"
     ]
    }
   ],
   "source": [
    "a='345'\n",
    "\n",
    "x= float (a)\n",
    "print('a\n",
    "      ')"
   ]
  },
  {
   "cell_type": "code",
   "execution_count": 2,
   "id": "526fbdc1",
   "metadata": {},
   "outputs": [
    {
     "name": "stdout",
     "output_type": "stream",
     "text": [
      "aditya\n",
      "22\n"
     ]
    }
   ],
   "source": [
    "name=\"aditya\"\n",
    "age=22\n",
    "print(name)\n",
    "print(age)"
   ]
  },
  {
   "cell_type": "code",
   "execution_count": 10,
   "id": "46e045a1",
   "metadata": {},
   "outputs": [
    {
     "name": "stdout",
     "output_type": "stream",
     "text": [
      "2\n"
     ]
    }
   ],
   "source": [
    "a=2\n",
    "print(a)"
   ]
  },
  {
   "cell_type": "code",
   "execution_count": 8,
   "id": "fc6a7722",
   "metadata": {},
   "outputs": [
    {
     "name": "stdout",
     "output_type": "stream",
     "text": [
      "aditya\n",
      "22\n"
     ]
    }
   ],
   "source": [
    "name='aditya'\n",
    "age=22\n",
    "print(name)\n",
    "print(age)"
   ]
  },
  {
   "cell_type": "code",
   "execution_count": 11,
   "id": "07731004",
   "metadata": {},
   "outputs": [
    {
     "name": "stdout",
     "output_type": "stream",
     "text": [
      "tonystark\n",
      "51\n",
      "true\n"
     ]
    }
   ],
   "source": [
    "name='tonystark'\n",
    "age=51\n",
    "genius='true'\n",
    "print(name)\n",
    "print(age)\n",
    "print(genius)"
   ]
  },
  {
   "cell_type": "markdown",
   "id": "6b888cfa",
   "metadata": {},
   "source": []
  },
  {
   "cell_type": "code",
   "execution_count": 1,
   "id": "c395967e",
   "metadata": {},
   "outputs": [
    {
     "name": "stdout",
     "output_type": "stream",
     "text": [
      "aditya\n",
      "sharma\n",
      "22\n",
      "2021\n",
      "aditya sharma 22 2021\n"
     ]
    }
   ],
   "source": [
    "name=str(input())\n",
    "lastname=str(input())\n",
    "age=int(input())\n",
    "lastyear=str(input())\n",
    "print(name,lastname,age,lastyear)\n"
   ]
  },
  {
   "cell_type": "code",
   "execution_count": 26,
   "id": "97c1b4ea",
   "metadata": {},
   "outputs": [
    {
     "name": "stdout",
     "output_type": "stream",
     "text": [
      "number is less than 2\n"
     ]
    }
   ],
   "source": [
    "a=5\n",
    "if a>2:\n",
    " print('number is less than 2')\n",
    "else:\n",
    " print('number is less than 2')\n",
    "      "
   ]
  },
  {
   "cell_type": "code",
   "execution_count": 25,
   "id": "09909676",
   "metadata": {},
   "outputs": [
    {
     "name": "stdout",
     "output_type": "stream",
     "text": [
      "enter first number2\n",
      "enter second number5\n",
      "7\n"
     ]
    }
   ],
   "source": [
    "first=input('enter first number')\n",
    "second=input('enter second number')\n",
    "sum =int(first)+int(second)\n",
    "print(sum)        \n",
    "        "
   ]
  },
  {
   "cell_type": "code",
   "execution_count": 11,
   "id": "664d81ba",
   "metadata": {},
   "outputs": [
    {
     "name": "stdout",
     "output_type": "stream",
     "text": [
      "enter fisrt number6.5\n",
      " enter second number6.5\n",
      "13.0\n"
     ]
    }
   ],
   "source": [
    "first=input ('enter fisrt number')\n",
    "second=input(' enter second number')\n",
    "sum=float(first)+float(second)\n",
    "print(sum)\n"
   ]
  },
  {
   "cell_type": "code",
   "execution_count": 1,
   "id": "c9eed2ba",
   "metadata": {},
   "outputs": [
    {
     "name": "stdout",
     "output_type": "stream",
     "text": [
      "hello world\n"
     ]
    }
   ],
   "source": [
    "print('hello world')"
   ]
  },
  {
   "cell_type": "code",
   "execution_count": 15,
   "id": "8028d54b",
   "metadata": {},
   "outputs": [
    {
     "name": "stdout",
     "output_type": "stream",
     "text": [
      "True\n",
      "False\n"
     ]
    }
   ],
   "source": [
    "a=0<2\n",
    "b=0>2\n",
    "print(a)\n",
    "print(b)\n",
    "\n"
   ]
  },
  {
   "cell_type": "code",
   "execution_count": 16,
   "id": "1038773a",
   "metadata": {},
   "outputs": [
    {
     "name": "stdout",
     "output_type": "stream",
     "text": [
      "15\n"
     ]
    }
   ],
   "source": [
    "a=10\n",
    "b=5\n",
    "sum=(a+b)\n",
    "print(sum)\n"
   ]
  },
  {
   "cell_type": "code",
   "execution_count": 17,
   "id": "b029fe9e",
   "metadata": {},
   "outputs": [
    {
     "name": "stdout",
     "output_type": "stream",
     "text": [
      "2\n"
     ]
    }
   ],
   "source": [
    "a=10\n",
    "b=8\n",
    "sub=(a-b)\n",
    "print(sub)"
   ]
  },
  {
   "cell_type": "code",
   "execution_count": 18,
   "id": "4c4ce56d",
   "metadata": {},
   "outputs": [
    {
     "name": "stdout",
     "output_type": "stream",
     "text": [
      "(False, True)\n"
     ]
    }
   ],
   "source": [
    "a=10\n",
    "b=5\n",
    "s=a<10,b>2\n",
    "print(s)"
   ]
  },
  {
   "cell_type": "code",
   "execution_count": 19,
   "id": "ab33c2cd",
   "metadata": {},
   "outputs": [
    {
     "name": "stdout",
     "output_type": "stream",
     "text": [
      "(True, True)\n"
     ]
    }
   ],
   "source": [
    "a =10\n",
    "b=3\n",
    "s=a>0,b>0\n",
    "print(s)"
   ]
  },
  {
   "cell_type": "code",
   "execution_count": 21,
   "id": "d572a86b",
   "metadata": {},
   "outputs": [
    {
     "name": "stdout",
     "output_type": "stream",
     "text": [
      "4.8\n"
     ]
    }
   ],
   "source": [
    "a=2.3\n",
    "b=2.5\n",
    "s=float(a)+float(b)\n",
    "print(s)"
   ]
  },
  {
   "cell_type": "code",
   "execution_count": 31,
   "id": "9712ab81",
   "metadata": {},
   "outputs": [
    {
     "ename": "SyntaxError",
     "evalue": "invalid syntax (Temp/ipykernel_14592/2386549268.py, line 10)",
     "output_type": "error",
     "traceback": [
      "\u001b[1;36m  File \u001b[1;32m\"C:\\Users\\DELL\\AppData\\Local\\Temp/ipykernel_14592/2386549268.py\"\u001b[1;36m, line \u001b[1;32m10\u001b[0m\n\u001b[1;33m    z=kilometer int(a)*conversion int(b)\u001b[0m\n\u001b[1;37m                ^\u001b[0m\n\u001b[1;31mSyntaxError\u001b[0m\u001b[1;31m:\u001b[0m invalid syntax\n"
     ]
    }
   ],
   "source": [
    "a=222\n",
    "b=22\n",
    "\n",
    "\n",
    "kilometer=a\n",
    "              \n",
    "            \n",
    "              \n",
    "conversion=b\n",
    "z=kilometer int(a)*conversion int(b)\n",
    " printf(z)"
   ]
  },
  {
   "cell_type": "code",
   "execution_count": 32,
   "id": "9fbd2718",
   "metadata": {},
   "outputs": [
    {
     "name": "stdout",
     "output_type": "stream",
     "text": [
      "<class 'type'> 12\n"
     ]
    }
   ],
   "source": [
    "a=12.85\n",
    "x=int(a)\n",
    "print(type,x)"
   ]
  },
  {
   "cell_type": "code",
   "execution_count": 34,
   "id": "5aea35cf",
   "metadata": {},
   "outputs": [
    {
     "name": "stdout",
     "output_type": "stream",
     "text": [
      "<class 'type'> (3+4j)\n"
     ]
    }
   ],
   "source": [
    "z=3+4j\n",
    "print(type,z)"
   ]
  },
  {
   "cell_type": "code",
   "execution_count": 37,
   "id": "0a7d382e",
   "metadata": {},
   "outputs": [
    {
     "name": "stdout",
     "output_type": "stream",
     "text": [
      "'cdac is conducting pgai course \n",
      "reading pg-dai\n",
      "class of python\n",
      "63\n",
      "c\n",
      " \n",
      "<class 'str'>\n"
     ]
    }
   ],
   "source": [
    "s=''''cdac is conducting pgai course \n",
    "reading pg-dai\n",
    "class of python'''\n",
    "print(s)\n",
    "print(len(s))\n",
    " \n",
    "\n",
    "print(s[len(s)-62])\n",
    "print(s[5])\n",
    "print(type(s))"
   ]
  },
  {
   "cell_type": "code",
   "execution_count": 43,
   "id": "edf4f0a5",
   "metadata": {},
   "outputs": [],
   "source": [
    "x=len(s)# len () is a function whcih takes squence as a parameter amd retuns its length \n",
    "# indexing will startt from 0 and "
   ]
  },
  {
   "cell_type": "code",
   "execution_count": 47,
   "id": "710f12b1",
   "metadata": {},
   "outputs": [
    {
     "name": "stdout",
     "output_type": "stream",
     "text": [
      "4\n"
     ]
    }
   ],
   "source": [
    "course=['ml','ai',45,'3,4,5']\n",
    "print(len(course))"
   ]
  },
  {
   "cell_type": "code",
   "execution_count": 48,
   "id": "70288bba",
   "metadata": {},
   "outputs": [
    {
     "name": "stdout",
     "output_type": "stream",
     "text": [
      "ml\n"
     ]
    }
   ],
   "source": [
    "print(course[0])"
   ]
  },
  {
   "cell_type": "code",
   "execution_count": 50,
   "id": "fe81ab45",
   "metadata": {},
   "outputs": [
    {
     "name": "stdout",
     "output_type": "stream",
     "text": [
      "enter a number45\n"
     ]
    }
   ],
   "source": [
    "x=input(\"enter a number\")\n"
   ]
  },
  {
   "cell_type": "code",
   "execution_count": 51,
   "id": "7f7c5120",
   "metadata": {},
   "outputs": [
    {
     "name": "stdout",
     "output_type": "stream",
     "text": [
      "45\n"
     ]
    }
   ],
   "source": [
    "print(x)\n",
    "\n",
    "     "
   ]
  },
  {
   "cell_type": "code",
   "execution_count": 52,
   "id": "814f13d5",
   "metadata": {},
   "outputs": [
    {
     "name": "stdout",
     "output_type": "stream",
     "text": [
      "<class 'str'>\n"
     ]
    }
   ],
   "source": [
    "print(type(x))\n",
    "     "
   ]
  },
  {
   "cell_type": "code",
   "execution_count": 58,
   "id": "83182242",
   "metadata": {},
   "outputs": [
    {
     "name": "stdout",
     "output_type": "stream",
     "text": [
      "enter a name aditya\n"
     ]
    }
   ],
   "source": [
    "x=input(\"enter a name\")\n"
   ]
  },
  {
   "cell_type": "code",
   "execution_count": 59,
   "id": "08f7364d",
   "metadata": {},
   "outputs": [
    {
     "name": "stdout",
     "output_type": "stream",
     "text": [
      "<class 'str'>\n"
     ]
    }
   ],
   "source": [
    "print(type(x))"
   ]
  },
  {
   "cell_type": "code",
   "execution_count": 60,
   "id": "52cc04fa",
   "metadata": {},
   "outputs": [
    {
     "ename": "ValueError",
     "evalue": "could not convert string to float: ' aditya'",
     "output_type": "error",
     "traceback": [
      "\u001b[1;31m---------------------------------------------------------------------------\u001b[0m",
      "\u001b[1;31mValueError\u001b[0m                                Traceback (most recent call last)",
      "\u001b[1;32m~\\AppData\\Local\\Temp/ipykernel_14592/2854010870.py\u001b[0m in \u001b[0;36m<module>\u001b[1;34m\u001b[0m\n\u001b[1;32m----> 1\u001b[1;33m \u001b[0mprint\u001b[0m\u001b[1;33m(\u001b[0m\u001b[0mfloat\u001b[0m\u001b[1;33m(\u001b[0m\u001b[0mx\u001b[0m\u001b[1;33m)\u001b[0m\u001b[1;33m)\u001b[0m\u001b[1;33m\u001b[0m\u001b[1;33m\u001b[0m\u001b[0m\n\u001b[0m",
      "\u001b[1;31mValueError\u001b[0m: could not convert string to float: ' aditya'"
     ]
    }
   ],
   "source": [
    "print(float(x))"
   ]
  },
  {
   "cell_type": "code",
   "execution_count": 19,
   "id": "0e613ce6",
   "metadata": {},
   "outputs": [
    {
     "name": "stdout",
     "output_type": "stream",
     "text": [
      "length =2\n",
      "breath =2\n",
      "answers = 0 4 2.0 12.56\n"
     ]
    }
   ],
   "source": [
    "a=int(input(\"length =\"))\n",
    "b=int(input(\"breath =\"))\n",
    "sub=a-b\n",
    "pro=(a*b)\n",
    "T=float(0.5)*a*b\n",
    "c=float(3.14*a*a)\n",
    "p=\"answers =\"\n",
    "\n",
    "print(p,sub,pro,T,c,)\n",
    "\n"
   ]
  },
  {
   "cell_type": "markdown",
   "id": "f5789d02",
   "metadata": {},
   "source": [
    "p=int(input(\"princle =)\n",
    "r=int(input(\"rate =)\n",
    "t=input(input(\"time =)\n",
    "p=p*r*t\n",
    "print(p)"
   ]
  },
  {
   "cell_type": "code",
   "execution_count": 74,
   "id": "2b10d14a",
   "metadata": {},
   "outputs": [
    {
     "name": "stdout",
     "output_type": "stream",
     "text": [
      "1\n"
     ]
    }
   ],
   "source": [
    "a=15\n",
    "print(15%2)\n",
    "\n",
    "\n",
    "\n",
    "\n"
   ]
  },
  {
   "cell_type": "code",
   "execution_count": 80,
   "id": "a1196998",
   "metadata": {},
   "outputs": [
    {
     "name": "stdout",
     "output_type": "stream",
     "text": [
      "the number will be odd\n"
     ]
    }
   ],
   "source": [
    "a=15\n",
    "\n",
    "if a%2==0:\n",
    "    print('the number will be even')\n",
    "else:\n",
    "    print(\"the number will be odd\")\n",
    "\n",
    "         \n",
    "\n",
    "    \n",
    "    "
   ]
  },
  {
   "cell_type": "code",
   "execution_count": 90,
   "id": "1e03cb13",
   "metadata": {
    "scrolled": true
   },
   "outputs": [
    {
     "name": "stdout",
     "output_type": "stream",
     "text": [
      "225\n"
     ]
    }
   ],
   "source": [
    "a=int(input())\n",
    "s=a*2\n",
    "print(s)"
   ]
  },
  {
   "cell_type": "code",
   "execution_count": 4,
   "id": "c4b41ba3",
   "metadata": {},
   "outputs": [
    {
     "name": "stdout",
     "output_type": "stream",
     "text": [
      "8\n"
     ]
    }
   ],
   "source": [
    "a=4\n",
    "s=a*2\n",
    "print(s)"
   ]
  },
  {
   "cell_type": "code",
   "execution_count": 88,
   "id": "9f8eb469",
   "metadata": {},
   "outputs": [
    {
     "name": "stdout",
     "output_type": "stream",
     "text": [
      "3.872983346207417\n"
     ]
    }
   ],
   "source": [
    "a=15\n",
    "s=(a**0.5)\n",
    "print(s)"
   ]
  },
  {
   "cell_type": "code",
   "execution_count": 91,
   "id": "646d1c6e",
   "metadata": {},
   "outputs": [
    {
     "name": "stdout",
     "output_type": "stream",
     "text": [
      "3,4\n"
     ]
    }
   ],
   "source": [
    "x,y=input().split(\",\")"
   ]
  },
  {
   "cell_type": "code",
   "execution_count": null,
   "id": "6b70c80a",
   "metadata": {},
   "outputs": [],
   "source": [
    "x=[int(x)for x i]"
   ]
  },
  {
   "cell_type": "code",
   "execution_count": 93,
   "id": "80636838",
   "metadata": {},
   "outputs": [
    {
     "ename": "SyntaxError",
     "evalue": "invalid syntax (Temp/ipykernel_14592/4133332352.py, line 6)",
     "output_type": "error",
     "traceback": [
      "\u001b[1;36m  File \u001b[1;32m\"C:\\Users\\DELL\\AppData\\Local\\Temp/ipykernel_14592/4133332352.py\"\u001b[1;36m, line \u001b[1;32m6\u001b[0m\n\u001b[1;33m    elseif(num2>=num1)and(num2>=num3):\u001b[0m\n\u001b[1;37m                                       ^\u001b[0m\n\u001b[1;31mSyntaxError\u001b[0m\u001b[1;31m:\u001b[0m invalid syntax\n"
     ]
    }
   ],
   "source": [
    "num1=10\n",
    "num2=14\n",
    "num3=12\n",
    "if (num1>=num2)and(num1>num3):\n",
    "    largest=num1\n",
    "elseif(num2>=num1)and(num2>=num3): \n",
    "    largest=num2\n",
    "else:\n",
    "    largest=num3:\n",
    "    print('the largest number is',largest )"
   ]
  },
  {
   "cell_type": "code",
   "execution_count": null,
   "id": "4c3d1cdf",
   "metadata": {},
   "outputs": [],
   "source": [
    "num1=int(input(\"enter first number:\"))\n",
    "num2=int(input(\"enter second number\"))\n",
    "num3=int(input)('enter third number')\n",
    "\n"
   ]
  },
  {
   "cell_type": "code",
   "execution_count": 2,
   "id": "2f22f0df",
   "metadata": {},
   "outputs": [],
   "source": [
    "num1=10\n",
    "num2=14\n",
    "num3=12\n",
    "if(num1>=num2)and(num1>=num3):\n",
    "   print( largest=num1)\n",
    "elif(num2>=num1)and (num2>=num3):\n",
    "    largest=num2\n",
    "else:\n",
    "    largest=num3"
   ]
  },
  {
   "cell_type": "code",
   "execution_count": 3,
   "id": "8b476a83",
   "metadata": {},
   "outputs": [
    {
     "name": "stdout",
     "output_type": "stream",
     "text": [
      "6.28\n"
     ]
    }
   ],
   "source": [
    "\n",
    "r=2\n",
    "pie=3.14\n",
    "s=float(3.14*2)\n",
    "print(s)"
   ]
  },
  {
   "cell_type": "code",
   "execution_count": 20,
   "id": "fc025cbe",
   "metadata": {},
   "outputs": [
    {
     "ename": "SyntaxError",
     "evalue": "invalid syntax (Temp/ipykernel_14908/3429470456.py, line 1)",
     "output_type": "error",
     "traceback": [
      "\u001b[1;36m  File \u001b[1;32m\"C:\\Users\\DELL\\AppData\\Local\\Temp/ipykernel_14908/3429470456.py\"\u001b[1;36m, line \u001b[1;32m1\u001b[0m\n\u001b[1;33m    a=(enter a number)\u001b[0m\n\u001b[1;37m             ^\u001b[0m\n\u001b[1;31mSyntaxError\u001b[0m\u001b[1;31m:\u001b[0m invalid syntax\n"
     ]
    }
   ],
   "source": [
    "a=()\n",
    "b=()\n",
    "if a==0:\n",
    "    print(\"if a is greater\")\n",
    "else: \n",
    "    print(\"if b is greater\")\n",
    "    "
   ]
  },
  {
   "cell_type": "code",
   "execution_count": 19,
   "id": "f3c5f5f2",
   "metadata": {},
   "outputs": [
    {
     "name": "stdout",
     "output_type": "stream",
     "text": [
      "6\n"
     ]
    }
   ],
   "source": [
    "a=2\n",
    "s=a*3\n",
    "print(s)\n",
    "    \n",
    "     \n",
    "     "
   ]
  },
  {
   "cell_type": "code",
   "execution_count": 9,
   "id": "0be32a96",
   "metadata": {},
   "outputs": [
    {
     "name": "stdout",
     "output_type": "stream",
     "text": [
      "num1\n"
     ]
    }
   ],
   "source": [
    "num1=12\n",
    "num2=6\n",
    "if num1>num2:\n",
    "    print('num1')\n",
    "else:\n",
    "    print('num2')"
   ]
  },
  {
   "cell_type": "code",
   "execution_count": 5,
   "id": "bdb078d2",
   "metadata": {},
   "outputs": [
    {
     "name": "stdout",
     "output_type": "stream",
     "text": [
      "40\n"
     ]
    }
   ],
   "source": [
    "#find area of rectangle\n",
    "l=20\n",
    "b=2\n",
    "a=l*b\n",
    "print(a)"
   ]
  },
  {
   "cell_type": "code",
   "execution_count": 6,
   "id": "aa1bb672",
   "metadata": {},
   "outputs": [
    {
     "ename": "SyntaxError",
     "evalue": "EOL while scanning string literal (Temp/ipykernel_2420/1093992586.py, line 3)",
     "output_type": "error",
     "traceback": [
      "\u001b[1;36m  File \u001b[1;32m\"C:\\Users\\DELL\\AppData\\Local\\Temp/ipykernel_2420/1093992586.py\"\u001b[1;36m, line \u001b[1;32m3\u001b[0m\n\u001b[1;33m    print({0}is even\".format(num))\u001b[0m\n\u001b[1;37m                                  ^\u001b[0m\n\u001b[1;31mSyntaxError\u001b[0m\u001b[1;31m:\u001b[0m EOL while scanning string literal\n"
     ]
    }
   ],
   "source": [
    "num=int(input(\"enter a number\"))\n",
    "if(num%2)==0:\n",
    "    print({0}is even\".format(num))\n",
    "else:\n",
    "    print(\"{0}\"is odd\".format(num)) "
   ]
  },
  {
   "cell_type": "code",
   "execution_count": 13,
   "id": "c18ac9f3",
   "metadata": {},
   "outputs": [
    {
     "name": "stdout",
     "output_type": "stream",
     "text": [
      "a is even\n"
     ]
    }
   ],
   "source": [
    "a=7\n",
    "if a%2:\n",
    "    print('a is even')\n",
    "else :\n",
    "    print('a is odd' )"
   ]
  },
  {
   "cell_type": "code",
   "execution_count": 14,
   "id": "bbe40dca",
   "metadata": {},
   "outputs": [
    {
     "name": "stdout",
     "output_type": "stream",
     "text": [
      "4.0\n"
     ]
    }
   ],
   "source": [
    "#find the square root of 8\n",
    "a=8\n",
    "s=a*0.5\n",
    "print(s)"
   ]
  },
  {
   "cell_type": "code",
   "execution_count": 16,
   "id": "08ce1580",
   "metadata": {},
   "outputs": [
    {
     "name": "stdout",
     "output_type": "stream",
     "text": [
      "64\n"
     ]
    }
   ],
   "source": [
    "#find square of 8\n",
    "a=8\n",
    "s=8*8\n",
    "print(s)"
   ]
  },
  {
   "cell_type": "code",
   "execution_count": 3,
   "id": "dc4881b1",
   "metadata": {},
   "outputs": [
    {
     "name": "stdout",
     "output_type": "stream",
     "text": [
      "30\n"
     ]
    }
   ],
   "source": [
    "num1=10\n",
    "num2=20\n",
    "num3=30\n",
    "if num1>num2:\n",
    "    print(num1)\n",
    "elif num2>num3:\n",
    "    print(num2)\n",
    "else:\n",
    "    print(num3)\n",
    "    \n",
    "    \n",
    "    "
   ]
  },
  {
   "cell_type": "code",
   "execution_count": 32,
   "id": "bae6e8c9",
   "metadata": {},
   "outputs": [
    {
     "name": "stdout",
     "output_type": "stream",
     "text": [
      "a is positive\n"
     ]
    }
   ],
   "source": [
    "#find number is positive or negative\n",
    "a=8\n",
    "if a>0:\n",
    "    print(\"a is positive\")\n",
    "else:\n",
    "    print(\"a is negative\")"
   ]
  },
  {
   "cell_type": "code",
   "execution_count": 33,
   "id": "b0bf7854",
   "metadata": {},
   "outputs": [
    {
     "name": "stdout",
     "output_type": "stream",
     "text": [
      "99.5\n"
     ]
    }
   ],
   "source": [
    "#chnage the value with result of tempature\n",
    "c=37.5\n",
    "f=(c*1.8)+32\n",
    "print(f)"
   ]
  },
  {
   "cell_type": "code",
   "execution_count": 34,
   "id": "596e068a",
   "metadata": {},
   "outputs": [
    {
     "name": "stdout",
     "output_type": "stream",
     "text": [
      "621.371\n"
     ]
    }
   ],
   "source": [
    "M=0.621371\n",
    "K=1000*float(M)\n",
    "print(K)\n"
   ]
  },
  {
   "cell_type": "code",
   "execution_count": 50,
   "id": "98c232e1",
   "metadata": {},
   "outputs": [
    {
     "name": "stdout",
     "output_type": "stream",
     "text": [
      "enter first number2\n",
      "enter second number3\n",
      "5.0\n"
     ]
    }
   ],
   "source": [
    "a=input(\"enter first number\")\n",
    "b=input(\"enter second number\")\n",
    "s=float(a)+float(b)\n",
    "print(s)"
   ]
  },
  {
   "cell_type": "code",
   "execution_count": 57,
   "id": "60ec824f",
   "metadata": {},
   "outputs": [
    {
     "name": "stdout",
     "output_type": "stream",
     "text": [
      "7.0\n",
      "210.0\n"
     ]
    }
   ],
   "source": [
    "#calcute the area of triangle\n",
    "a=2\n",
    "b=3\n",
    "c=4\n",
    "s=(a+b+c/2)\n",
    "print(s)\n",
    "a=(s*(s-a)*(s-b)*(s-c))*0.5\n",
    "print(a)"
   ]
  },
  {
   "cell_type": "code",
   "execution_count": 55,
   "id": "b4bfa7c2",
   "metadata": {},
   "outputs": [
    {
     "ename": "TypeError",
     "evalue": "'float' object is not callable",
     "output_type": "error",
     "traceback": [
      "\u001b[1;31m---------------------------------------------------------------------------\u001b[0m",
      "\u001b[1;31mTypeError\u001b[0m                                 Traceback (most recent call last)",
      "\u001b[1;32m~\\AppData\\Local\\Temp/ipykernel_2420/1656781511.py\u001b[0m in \u001b[0;36m<module>\u001b[1;34m\u001b[0m\n\u001b[1;32m----> 1\u001b[1;33m \u001b[0ma\u001b[0m\u001b[1;33m=\u001b[0m\u001b[1;33m(\u001b[0m\u001b[0ms\u001b[0m\u001b[1;33m(\u001b[0m\u001b[0ms\u001b[0m\u001b[1;33m-\u001b[0m\u001b[0ma\u001b[0m\u001b[1;33m)\u001b[0m\u001b[1;33m*\u001b[0m\u001b[1;33m(\u001b[0m\u001b[0ms\u001b[0m\u001b[1;33m-\u001b[0m\u001b[0mb\u001b[0m\u001b[1;33m)\u001b[0m\u001b[1;33m*\u001b[0m\u001b[1;33m(\u001b[0m\u001b[0ms\u001b[0m\u001b[1;33m-\u001b[0m\u001b[0mc\u001b[0m\u001b[1;33m)\u001b[0m\u001b[1;33m)\u001b[0m\u001b[1;33m\u001b[0m\u001b[1;33m\u001b[0m\u001b[0m\n\u001b[0m\u001b[0;32m      2\u001b[0m \u001b[0mprint\u001b[0m\u001b[1;33m(\u001b[0m\u001b[0ma\u001b[0m\u001b[1;33m)\u001b[0m\u001b[1;33m\u001b[0m\u001b[1;33m\u001b[0m\u001b[0m\n",
      "\u001b[1;31mTypeError\u001b[0m: 'float' object is not callable"
     ]
    }
   ],
   "source": [
    "a=(s(s-a)*(s-b)*(s-c))\n",
    "print(a)"
   ]
  },
  {
   "cell_type": "code",
   "execution_count": 5,
   "id": "34f714a6",
   "metadata": {},
   "outputs": [
    {
     "name": "stdout",
     "output_type": "stream",
     "text": [
      "even\n"
     ]
    }
   ],
   "source": [
    "a=16\n",
    "if a%2==0:\n",
    "    print(\"even\")\n",
    "else:\n",
    "    print(\"zero\")\n",
    "\n"
   ]
  },
  {
   "cell_type": "code",
   "execution_count": 13,
   "id": "05f510f3",
   "metadata": {},
   "outputs": [
    {
     "name": "stdout",
     "output_type": "stream",
     "text": [
      "6\n"
     ]
    }
   ],
   "source": [
    "#sum of natural number\n",
    "a=10\n",
    "b=6\n",
    "if a<8:\n",
    "    print(a)\n",
    "else:\n",
    "    print(b)"
   ]
  },
  {
   "cell_type": "code",
   "execution_count": 48,
   "id": "789aa80e",
   "metadata": {},
   "outputs": [
    {
     "name": "stdout",
     "output_type": "stream",
     "text": [
      "b is minium\n"
     ]
    }
   ],
   "source": [
    "#to find minimum number bwtween two numbers\n",
    "\n",
    "a=2\n",
    "b=1\n",
    "if a<b:\n",
    "    print(\"a is minimu\")\n",
    "else : \n",
    "    print(\"b is minium\")\n",
    "        \n",
    "\n",
    "\n",
    "\n",
    "\n",
    "\n",
    "\n",
    "\n",
    "\n",
    "\n"
   ]
  },
  {
   "cell_type": "code",
   "execution_count": 38,
   "id": "38c52d68",
   "metadata": {},
   "outputs": [
    {
     "name": "stdout",
     "output_type": "stream",
     "text": [
      "7.0\n",
      "210.0\n"
     ]
    }
   ],
   "source": [
    "#calculte the area of trigle with help of herozen formula\n",
    "a=2\n",
    "b=3\n",
    "c=4\n",
    "s=(a+b+c/2)\n",
    "print(s)\n",
    "a=(s*(s-a)*(s-b)*(s-c))*0.5\n",
    "print(a)"
   ]
  },
  {
   "cell_type": "code",
   "execution_count": 39,
   "id": "4c585ebf",
   "metadata": {},
   "outputs": [
    {
     "name": "stdout",
     "output_type": "stream",
     "text": [
      "4\n"
     ]
    }
   ],
   "source": [
    "#calulte the area of rectangle\n",
    "l=2\n",
    "b=2\n",
    "s=l*b\n",
    "print(s)"
   ]
  },
  {
   "cell_type": "code",
   "execution_count": 45,
   "id": "570b3625",
   "metadata": {},
   "outputs": [
    {
     "name": "stdout",
     "output_type": "stream",
     "text": [
      "12.56\n"
     ]
    }
   ],
   "source": [
    "#calculte the of circle\n",
    "r=2\n",
    "\n",
    "pie=3.14\n",
    "s=float(3.14*r*r)\n",
    "print(s)"
   ]
  },
  {
   "cell_type": "code",
   "execution_count": 42,
   "id": "91eccaa5",
   "metadata": {},
   "outputs": [
    {
     "name": "stdout",
     "output_type": "stream",
     "text": [
      "length of triangle2\n",
      "breath of triangle3\n"
     ]
    },
    {
     "ename": "TypeError",
     "evalue": "can't multiply sequence by non-int of type 'str'",
     "output_type": "error",
     "traceback": [
      "\u001b[1;31m---------------------------------------------------------------------------\u001b[0m",
      "\u001b[1;31mTypeError\u001b[0m                                 Traceback (most recent call last)",
      "\u001b[1;32m~\\AppData\\Local\\Temp/ipykernel_14456/1697865861.py\u001b[0m in \u001b[0;36m<module>\u001b[1;34m\u001b[0m\n\u001b[0;32m      2\u001b[0m \u001b[0mb\u001b[0m\u001b[1;33m=\u001b[0m\u001b[0minput\u001b[0m\u001b[1;33m(\u001b[0m\u001b[1;34m\"breath of triangle\"\u001b[0m\u001b[1;33m)\u001b[0m\u001b[1;33m\u001b[0m\u001b[1;33m\u001b[0m\u001b[0m\n\u001b[0;32m      3\u001b[0m \u001b[1;33m\u001b[0m\u001b[0m\n\u001b[1;32m----> 4\u001b[1;33m \u001b[0mprint\u001b[0m\u001b[1;33m(\u001b[0m\u001b[0ma\u001b[0m\u001b[1;33m*\u001b[0m\u001b[0mb\u001b[0m\u001b[1;33m)\u001b[0m\u001b[1;33m\u001b[0m\u001b[1;33m\u001b[0m\u001b[0m\n\u001b[0m",
      "\u001b[1;31mTypeError\u001b[0m: can't multiply sequence by non-int of type 'str'"
     ]
    }
   ],
   "source": [
    "Program to find minimum of 2 given numbers.\n",
    "Program to check if a given year is leap year or not.\n",
    "Program to check if a number is divisible by 5.\n",
    "Program to find cube root of a number.\n",
    "Program to find amount if principal, rate and time is given.\n",
    "program to find average of 2 numbers.\n"
   ]
  },
  {
   "cell_type": "code",
   "execution_count": null,
   "id": "6b710b87",
   "metadata": {},
   "outputs": [],
   "source": [
    "#find a leap year\n",
    "a=input( \"year\")\n",
    "if int(a)/4:\n",
    "    print(\"year is aleap year\")\n",
    "else:\n",
    "    print(\"year is not a leap year\")\n",
    "\n",
    "\n",
    "     "
   ]
  },
  {
   "cell_type": "code",
   "execution_count": 4,
   "id": "17edda0d",
   "metadata": {},
   "outputs": [
    {
     "name": "stdout",
     "output_type": "stream",
     "text": [
      "a number18\n",
      "a is divisible by 5\n"
     ]
    }
   ],
   "source": [
    "#number is disible by 5\n",
    "a=input(\"a number\")\n",
    "if int(a)/5:\n",
    "    print(\"a is divisible by 5\")\n",
    "else :\n",
    "    print(\"a is not divisible by 5\")\n",
    "\n"
   ]
  },
  {
   "cell_type": "code",
   "execution_count": 3,
   "id": "6a90972f",
   "metadata": {},
   "outputs": [
    {
     "name": "stdout",
     "output_type": "stream",
     "text": [
      "4.5\n"
     ]
    }
   ],
   "source": [
    "#square root of  number \n",
    "a=15\n",
    "s=a*0.3\n",
    "print(s)"
   ]
  },
  {
   "cell_type": "code",
   "execution_count": 18,
   "id": "ac6e73f3",
   "metadata": {},
   "outputs": [
    {
     "name": "stdout",
     "output_type": "stream",
     "text": [
      "137.5\n"
     ]
    }
   ],
   "source": [
    "#average of two number\n",
    "a=125\n",
    "b=25\n",
    "s=a+b/2\n",
    "print(s)"
   ]
  },
  {
   "cell_type": "code",
   "execution_count": 19,
   "id": "687ad676",
   "metadata": {},
   "outputs": [
    {
     "name": "stdout",
     "output_type": "stream",
     "text": [
      "60.0\n"
     ]
    }
   ],
   "source": [
    "#find the simple interest\n",
    "p=100\n",
    "\n",
    "r=20\n",
    "t=3\n",
    "si=(p*r*t/100)\n",
    "print(si)"
   ]
  },
  {
   "cell_type": "code",
   "execution_count": 3,
   "id": "b9477656",
   "metadata": {},
   "outputs": [
    {
     "ename": "NameError",
     "evalue": "name 'print5' is not defined",
     "output_type": "error",
     "traceback": [
      "\u001b[1;31m---------------------------------------------------------------------------\u001b[0m",
      "\u001b[1;31mNameError\u001b[0m                                 Traceback (most recent call last)",
      "\u001b[1;32m~\\AppData\\Local\\Temp/ipykernel_19520/780599910.py\u001b[0m in \u001b[0;36m<module>\u001b[1;34m\u001b[0m\n\u001b[1;32m----> 1\u001b[1;33m \u001b[1;33m(\u001b[0m\u001b[0mprint5\u001b[0m\u001b[1;33m%\u001b[0m\u001b[1;36m2\u001b[0m\u001b[1;33m)\u001b[0m\u001b[1;33m\u001b[0m\u001b[1;33m\u001b[0m\u001b[0m\n\u001b[0m",
      "\u001b[1;31mNameError\u001b[0m: name 'print5' is not defined"
     ]
    }
   ],
   "source": []
  },
  {
   "cell_type": "code",
   "execution_count": 8,
   "id": "f33f272b",
   "metadata": {},
   "outputs": [
    {
     "name": "stdout",
     "output_type": "stream",
     "text": [
      "a number2\n",
      "b number2\n",
      "s = 4\n"
     ]
    }
   ],
   "source": [
    "#formula based program\n",
    "a=input(\"a number\")\n",
    "b=input(\"b number\")\n",
    "s=int(a)+int(b)\n",
    "print('s =',s)\n"
   ]
  },
  {
   "cell_type": "code",
   "execution_count": 9,
   "id": "3bdcb2cd",
   "metadata": {},
   "outputs": [
    {
     "name": "stdout",
     "output_type": "stream",
     "text": [
      "11\n"
     ]
    }
   ],
   "source": [
    "#\n",
    "a=4\n",
    "b=7\n",
    "s=(a+b)\n",
    "print(s)"
   ]
  },
  {
   "cell_type": "code",
   "execution_count": 14,
   "id": "c3568064",
   "metadata": {},
   "outputs": [
    {
     "name": "stdout",
     "output_type": "stream",
     "text": [
      "75.0\n"
     ]
    }
   ],
   "source": [
    "a=75\n",
    "b=100\n",
    "s=(75*100/100)\n",
    "print(s)"
   ]
  },
  {
   "cell_type": "code",
   "execution_count": 9,
   "id": "eaae533d",
   "metadata": {},
   "outputs": [
    {
     "name": "stdout",
     "output_type": "stream",
     "text": [
      "a number95\n",
      "b number25\n",
      "23.75\n"
     ]
    }
   ],
   "source": [
    "a=input(\"a number\")\n",
    "b=input(\"b number\")\n",
    "s=int(a)*int(b)/int(100)\n",
    "print((s))"
   ]
  },
  {
   "cell_type": "code",
   "execution_count": 23,
   "id": "86d00f07",
   "metadata": {},
   "outputs": [
    {
     "name": "stdout",
     "output_type": "stream",
     "text": [
      "a number12\n",
      "37.68\n"
     ]
    }
   ],
   "source": [
    "x=input(\"a number\")\n",
    "s=int(x)*float(3.14)\n",
    "print(s)\n",
    "\n",
    "\n",
    "\n",
    "     "
   ]
  },
  {
   "cell_type": "code",
   "execution_count": 17,
   "id": "776c249f",
   "metadata": {},
   "outputs": [
    {
     "ename": "SyntaxError",
     "evalue": "invalid syntax (Temp/ipykernel_3928/140081938.py, line 3)",
     "output_type": "error",
     "traceback": [
      "\u001b[1;36m  File \u001b[1;32m\"C:\\Users\\DELL\\AppData\\Local\\Temp/ipykernel_3928/140081938.py\"\u001b[1;36m, line \u001b[1;32m3\u001b[0m\n\u001b[1;33m    global\u001b[0m\n\u001b[1;37m          ^\u001b[0m\n\u001b[1;31mSyntaxError\u001b[0m\u001b[1;31m:\u001b[0m invalid syntax\n"
     ]
    }
   ],
   "source": [
    "def myfunc():\n",
    "  \n",
    " global\n",
    " \n",
    "  x = \"fantastic\"\n",
    "\n",
    "\n",
    "    \n"
   ]
  },
  {
   "cell_type": "code",
   "execution_count": 3,
   "id": "ad69a842",
   "metadata": {},
   "outputs": [
    {
     "data": {
      "text/plain": [
       "'Hello World'"
      ]
     },
     "execution_count": 3,
     "metadata": {},
     "output_type": "execute_result"
    }
   ],
   "source": [
    "txt = \" Hello World \"\n",
    "\n",
    "txt.strip()\n"
   ]
  },
  {
   "cell_type": "code",
   "execution_count": 4,
   "id": "454778df",
   "metadata": {},
   "outputs": [
    {
     "data": {
      "text/plain": [
       "'HELLO WORLD'"
      ]
     },
     "execution_count": 4,
     "metadata": {},
     "output_type": "execute_result"
    }
   ],
   "source": [
    "txt=\"hello world\"\n",
    "txt.upper()"
   ]
  },
  {
   "cell_type": "code",
   "execution_count": 5,
   "id": "92c6efdd",
   "metadata": {},
   "outputs": [
    {
     "data": {
      "text/plain": [
       "'hello world'"
      ]
     },
     "execution_count": 5,
     "metadata": {},
     "output_type": "execute_result"
    }
   ],
   "source": [
    "txt=\"HELLO WORLD\"\n",
    "txt.lower()"
   ]
  },
  {
   "cell_type": "code",
   "execution_count": 10,
   "id": "c3411a3e",
   "metadata": {},
   "outputs": [
    {
     "ename": "ValueError",
     "evalue": "invalid literal for int() with base 10: 'range'",
     "output_type": "error",
     "traceback": [
      "\u001b[1;31m-----------------------------\u001b[0m",
      "\u001b[1;31mValueError\u001b[0mTraceback (most recent call last)",
      "\u001b[1;32m~\\AppData\\Local\\Temp/ipykernel_19332/3279460796.py\u001b[0m in \u001b[0;36m<module>\u001b[1;34m\u001b[0m\n\u001b[0;32m      1\u001b[0m \u001b[0mnum\u001b[0m\u001b[1;33m=\u001b[0m\u001b[1;36m10\u001b[0m\u001b[1;33m\u001b[0m\u001b[1;33m\u001b[0m\u001b[0m\n\u001b[0;32m      2\u001b[0m \u001b[0mi\u001b[0m\u001b[1;33m=\u001b[0m\u001b[0mrange\u001b[0m\u001b[1;33m(\u001b[0m\u001b[1;36m1\u001b[0m\u001b[1;33m,\u001b[0m\u001b[1;36m10\u001b[0m\u001b[1;33m)\u001b[0m\u001b[1;33m\u001b[0m\u001b[1;33m\u001b[0m\u001b[0m\n\u001b[1;32m----> 3\u001b[1;33m \u001b[0ms\u001b[0m\u001b[1;33m=\u001b[0m\u001b[0mint\u001b[0m\u001b[1;33m(\u001b[0m\u001b[1;34m\"range\"\u001b[0m\u001b[1;33m)\u001b[0m\u001b[1;33m*\u001b[0m\u001b[0mint\u001b[0m\u001b[1;33m(\u001b[0m\u001b[1;34m\"num\"\u001b[0m\u001b[1;33m)\u001b[0m\u001b[1;33m\u001b[0m\u001b[1;33m\u001b[0m\u001b[0m\n\u001b[0m\u001b[0;32m      4\u001b[0m \u001b[0mprint\u001b[0m\u001b[1;33m(\u001b[0m\u001b[0ms\u001b[0m\u001b[1;33m)\u001b[0m\u001b[1;33m\u001b[0m\u001b[1;33m\u001b[0m\u001b[0m\n",
      "\u001b[1;31mValueError\u001b[0m: invalid literal for int() with base 10: 'range'"
     ]
    }
   ],
   "source": [
    "num=10\n",
    "i=range(1,10)\n",
    "s=int(\"range\")*int(\"num\")\n",
    "print(s)"
   ]
  },
  {
   "cell_type": "code",
   "execution_count": 3,
   "id": "0e777746",
   "metadata": {},
   "outputs": [
    {
     "ename": "SyntaxError",
     "evalue": "invalid syntax (Temp/ipykernel_11380/3917232514.py, line 1)",
     "output_type": "error",
     "traceback": [
      "\u001b[1;36m  File \u001b[1;32m\"C:\\Users\\DELL\\AppData\\Local\\Temp/ipykernel_11380/3917232514.py\"\u001b[1;36m, line \u001b[1;32m1\u001b[0m\n\u001b[1;33m    a=int(input a value)\u001b[0m\n\u001b[1;37m                ^\u001b[0m\n\u001b[1;31mSyntaxError\u001b[0m\u001b[1;31m:\u001b[0m invalid syntax\n"
     ]
    }
   ],
   "source": [
    "a=int(inpu )\n",
    "b=int(input a value)\n"
   ]
  },
  {
   "cell_type": "code",
   "execution_count": 8,
   "id": "434bf700",
   "metadata": {},
   "outputs": [
    {
     "ename": "SyntaxError",
     "evalue": "unexpected EOF while parsing (Temp/ipykernel_11380/2288330734.py, line 8)",
     "output_type": "error",
     "traceback": [
      "\u001b[1;36m  File \u001b[1;32m\"C:\\Users\\DELL\\AppData\\Local\\Temp/ipykernel_11380/2288330734.py\"\u001b[1;36m, line \u001b[1;32m8\u001b[0m\n\u001b[1;33m    print(type(x1)\u001b[0m\n\u001b[1;37m                  ^\u001b[0m\n\u001b[1;31mSyntaxError\u001b[0m\u001b[1;31m:\u001b[0m unexpected EOF while parsing\n"
     ]
    }
   ],
   "source": [
    "x1 = {\"name\" : \"John\", \"age\" : 36}\n",
    "\n",
    "x2=(\"name\",\"johan\",\"age\",36)\n",
    "\n",
    "x3={\"name\",\"johan\",\"age\",36}\n",
    "\n",
    "x4=(\"name\",\"johan\",\"age\")\n",
    "print(type(x1)"
   ]
  },
  {
   "cell_type": "code",
   "execution_count": 2,
   "id": "959272ce",
   "metadata": {},
   "outputs": [
    {
     "name": "stdout",
     "output_type": "stream",
     "text": [
      "<class 'tuple'>\n"
     ]
    }
   ],
   "source": [
    "x=(\"name\",\"johan\",\"age\",36)\n",
    "print(type(x))"
   ]
  },
  {
   "cell_type": "code",
   "execution_count": 3,
   "id": "9a6d43a1",
   "metadata": {},
   "outputs": [
    {
     "name": "stdout",
     "output_type": "stream",
     "text": [
      "<class 'set'>\n"
     ]
    }
   ],
   "source": [
    "x={\"name\",\"johan\",\"age\",36}\n",
    "print(type(x))"
   ]
  },
  {
   "cell_type": "code",
   "execution_count": 6,
   "id": "aa51e987",
   "metadata": {},
   "outputs": [
    {
     "name": "stdout",
     "output_type": "stream",
     "text": [
      "<class 'tuple'>\n"
     ]
    }
   ],
   "source": [
    "x=(\"name\",\"johan\",\"age\")\n",
    "print(type(x))"
   ]
  },
  {
   "cell_type": "code",
   "execution_count": 9,
   "id": "e9706194",
   "metadata": {},
   "outputs": [
    {
     "ename": "SyntaxError",
     "evalue": "invalid syntax (Temp/ipykernel_10500/3221839713.py, line 2)",
     "output_type": "error",
     "traceback": [
      "\u001b[1;36m  File \u001b[1;32m\"C:\\Users\\DELL\\AppData\\Local\\Temp/ipykernel_10500/3221839713.py\"\u001b[1;36m, line \u001b[1;32m2\u001b[0m\n\u001b[1;33m    print str(len(0))\u001b[0m\n\u001b[1;37m          ^\u001b[0m\n\u001b[1;31mSyntaxError\u001b[0m\u001b[1;31m:\u001b[0m invalid syntax\n"
     ]
    }
   ],
   "source": [
    "x='''my name is aditya sharma i m a student of cdac patna '''\n",
    "print str(len(0))"
   ]
  },
  {
   "cell_type": "code",
   "execution_count": 4,
   "id": "66265aff",
   "metadata": {},
   "outputs": [
    {
     "name": "stdout",
     "output_type": "stream",
     "text": [
      "False\n"
     ]
    }
   ],
   "source": [
    "year =1999\n",
    "is_leapyear = year % 4 == 0 \n",
    "print(is_leapyear)\n",
    "\n"
   ]
  },
  {
   "cell_type": "code",
   "execution_count": 6,
   "id": "f672a816",
   "metadata": {},
   "outputs": [
    {
     "name": "stdout",
     "output_type": "stream",
     "text": [
      "year2022\n"
     ]
    },
    {
     "ename": "TypeError",
     "evalue": "not all arguments converted during string formatting",
     "output_type": "error",
     "traceback": [
      "\u001b[1;31m---------------------------------------------------------------------------\u001b[0m",
      "\u001b[1;31mTypeError\u001b[0m                                 Traceback (most recent call last)",
      "\u001b[1;32m~\\AppData\\Local\\Temp/ipykernel_5580/2920377799.py\u001b[0m in \u001b[0;36m<module>\u001b[1;34m\u001b[0m\n\u001b[0;32m      1\u001b[0m \u001b[0ma\u001b[0m\u001b[1;33m=\u001b[0m\u001b[0minput\u001b[0m \u001b[1;33m(\u001b[0m\u001b[1;34m\"year\"\u001b[0m\u001b[1;33m)\u001b[0m\u001b[1;33m\u001b[0m\u001b[1;33m\u001b[0m\u001b[0m\n\u001b[1;32m----> 2\u001b[1;33m \u001b[1;32mif\u001b[0m \u001b[0ma\u001b[0m\u001b[1;33m%\u001b[0m\u001b[1;36m4\u001b[0m\u001b[1;33m==\u001b[0m\u001b[1;36m0\u001b[0m\u001b[1;33m:\u001b[0m\u001b[1;33m\u001b[0m\u001b[1;33m\u001b[0m\u001b[0m\n\u001b[0m\u001b[0;32m      3\u001b[0m     \u001b[0mprint\u001b[0m\u001b[1;33m(\u001b[0m\u001b[1;34m\"year is  a leap year\"\u001b[0m\u001b[1;33m)\u001b[0m\u001b[1;33m\u001b[0m\u001b[1;33m\u001b[0m\u001b[0m\n\u001b[0;32m      4\u001b[0m \u001b[1;32melse\u001b[0m\u001b[1;33m:\u001b[0m\u001b[1;33m\u001b[0m\u001b[1;33m\u001b[0m\u001b[0m\n\u001b[0;32m      5\u001b[0m     \u001b[0mprint\u001b[0m\u001b[1;33m(\u001b[0m\u001b[1;34m\"year is not a leap year\"\u001b[0m\u001b[1;33m)\u001b[0m\u001b[1;33m\u001b[0m\u001b[1;33m\u001b[0m\u001b[0m\n",
      "\u001b[1;31mTypeError\u001b[0m: not all arguments converted during string formatting"
     ]
    }
   ],
   "source": [
    "a=input (\"year\")\n",
    "if a%4==0:\n",
    "    print(\"year is  a leap year\")\n",
    "else:\n",
    "    print(\"year is not a leap year\")"
   ]
  },
  {
   "cell_type": "code",
   "execution_count": 7,
   "id": "5139e9ec",
   "metadata": {},
   "outputs": [
    {
     "name": "stdout",
     "output_type": "stream",
     "text": [
      "2022\n",
      "not a leap year\n"
     ]
    }
   ],
   "source": [
    "a=int(input())\n",
    "if a%4==0:\n",
    "    print(\"leap year\")\n",
    "else:\n",
    "    print(\"not a leap year\")\n",
    " "
   ]
  },
  {
   "cell_type": "code",
   "execution_count": 12,
   "id": "1b54417b",
   "metadata": {},
   "outputs": [
    {
     "name": "stdout",
     "output_type": "stream",
     "text": [
      "number=2\n",
      "number=3\n",
      "year=2024\n",
      "leap year\n",
      "u=2\n",
      "z=3\n",
      "number =4\n",
      "postive\n",
      "number 1=6\n",
      "number 2=7\n",
      "number 3=8\n",
      "8\n",
      "3 2 4 3.0\n"
     ]
    }
   ],
   "source": [
    "#swapping the value.\n",
    "x=int(input('number='))\n",
    "y=int(input('number='))\n",
    "temp = x\n",
    "x = y\n",
    "y = temp\n",
    "a=int(input('year='))\n",
    "if a%4==0:\n",
    "    print(\"leap year\")\n",
    "else:\n",
    "    print(\"not a leap year\")\n",
    "l=float(input(\"u=\"))\n",
    "b=float(input(\"z=\"))\n",
    "s=float(0.5)*l*b\n",
    "a=int(input(\"number =\"))\n",
    "if a%3==0:\n",
    "    print(\"negative\")\n",
    "else:\n",
    "    print(\"postive\")\n",
    "    \n",
    "num1=int(input(\"number 1=\"))\n",
    "num2=int(input(\"number 2=\"))\n",
    "num3=int(input(\"number 3=\"))\n",
    "if(num1>=num2)and(num1>=num3):\n",
    "    print(num1)\n",
    "elif(num2>=num1)and (num2>=num3):\n",
    "    print(num2)\n",
    "else:\n",
    "    print(num3)\n",
    "print(x,y,a,s)\n"
   ]
  },
  {
   "cell_type": "code",
   "execution_count": null,
   "id": "360fd9ae",
   "metadata": {},
   "outputs": [],
   "source": [
    "#find the area of tringle \n",
    "l=float(input())\n",
    "b=float(input())\n",
    "s=float(0.5)*l*b\n",
    "print(s)\n",
    "\n"
   ]
  },
  {
   "cell_type": "code",
   "execution_count": null,
   "id": "3a4ec8b0",
   "metadata": {},
   "outputs": [],
   "source": [
    "#find area of rectangel\n",
    "l=int(input())\n",
    "b=int(input())\n",
    "a=l*b\n",
    "print(\"area of\" a)\n",
    "\n",
    "#prameter of triangle\n",
    "l=int(input())\n",
    "b=int(input())\n",
    "a=float(0.5)+l+b\n",
    "print(\"area of a\")"
   ]
  },
  {
   "cell_type": "code",
   "execution_count": null,
   "id": "33082097",
   "metadata": {},
   "outputs": [],
   "source": [
    "l=int(input())\n",
    "b=int(input())\n",
    "a=float(0.5)+l+b\n",
    "\n",
    "print(a)"
   ]
  },
  {
   "cell_type": "code",
   "execution_count": 32,
   "id": "cbaac72b",
   "metadata": {},
   "outputs": [
    {
     "ename": "SyntaxError",
     "evalue": "invalid syntax (Temp/ipykernel_20860/4065395650.py, line 20)",
     "output_type": "error",
     "traceback": [
      "\u001b[1;36m  File \u001b[1;32m\"C:\\Users\\DELL\\AppData\\Local\\Temp/ipykernel_20860/4065395650.py\"\u001b[1;36m, line \u001b[1;32m20\u001b[0m\n\u001b[1;33m    B=if x>0:\u001b[0m\n\u001b[1;37m      ^\u001b[0m\n\u001b[1;31mSyntaxError\u001b[0m\u001b[1;31m:\u001b[0m invalid syntax\n"
     ]
    }
   ],
   "source": [
    "# This program adds two numbers\n",
    "# Python Program to calculate the square root\n",
    "# Taking kilometers input from the user\n",
    "#Python program to check if the input number is odd or even.\n",
    "# A number is even if division by 2 gives a remainder of 0.\n",
    "# If the remainder is 1, it is an odd number.\n",
    "# Python program to find the largest number among the three input numbers\n",
    "\n",
    "# change the values of num1, num2 and num3\n",
    "# for a different result\n",
    "#cheack the number is positve or negative\n",
    "## Python Program to convert temperature in celsius to fahrenheit\n",
    "\n",
    "# change this value for a different result\n",
    "x=int(input(\"number 1\"))\n",
    "y=int(input(\"number 2\"))\n",
    "\n",
    "sum=x+y\n",
    "\n",
    "B=if x>0:\n",
    "    print(\"x is negative\")\n",
    "else:\n",
    "    print(\"x is postive\")\n",
    "    print (sum,A)\n",
    "    \n",
    "    \n",
    "       \n",
    "    \n",
    "\n",
    "                   \n",
    " \n",
    "          \n",
    "     \n",
    "        \n",
    "    \n"
   ]
  },
  {
   "cell_type": "code",
   "execution_count": 31,
   "id": "98a90738",
   "metadata": {},
   "outputs": [
    {
     "ename": "IndentationError",
     "evalue": "unindent does not match any outer indentation level (<tokenize>, line 3)",
     "output_type": "error",
     "traceback": [
      "\u001b[1;36m  File \u001b[1;32m\"<tokenize>\"\u001b[1;36m, line \u001b[1;32m3\u001b[0m\n\u001b[1;33m    else:\u001b[0m\n\u001b[1;37m    ^\u001b[0m\n\u001b[1;31mIndentationError\u001b[0m\u001b[1;31m:\u001b[0m unindent does not match any outer indentation level\n"
     ]
    }
   ],
   "source": [
    "if x>y:\n",
    "               print(\"x is negative\")\n",
    "        else:\n",
    "               print(\"y is negative)\n",
    "    \n",
    "               "
   ]
  },
  {
   "cell_type": "code",
   "execution_count": 10,
   "id": "29ee70c1",
   "metadata": {},
   "outputs": [
    {
     "name": "stdout",
     "output_type": "stream",
     "text": [
      "number =2\n",
      "postive\n",
      "number 1=2\n",
      "number 2=3\n",
      "number 3=4\n",
      "number3 is greater= 4\n"
     ]
    }
   ],
   "source": [
    "#nuber is negative and which on is greater\n",
    "a=int(input(\"number =\"))\n",
    "if a%3==0:\n",
    "    print(\"negative\")\n",
    "else:\n",
    "    print(\"postive\")\n",
    "num1=int(input(\"number 1=\"))\n",
    "num2=int(input(\"number 2=\"))\n",
    "num3=int(input(\"number 3=\"))\n",
    "if(num1>=num2)and(num1>=num3):\n",
    "    print(\"number1 is greater =\",num1)\n",
    "elif(num2>=num1)and (num2>=num3):\n",
    "    print('number2 is greater=',num2)\n",
    "else:\n",
    "    print(\"number3 is greater=\",num3)"
   ]
  },
  {
   "cell_type": "code",
   "execution_count": null,
   "id": "c72d78e1",
   "metadata": {},
   "outputs": [],
   "source": [
    "num = int(input(\"Display multiplication table of? \"))\n",
    "x=(a,b,c,e,f)*(num)\n",
    "print(x)\n"
   ]
  },
  {
   "cell_type": "code",
   "execution_count": null,
   "id": "7d88f99d",
   "metadata": {},
   "outputs": [],
   "source": [
    "#print(values,sep=\",end=\"/n\")\n"
   ]
  },
  {
   "cell_type": "code",
   "execution_count": null,
   "id": "966ea2f4",
   "metadata": {},
   "outputs": [],
   "source": [
    "print(\"d\",\"a\",sep=\"\",)\n",
    "print(\"I\")"
   ]
  },
  {
   "cell_type": "code",
   "execution_count": 7,
   "id": "86b67379",
   "metadata": {},
   "outputs": [
    {
     "name": "stdout",
     "output_type": "stream",
     "text": [
      "geeks : 123, portal:  5.34 \n"
     ]
    }
   ],
   "source": [
    "print(\"geeks : %2d, portal: %5.2f \"%(123,05.337))"
   ]
  },
  {
   "cell_type": "code",
   "execution_count": 8,
   "id": "93ad6d87",
   "metadata": {},
   "outputs": [
    {
     "name": "stdout",
     "output_type": "stream",
     "text": [
      "-1\n"
     ]
    }
   ],
   "source": [
    "print(11%-4)"
   ]
  },
  {
   "cell_type": "code",
   "execution_count": 9,
   "id": "9f3b98cb",
   "metadata": {},
   "outputs": [
    {
     "name": "stdout",
     "output_type": "stream",
     "text": [
      "-3\n"
     ]
    }
   ],
   "source": [
    "print(-11%-4)"
   ]
  },
  {
   "cell_type": "code",
   "execution_count": 2,
   "id": "3011c3e6",
   "metadata": {},
   "outputs": [
    {
     "ename": "SyntaxError",
     "evalue": "invalid syntax (Temp/ipykernel_17492/1823215741.py, line 9)",
     "output_type": "error",
     "traceback": [
      "\u001b[1;36m  File \u001b[1;32m\"C:\\Users\\DELL\\AppData\\Local\\Temp/ipykernel_17492/1823215741.py\"\u001b[1;36m, line \u001b[1;32m9\u001b[0m\n\u001b[1;33m    print(\"s=\"s,\"sub=\"sub,\"p=\"p,\"d=\"d,\"f=\"f,\"m=\"m)\u001b[0m\n\u001b[1;37m              ^\u001b[0m\n\u001b[1;31mSyntaxError\u001b[0m\u001b[1;31m:\u001b[0m invalid syntax\n"
     ]
    }
   ],
   "source": [
    "a=int(input(\"a =\"))\n",
    "b=int(input(\"b =\"))\n",
    "s=a+b\n",
    "sub=a-b\n",
    "p=a*b\n",
    "d=a/b\n",
    "f=a//b\n",
    "m=a%b\n",
    "print(\"s=\"s,\"sub=\"sub,\"p=\"p,\"d=\"d,\"f=\"f,\"m=\"m)"
   ]
  },
  {
   "cell_type": "code",
   "execution_count": 4,
   "id": "631ef0a5",
   "metadata": {},
   "outputs": [
    {
     "name": "stdout",
     "output_type": "stream",
     "text": [
      "12\n",
      "5\n",
      "True True True False True True\n"
     ]
    }
   ],
   "source": [
    "a=int(input())\n",
    "b=int(input())\n",
    "a=a>b\n",
    "b=a<b\n",
    "c=a==b\n",
    "d=a!=b\n",
    "e=a>=b\n",
    "f=a<=b\n",
    "print(a,b,c,d,e,f)"
   ]
  },
  {
   "cell_type": "code",
   "execution_count": 5,
   "id": "2417d35d",
   "metadata": {},
   "outputs": [
    {
     "name": "stdout",
     "output_type": "stream",
     "text": [
      "22\n",
      "3\n",
      "a is greater\n"
     ]
    }
   ],
   "source": [
    "a=int(input())\n",
    "b=int(input())\n",
    "if a>b:\n",
    "    print(\"a is greater\")\n",
    "else:\n",
    "    print(\"b is less\")"
   ]
  },
  {
   "cell_type": "code",
   "execution_count": 1,
   "id": "9886f457",
   "metadata": {},
   "outputs": [
    {
     "name": "stdout",
     "output_type": "stream",
     "text": [
      "17\n",
      "! divisible\n"
     ]
    }
   ],
   "source": [
    "a=int(input())\n",
    "if a%3==0:\n",
    "    print(\"divisble\")\n",
    "else:\n",
    "    print(\"! divisible\")\n"
   ]
  },
  {
   "cell_type": "code",
   "execution_count": 2,
   "id": "3f172bbb",
   "metadata": {},
   "outputs": [
    {
     "name": "stdout",
     "output_type": "stream",
     "text": [
      "2\n",
      "2\n",
      "square\n"
     ]
    }
   ],
   "source": [
    "a=int(input())\n",
    "b=int(input())\n",
    "if a==b:\n",
    "    print(\"square\")\n",
    "else:\n",
    "    print(\"not a square\")\n"
   ]
  },
  {
   "cell_type": "code",
   "execution_count": 5,
   "id": "7ec43ee7",
   "metadata": {},
   "outputs": [
    {
     "name": "stdout",
     "output_type": "stream",
     "text": [
      "a=2\n",
      "b=3\n",
      "c=4\n",
      "4\n"
     ]
    }
   ],
   "source": [
    "num1=int(input(\"a=\"))\n",
    "num2=int(input(\"b=\"))\n",
    "num3=int(input(\"c=\"))\n",
    "if num1>num2:\n",
    "    print(num1)\n",
    "elif num2>num3:\n",
    "    print(num2)\n",
    "else:\n",
    "    print(num3)"
   ]
  },
  {
   "cell_type": "code",
   "execution_count": 13,
   "id": "166a5256",
   "metadata": {},
   "outputs": [
    {
     "name": "stdout",
     "output_type": "stream",
     "text": [
      "12\n",
      "(1, 2, 3, 4, 5, 6, 1, 2, 3, 4, 5, 6, 1, 2, 3, 4, 5, 6, 1, 2, 3, 4, 5, 6, 1, 2, 3, 4, 5, 6, 1, 2, 3, 4, 5, 6, 1, 2, 3, 4, 5, 6, 1, 2, 3, 4, 5, 6, 1, 2, 3, 4, 5, 6, 1, 2, 3, 4, 5, 6, 1, 2, 3, 4, 5, 6, 1, 2, 3, 4, 5, 6)\n"
     ]
    }
   ],
   "source": [
    "x=int(input ())\n",
    "a=(1,2,3,4,5,6)\n",
    "z=a*x\n",
    "print(z)\n",
    "    "
   ]
  },
  {
   "cell_type": "code",
   "execution_count": 1,
   "id": "a17384ce",
   "metadata": {},
   "outputs": [
    {
     "ename": "SyntaxError",
     "evalue": "invalid syntax (Temp/ipykernel_468/740769856.py, line 8)",
     "output_type": "error",
     "traceback": [
      "\u001b[1;36m  File \u001b[1;32m\"C:\\Users\\DELL\\AppData\\Local\\Temp/ipykernel_468/740769856.py\"\u001b[1;36m, line \u001b[1;32m8\u001b[0m\n\u001b[1;33m    else a>b and b=c:\u001b[0m\n\u001b[1;37m         ^\u001b[0m\n\u001b[1;31mSyntaxError\u001b[0m\u001b[1;31m:\u001b[0m invalid syntax\n"
     ]
    }
   ],
   "source": [
    "a=int(input ())\n",
    "b=int(input ())\n",
    "c=int(input ())\n",
    "if (a>b>c):\n",
    "    print(\"Isosceles Triangle\")\n",
    "elif (a=b=c):\n",
    "    print(\"Equilateral Triangle\")\n",
    "else a>b and b=c:\n",
    "    print(\"Scalene Triangle\")\n",
    "\n",
    "\n"
   ]
  },
  {
   "cell_type": "markdown",
   "id": "8ac062bf",
   "metadata": {},
   "source": [
    "a=int(input ())\n",
    "b=int(input ())\n",
    "c=int(input ())\n",
    "if a+b>c:\n",
    "    print(\"is a triangle\")\n",
    "else:\n",
    "    print(\"not a triangle\")"
   ]
  },
  {
   "cell_type": "code",
   "execution_count": 2,
   "id": "c7d8fb4e",
   "metadata": {},
   "outputs": [
    {
     "data": {
      "text/plain": [
       "36"
      ]
     },
     "execution_count": 2,
     "metadata": {},
     "output_type": "execute_result"
    }
   ],
   "source": [
    "import keyword\n",
    "len(keyword.kwlist)\n"
   ]
  },
  {
   "cell_type": "code",
   "execution_count": 3,
   "id": "35313155",
   "metadata": {},
   "outputs": [
    {
     "ename": "SyntaxError",
     "evalue": "cannot assign to operator (Temp/ipykernel_9084/792186937.py, line 8)",
     "output_type": "error",
     "traceback": [
      "\u001b[1;36m  File \u001b[1;32m\"C:\\Users\\DELL\\AppData\\Local\\Temp/ipykernel_9084/792186937.py\"\u001b[1;36m, line \u001b[1;32m8\u001b[0m\n\u001b[1;33m    a@b=10\u001b[0m\n\u001b[1;37m    ^\u001b[0m\n\u001b[1;31mSyntaxError\u001b[0m\u001b[1;31m:\u001b[0m cannot assign to operator\n"
     ]
    }
   ],
   "source": [
    "a=10\n",
    "aa=10\n",
    "ab=10\n",
    "\n",
    "a1a=0\n",
    "a_a=10\n",
    "ab1=10\n",
    "a@b=10\n",
    "a$a=\n",
    "Aa=10\n",
    "A_=10\n",
    "_a=10\n",
    "_a=10\n",
    "\n",
    "\n"
   ]
  },
  {
   "cell_type": "code",
   "execution_count": 8,
   "id": "50399f26",
   "metadata": {},
   "outputs": [
    {
     "data": {
      "text/plain": [
       "'nj'"
      ]
     },
     "execution_count": 8,
     "metadata": {},
     "output_type": "execute_result"
    }
   ],
   "source": [
    "#indexing \n",
    "a=\"ranjan\"\n",
    "\n",
    "a[2:4]"
   ]
  },
  {
   "cell_type": "code",
   "execution_count": 9,
   "id": "29f77331",
   "metadata": {},
   "outputs": [
    {
     "data": {
      "text/plain": [
       "'n'"
      ]
     },
     "execution_count": 9,
     "metadata": {},
     "output_type": "execute_result"
    }
   ],
   "source": [
    "a=\"ranjan\"\n",
    "a[2:3]"
   ]
  },
  {
   "cell_type": "code",
   "execution_count": 10,
   "id": "f9e2ad47",
   "metadata": {},
   "outputs": [],
   "source": [
    "#syntax string_ name[start index:end index]\n",
    "#string_name [start_index:end index]\n",
    "#if we will not give end_index then during slicing we will get all the character till the end\n",
    "#if we will not give start_then by default it will with 0"
   ]
  },
  {
   "cell_type": "code",
   "execution_count": 11,
   "id": "d695d590",
   "metadata": {},
   "outputs": [
    {
     "data": {
      "text/plain": [
       "'ran'"
      ]
     },
     "execution_count": 11,
     "metadata": {},
     "output_type": "execute_result"
    }
   ],
   "source": [
    "a[:3]\n"
   ]
  },
  {
   "cell_type": "code",
   "execution_count": 12,
   "id": "b54ec2b7",
   "metadata": {},
   "outputs": [
    {
     "data": {
      "text/plain": [
       "'jan'"
      ]
     },
     "execution_count": 12,
     "metadata": {},
     "output_type": "execute_result"
    }
   ],
   "source": [
    "a[3:]"
   ]
  },
  {
   "cell_type": "code",
   "execution_count": 13,
   "id": "508c2008",
   "metadata": {},
   "outputs": [
    {
     "data": {
      "text/plain": [
       "'nja'"
      ]
     },
     "execution_count": 13,
     "metadata": {},
     "output_type": "execute_result"
    }
   ],
   "source": [
    "a[2:5]"
   ]
  },
  {
   "cell_type": "code",
   "execution_count": 14,
   "id": "d0c341b7",
   "metadata": {},
   "outputs": [
    {
     "data": {
      "text/plain": [
       "'dgik'"
      ]
     },
     "execution_count": 14,
     "metadata": {},
     "output_type": "execute_result"
    }
   ],
   "source": [
    "a=\"ancdfghijklmnop\"\n",
    "a[3:10:2]\n"
   ]
  },
  {
   "cell_type": "code",
   "execution_count": 15,
   "id": "d769d9e6",
   "metadata": {},
   "outputs": [
    {
     "data": {
      "text/plain": [
       "'dhkn'"
      ]
     },
     "execution_count": 15,
     "metadata": {},
     "output_type": "execute_result"
    }
   ],
   "source": [
    "a[3: :3]"
   ]
  },
  {
   "cell_type": "code",
   "execution_count": 16,
   "id": "3818d4f0",
   "metadata": {},
   "outputs": [
    {
     "data": {
      "text/plain": [
       "'ponmlkjihgfdcna'"
      ]
     },
     "execution_count": 16,
     "metadata": {},
     "output_type": "execute_result"
    }
   ],
   "source": [
    "a[ : :-1]"
   ]
  },
  {
   "cell_type": "code",
   "execution_count": 1,
   "id": "006a8a0e",
   "metadata": {},
   "outputs": [
    {
     "name": "stdout",
     "output_type": "stream",
     "text": [
      "True\n"
     ]
    }
   ],
   "source": [
    "#membership opertor\n",
    "s=[1,2,3,\"cdac\"]\n",
    "print(3 in s)"
   ]
  },
  {
   "cell_type": "code",
   "execution_count": 4,
   "id": "f23451f2",
   "metadata": {},
   "outputs": [
    {
     "name": "stdout",
     "output_type": "stream",
     "text": [
      "False\n"
     ]
    }
   ],
   "source": [
    "print( 2 not in s)"
   ]
  },
  {
   "cell_type": "code",
   "execution_count": 5,
   "id": "22b9b33c",
   "metadata": {},
   "outputs": [],
   "source": [
    "#idenity opertors\n",
    "#control flow\n",
    "#conditonal programming \n",
    "#conditons if and else \n",
    "\n",
    "\n"
   ]
  },
  {
   "cell_type": "code",
   "execution_count": 4,
   "id": "0000454d",
   "metadata": {},
   "outputs": [
    {
     "ename": "SyntaxError",
     "evalue": "invalid syntax (Temp/ipykernel_8440/4199357593.py, line 5)",
     "output_type": "error",
     "traceback": [
      "\u001b[1;36m  File \u001b[1;32m\"C:\\Users\\DELL\\AppData\\Local\\Temp/ipykernel_8440/4199357593.py\"\u001b[1;36m, line \u001b[1;32m5\u001b[0m\n\u001b[1;33m    if a*a+b*b==c*c or a*a+c*c\u001b[0m\n\u001b[1;37m                              ^\u001b[0m\n\u001b[1;31mSyntaxError\u001b[0m\u001b[1;31m:\u001b[0m invalid syntax\n"
     ]
    }
   ],
   "source": [
    "#u have check right angled triangle and isocesles triangele\n",
    "a=int(input())\n",
    "b=int(input())\n",
    "c=int(input())\n",
    "if a*a+b*b==c*c or a*a+c*c\n",
    "    print(\"right angled triangle\")\n",
    "else:\n",
    "    print(\"not a right angled tringle\")\n",
    "\n",
    "\n",
    "    "
   ]
  },
  {
   "cell_type": "code",
   "execution_count": null,
   "id": "275cf9a2",
   "metadata": {},
   "outputs": [],
   "source": [
    "#number is odd or not \n",
    "a=int(input())\n",
    "\n",
    "if a%2:\n",
    "    print(\"no.odd\")\n",
    "else:\n",
    "    print(\"no. is not odd\")"
   ]
  },
  {
   "cell_type": "code",
   "execution_count": 1,
   "id": "748e7bd0",
   "metadata": {},
   "outputs": [
    {
     "name": "stdout",
     "output_type": "stream",
     "text": [
      "number 1=2\n",
      "number 2=3\n",
      "5\n",
      "2 3 invalid no\n"
     ]
    }
   ],
   "source": [
    "x=int(input(\"number 1=\"))\n",
    "y=int(input(\"number 2=\"))\n",
    "z=input()\n",
    "if(z==\"+\"):\n",
    "    print(x+y)\n",
    "   \n",
    "    \n",
    "elif(z==\"*\"):\n",
    "    print(x*y) \n",
    "elif(z==\"/\"):\n",
    "    print(x/y)\n",
    "elif(z==\"%\"):\n",
    "    print(x%y)\n",
    "\n",
    "else:\n",
    "    print(x,y,\"invalid no\")\n"
   ]
  },
  {
   "cell_type": "markdown",
   "id": "7811684e",
   "metadata": {},
   "source": [
    "num1=16\n",
    "num=3\n",
    "op=input(\"enter the opertors sign\")\n",
    "if op==\"+\":\n",
    "    print(num1+num2)\n",
    "elif op==\"-\":\n",
    "    print(num1-num2)\n",
    "elif op==\"*\":\n",
    "    print(num1*num2)\n",
    "elif op==\"/\":\n",
    "    print(num1/num2)\n",
    "elif op==\"%\":\n",
    "    print(num1%num2)\n",
    "else:\n",
    "    print(num1,num2,\"invalid no.\")\n",
    "    \n"
   ]
  },
  {
   "cell_type": "code",
   "execution_count": 7,
   "id": "eae7cd71",
   "metadata": {},
   "outputs": [
    {
     "name": "stdout",
     "output_type": "stream",
     "text": [
      "5units\n"
     ]
    }
   ],
   "source": [
    "u=500\n",
    "if 100>500:\n",
    "    print(\"free\")\n",
    "elif 400>500:\n",
    "    print(\"2 unit\")\n",
    "elif 1000>500:\n",
    "    print(\"5units\")\n",
    "else:\n",
    "    print(\"invalid\")\n",
    "\n",
    "   "
   ]
  },
  {
   "cell_type": "code",
   "execution_count": 9,
   "id": "9d9e646d",
   "metadata": {},
   "outputs": [
    {
     "name": "stdout",
     "output_type": "stream",
     "text": [
      "cdac\n",
      "patna,pgai\n"
     ]
    }
   ],
   "source": [
    "#loops\n",
    "#for\n",
    "list=[\"cdac\",\"patna,\"\"pgai\"]\n",
    "#print the element\n",
    "for i in list:\n",
    "    print(i)\n",
    "                    \n"
   ]
  },
  {
   "cell_type": "code",
   "execution_count": 3,
   "id": "760c798b",
   "metadata": {},
   "outputs": [
    {
     "ename": "SyntaxError",
     "evalue": "cannot assign to function call (Temp/ipykernel_11364/2467274701.py, line 1)",
     "output_type": "error",
     "traceback": [
      "\u001b[1;36m  File \u001b[1;32m\"C:\\Users\\DELL\\AppData\\Local\\Temp/ipykernel_11364/2467274701.py\"\u001b[1;36m, line \u001b[1;32m1\u001b[0m\n\u001b[1;33m    range(6)=[0,1,2,3,4,5]\u001b[0m\n\u001b[1;37m    ^\u001b[0m\n\u001b[1;31mSyntaxError\u001b[0m\u001b[1;31m:\u001b[0m cannot assign to function call\n"
     ]
    }
   ],
   "source": [
    "range(6)=[0,1,2,3,4,5]\n",
    "range(3,6)=[3,4,5]\n",
    "range(start,end,stepsize)# start=0, end   stepsize=1\n"
   ]
  },
  {
   "cell_type": "code",
   "execution_count": 4,
   "id": "3836a703",
   "metadata": {},
   "outputs": [],
   "source": [
    "for i in range(1):\n",
    "    print(i)\n"
   ]
  },
  {
   "cell_type": "code",
   "execution_count": 5,
   "id": "76e0055f",
   "metadata": {},
   "outputs": [
    {
     "name": "stdout",
     "output_type": "stream",
     "text": [
      "1\n",
      "3\n",
      "5\n",
      "7\n",
      "9\n"
     ]
    }
   ],
   "source": [
    "for i in range(1,10,2):\n",
    "    print(i)"
   ]
  },
  {
   "cell_type": "code",
   "execution_count": 8,
   "id": "e3d1def2",
   "metadata": {},
   "outputs": [
    {
     "name": "stdout",
     "output_type": "stream",
     "text": [
      "False\n"
     ]
    },
    {
     "ename": "NameError",
     "evalue": "name 'lk' is not defined",
     "output_type": "error",
     "traceback": [
      "\u001b[1;31m---------------------------------------------------------------------------\u001b[0m",
      "\u001b[1;31mNameError\u001b[0m                                 Traceback (most recent call last)",
      "\u001b[1;32m~\\AppData\\Local\\Temp/ipykernel_11364/2167638374.py\u001b[0m in \u001b[0;36m<module>\u001b[1;34m\u001b[0m\n\u001b[0;32m      3\u001b[0m         \u001b[0mprint\u001b[0m\u001b[1;33m(\u001b[0m\u001b[0mi\u001b[0m\u001b[1;33m,\u001b[0m\u001b[0mend\u001b[0m\u001b[1;33m=\u001b[0m\u001b[1;34m\"\"\u001b[0m\u001b[1;33m)\u001b[0m\u001b[1;33m\u001b[0m\u001b[1;33m\u001b[0m\u001b[0m\n\u001b[0;32m      4\u001b[0m \u001b[1;33m\u001b[0m\u001b[0m\n\u001b[1;32m----> 5\u001b[1;33m     \u001b[0mlk\u001b[0m\u001b[1;33m\u001b[0m\u001b[1;33m\u001b[0m\u001b[0m\n\u001b[0m",
      "\u001b[1;31mNameError\u001b[0m: name 'lk' is not defined"
     ]
    }
   ],
   "source": [
    "for i in range(1,100):\n",
    "    if print(i%3==0):\n",
    "        print(i,end=\"\")\n",
    "\n",
    "    lk"
   ]
  },
  {
   "cell_type": "code",
   "execution_count": 1,
   "id": "5706f1b5",
   "metadata": {},
   "outputs": [
    {
     "ename": "SyntaxError",
     "evalue": "invalid syntax (Temp/ipykernel_17000/177378023.py, line 2)",
     "output_type": "error",
     "traceback": [
      "\u001b[1;36m  File \u001b[1;32m\"C:\\Users\\DELL\\AppData\\Local\\Temp/ipykernel_17000/177378023.py\"\u001b[1;36m, line \u001b[1;32m2\u001b[0m\n\u001b[1;33m    it is define by square bracet[].\u001b[0m\n\u001b[1;37m                 ^\u001b[0m\n\u001b[1;31mSyntaxError\u001b[0m\u001b[1;31m:\u001b[0m invalid syntax\n"
     ]
    }
   ],
   "source": [
    "#list\n",
    "it is define by square bracet[].\n",
    "it is allow indexing and silicing.\n",
    "it allow hetreogenous elements.\n",
    "it is mutable.\n",
    "#given the name is know as in\n",
    "#tuple\n",
    "it is define by square bracet[].\n",
    "it is allow indexing and silicing.\n",
    "it allow hetreogenous elements.\n",
    "it is in mutable"
   ]
  },
  {
   "cell_type": "code",
   "execution_count": 18,
   "id": "ab77a112",
   "metadata": {},
   "outputs": [
    {
     "name": "stdout",
     "output_type": "stream",
     "text": [
      "[10, 10.5, 'rajan', (10+20j), 'true', 'true']\n"
     ]
    }
   ],
   "source": [
    "b=[10,10.5,\"rajan\",10+20j,\"true\"]\n",
    "type(b)\n",
    "b.append(\"true\")\n",
    "print(b)"
   ]
  },
  {
   "cell_type": "code",
   "execution_count": 44,
   "id": "e642eb43",
   "metadata": {},
   "outputs": [
    {
     "name": "stdout",
     "output_type": "stream",
     "text": [
      "[]\n",
      "['r', 'a', 'j', 'a', 'n']\n",
      "['r', 'a', 'j', 'a', 'n']\n",
      "['n', 'a', 'j', 'a', 'r']\n",
      "['a', 'a', 'j', 'n', 'r']\n"
     ]
    },
    {
     "ename": "TypeError",
     "evalue": "'str' object cannot be interpreted as an integer",
     "output_type": "error",
     "traceback": [
      "\u001b[1;31m---------------------------------------------------------------------------\u001b[0m",
      "\u001b[1;31mTypeError\u001b[0m                                 Traceback (most recent call last)",
      "\u001b[1;32m~\\AppData\\Local\\Temp/ipykernel_8380/489024248.py\u001b[0m in \u001b[0;36m<module>\u001b[1;34m\u001b[0m\n\u001b[0;32m     12\u001b[0m \u001b[0mb\u001b[0m\u001b[1;33m.\u001b[0m\u001b[0msort\u001b[0m\u001b[1;33m(\u001b[0m\u001b[1;33m)\u001b[0m\u001b[1;33m\u001b[0m\u001b[1;33m\u001b[0m\u001b[0m\n\u001b[0;32m     13\u001b[0m \u001b[0mprint\u001b[0m\u001b[1;33m(\u001b[0m\u001b[0mb\u001b[0m\u001b[1;33m)\u001b[0m\u001b[1;33m\u001b[0m\u001b[1;33m\u001b[0m\u001b[0m\n\u001b[1;32m---> 14\u001b[1;33m \u001b[0mb\u001b[0m\u001b[1;33m.\u001b[0m\u001b[0mpop\u001b[0m\u001b[1;33m(\u001b[0m\u001b[1;34m\"r\"\u001b[0m\u001b[1;33m)\u001b[0m\u001b[1;33m\u001b[0m\u001b[1;33m\u001b[0m\u001b[0m\n\u001b[0m\u001b[0;32m     15\u001b[0m \u001b[0mprint\u001b[0m\u001b[1;33m(\u001b[0m\u001b[0mb\u001b[0m\u001b[1;33m)\u001b[0m\u001b[1;33m\u001b[0m\u001b[1;33m\u001b[0m\u001b[0m\n",
      "\u001b[1;31mTypeError\u001b[0m: 'str' object cannot be interpreted as an integer"
     ]
    }
   ],
   "source": [
    "\n",
    "\n",
    "b.clear()\n",
    "print(b)\n",
    "b.extend(\"rajan\")\n",
    "print(b)\n",
    "b.copy()\n",
    "print(b)\n",
    "#b.index(4)\n",
    "b.reverse()\n",
    "print(b)\n",
    "#b.remove()\n",
    "#print(b)\n",
    "b.sort()\n",
    "print(b)\n",
    "b.pop()\n",
    "print(b)\n"
   ]
  },
  {
   "cell_type": "code",
   "execution_count": 11,
   "id": "4e39a1e7",
   "metadata": {},
   "outputs": [
    {
     "data": {
      "text/plain": [
       "[10, 10.5, 'rajan', (10+20j), 'true', 'aditya']"
      ]
     },
     "execution_count": 11,
     "metadata": {},
     "output_type": "execute_result"
    }
   ],
   "source": []
  },
  {
   "cell_type": "code",
   "execution_count": 14,
   "id": "5ea60caf",
   "metadata": {},
   "outputs": [
    {
     "data": {
      "text/plain": [
       "[10, 10.5]"
      ]
     },
     "execution_count": 14,
     "metadata": {},
     "output_type": "execute_result"
    }
   ],
   "source": [
    "b[:2]"
   ]
  },
  {
   "cell_type": "code",
   "execution_count": 13,
   "id": "c794a161",
   "metadata": {},
   "outputs": [
    {
     "data": {
      "text/plain": [
       "[10, 10.5, 'rajan', (10+20j), 'true', 'aditya']"
      ]
     },
     "execution_count": 13,
     "metadata": {},
     "output_type": "execute_result"
    }
   ],
   "source": []
  },
  {
   "cell_type": "code",
   "execution_count": 15,
   "id": "cbbec031",
   "metadata": {},
   "outputs": [
    {
     "data": {
      "text/plain": [
       "'aditya'"
      ]
     },
     "execution_count": 15,
     "metadata": {},
     "output_type": "execute_result"
    }
   ],
   "source": [
    "b[-1]"
   ]
  },
  {
   "cell_type": "code",
   "execution_count": 16,
   "id": "b71cbf6e",
   "metadata": {},
   "outputs": [
    {
     "data": {
      "text/plain": [
       "'true'"
      ]
     },
     "execution_count": 16,
     "metadata": {},
     "output_type": "execute_result"
    }
   ],
   "source": [
    "b[-2]"
   ]
  },
  {
   "cell_type": "code",
   "execution_count": 17,
   "id": "038c1be1",
   "metadata": {},
   "outputs": [
    {
     "data": {
      "text/plain": [
       "['rajan']"
      ]
     },
     "execution_count": 17,
     "metadata": {},
     "output_type": "execute_result"
    }
   ],
   "source": [
    "b[2:3]"
   ]
  },
  {
   "cell_type": "code",
   "execution_count": 18,
   "id": "c40bed08",
   "metadata": {},
   "outputs": [
    {
     "data": {
      "text/plain": [
       "['rajan', (10+20j)]"
      ]
     },
     "execution_count": 18,
     "metadata": {},
     "output_type": "execute_result"
    }
   ],
   "source": [
    "b[2:4]"
   ]
  },
  {
   "cell_type": "code",
   "execution_count": 19,
   "id": "01d7a342",
   "metadata": {},
   "outputs": [
    {
     "data": {
      "text/plain": [
       "tuple"
      ]
     },
     "execution_count": 19,
     "metadata": {},
     "output_type": "execute_result"
    }
   ],
   "source": [
    "b=(10,)\n",
    "type(b)  \n"
   ]
  },
  {
   "cell_type": "code",
   "execution_count": 20,
   "id": "26591d08",
   "metadata": {},
   "outputs": [],
   "source": [
    "#set\n",
    "set is defined by {}\n",
    "set consist heterogenous element\n",
    "set allow unique vale\n",
    "set does not follow indexing and slicing (it mean it is unordered).\n",
    "\n",
    "\n"
   ]
  },
  {
   "cell_type": "code",
   "execution_count": 21,
   "id": "a642ae3e",
   "metadata": {},
   "outputs": [
    {
     "data": {
      "text/plain": [
       "set"
      ]
     },
     "execution_count": 21,
     "metadata": {},
     "output_type": "execute_result"
    }
   ],
   "source": [
    "a={10,10,10,20,30,40,50}\n",
    "type(a)"
   ]
  },
  {
   "cell_type": "code",
   "execution_count": 57,
   "id": "5b882c4e",
   "metadata": {},
   "outputs": [
    {
     "name": "stdout",
     "output_type": "stream",
     "text": [
      "{50, 20, 40, 10, 30}\n"
     ]
    },
    {
     "ename": "TypeError",
     "evalue": "set.add() takes exactly one argument (2 given)",
     "output_type": "error",
     "traceback": [
      "\u001b[1;31m---------------------------------------------------------------------------\u001b[0m",
      "\u001b[1;31mTypeError\u001b[0m                                 Traceback (most recent call last)",
      "\u001b[1;32m~\\AppData\\Local\\Temp/ipykernel_8380/172003135.py\u001b[0m in \u001b[0;36m<module>\u001b[1;34m\u001b[0m\n\u001b[0;32m      3\u001b[0m \u001b[0mtype\u001b[0m\u001b[1;33m(\u001b[0m\u001b[0ma\u001b[0m\u001b[1;33m)\u001b[0m\u001b[1;33m\u001b[0m\u001b[1;33m\u001b[0m\u001b[0m\n\u001b[0;32m      4\u001b[0m \u001b[1;33m\u001b[0m\u001b[0m\n\u001b[1;32m----> 5\u001b[1;33m \u001b[0mprint\u001b[0m\u001b[1;33m(\u001b[0m\u001b[0ma\u001b[0m\u001b[1;33m.\u001b[0m\u001b[0madd\u001b[0m\u001b[1;33m(\u001b[0m\u001b[1;36m60\u001b[0m\u001b[1;33m,\u001b[0m\u001b[1;36m60\u001b[0m\u001b[1;33m)\u001b[0m\u001b[1;33m)\u001b[0m\u001b[1;33m\u001b[0m\u001b[1;33m\u001b[0m\u001b[0m\n\u001b[0m\u001b[0;32m      6\u001b[0m \u001b[0mprint\u001b[0m\u001b[1;33m(\u001b[0m\u001b[0ma\u001b[0m\u001b[1;33m.\u001b[0m\u001b[0mremove\u001b[0m\u001b[1;33m(\u001b[0m\u001b[1;36m10\u001b[0m\u001b[1;33m,\u001b[0m\u001b[1;36m10\u001b[0m\u001b[1;33m)\u001b[0m\u001b[1;33m)\u001b[0m\u001b[1;33m\u001b[0m\u001b[1;33m\u001b[0m\u001b[0m\n",
      "\u001b[1;31mTypeError\u001b[0m: set.add() takes exactly one argument (2 given)"
     ]
    }
   ],
   "source": [
    "a={10,10,10,20,30,40,50}\n",
    "print(a)\n",
    "type(a)\n",
    "\n",
    "print(a.add(60,60))\n",
    "print(a.remove(10,10))\n"
   ]
  },
  {
   "cell_type": "code",
   "execution_count": 51,
   "id": "d35bb4ac",
   "metadata": {},
   "outputs": [
    {
     "name": "stdout",
     "output_type": "stream",
     "text": [
      "None\n"
     ]
    }
   ],
   "source": [
    "\n",
    "print(a.add(40))\n"
   ]
  },
  {
   "cell_type": "code",
   "execution_count": 59,
   "id": "7699dd8b",
   "metadata": {},
   "outputs": [
    {
     "ename": "SyntaxError",
     "evalue": "cannot assign to function call (Temp/ipykernel_8380/279771987.py, line 1)",
     "output_type": "error",
     "traceback": [
      "\u001b[1;36m  File \u001b[1;32m\"C:\\Users\\DELL\\AppData\\Local\\Temp/ipykernel_8380/279771987.py\"\u001b[1;36m, line \u001b[1;32m1\u001b[0m\n\u001b[1;33m    rnage(1,9,2)=[1,3,5,7]\u001b[0m\n\u001b[1;37m    ^\u001b[0m\n\u001b[1;31mSyntaxError\u001b[0m\u001b[1;31m:\u001b[0m cannot assign to function call\n"
     ]
    }
   ],
   "source": [
    "ranage(1,9,2)"
   ]
  },
  {
   "cell_type": "code",
   "execution_count": 60,
   "id": "d6ebdca5",
   "metadata": {},
   "outputs": [
    {
     "name": "stdout",
     "output_type": "stream",
     "text": [
      "Object `u` not found.\n"
     ]
    }
   ],
   "source": [
    "#binary-base 2--bin()---0,1--------------------0b10110001\n",
    "#octal-base 8 oct()--------0,1,2,3,4,5,6,7,8,9,\n",
    "#hexandecimal-base 16--hex()----0,1,2,3,4,5,6,7,8,a,b,c,d,e,f,g,h\n",
    "#if number is start with 0b is knowns binary\n",
    "#if number is start with 0b is knowns oct\n",
    "#if number is start with 0b is knowns hex\n",
    "\n",
    "\n"
   ]
  },
  {
   "cell_type": "code",
   "execution_count": 66,
   "id": "60d823e9",
   "metadata": {},
   "outputs": [
    {
     "data": {
      "text/plain": [
       "'0x18'"
      ]
     },
     "execution_count": 66,
     "metadata": {},
     "output_type": "execute_result"
    }
   ],
   "source": [
    "a=24\n",
    "oct(a)\n",
    "bin(a)\n",
    "hex(a)"
   ]
  },
  {
   "cell_type": "code",
   "execution_count": 74,
   "id": "ef8761d8",
   "metadata": {},
   "outputs": [
    {
     "data": {
      "text/plain": [
       "'-0b11000'"
      ]
     },
     "execution_count": 74,
     "metadata": {},
     "output_type": "execute_result"
    }
   ],
   "source": [
    "bin(-24)"
   ]
  },
  {
   "cell_type": "code",
   "execution_count": 69,
   "id": "e8b4ea13",
   "metadata": {},
   "outputs": [
    {
     "data": {
      "text/plain": [
       "'-0o30'"
      ]
     },
     "execution_count": 69,
     "metadata": {},
     "output_type": "execute_result"
    }
   ],
   "source": [
    "oct(-24)"
   ]
  },
  {
   "cell_type": "code",
   "execution_count": 67,
   "id": "13df952a",
   "metadata": {},
   "outputs": [
    {
     "data": {
      "text/plain": [
       "'-0x18'"
      ]
     },
     "execution_count": 67,
     "metadata": {},
     "output_type": "execute_result"
    }
   ],
   "source": [
    "hex(-24)"
   ]
  },
  {
   "cell_type": "code",
   "execution_count": 75,
   "id": "93638efd",
   "metadata": {},
   "outputs": [
    {
     "data": {
      "text/plain": [
       "24"
      ]
     },
     "execution_count": 75,
     "metadata": {},
     "output_type": "execute_result"
    }
   ],
   "source": [
    "a=0b11000\n",
    "int(a)\n"
   ]
  },
  {
   "cell_type": "code",
   "execution_count": 76,
   "id": "b1bef01c",
   "metadata": {},
   "outputs": [
    {
     "data": {
      "text/plain": [
       "24"
      ]
     },
     "execution_count": 76,
     "metadata": {},
     "output_type": "execute_result"
    }
   ],
   "source": [
    "a=0x18\n",
    "int(a)"
   ]
  },
  {
   "cell_type": "code",
   "execution_count": 77,
   "id": "70a99f03",
   "metadata": {},
   "outputs": [
    {
     "data": {
      "text/plain": [
       "'0x18'"
      ]
     },
     "execution_count": 77,
     "metadata": {},
     "output_type": "execute_result"
    }
   ],
   "source": [
    "hex(a)"
   ]
  },
  {
   "cell_type": "code",
   "execution_count": 78,
   "id": "c9bb294c",
   "metadata": {},
   "outputs": [
    {
     "data": {
      "text/plain": [
       "'0o30'"
      ]
     },
     "execution_count": 78,
     "metadata": {},
     "output_type": "execute_result"
    }
   ],
   "source": [
    "oct(a)"
   ]
  },
  {
   "cell_type": "code",
   "execution_count": 97,
   "id": "4bfdf131",
   "metadata": {},
   "outputs": [
    {
     "name": "stdout",
     "output_type": "stream",
     "text": [
      "10.0 10 True (10+0j)\n"
     ]
    }
   ],
   "source": [
    "#typecasting\n",
    "# a=10 typecast integer\n",
    "#b=10.5\n",
    "#c=\"aditya\"\n",
    "#complex\n",
    "#boolean\n",
    "\n",
    "a=10\n",
    "a1=float(a)\n",
    "a2=str(a)\n",
    "a3=bool(a)\n",
    "a4=complex(a)\n",
    "print(a1,a2,a3,a4)"
   ]
  },
  {
   "cell_type": "code",
   "execution_count": 85,
   "id": "2f822d13",
   "metadata": {},
   "outputs": [
    {
     "name": "stdout",
     "output_type": "stream",
     "text": [
      "10 10.5 True (10.5+0j)\n"
     ]
    }
   ],
   "source": [
    "a=10.5\n",
    "a1=int(a)\n",
    "a2=str(a)\n",
    "a3=bool(a)\n",
    "a4=complex(a)\n",
    "print(a1,a2,a3,a4)"
   ]
  },
  {
   "cell_type": "code",
   "execution_count": 100,
   "id": "154d84da",
   "metadata": {},
   "outputs": [
    {
     "ename": "TypeError",
     "evalue": "can't convert complex to float",
     "output_type": "error",
     "traceback": [
      "\u001b[1;31m---------------------------------------------------------------------------\u001b[0m",
      "\u001b[1;31mTypeError\u001b[0m                                 Traceback (most recent call last)",
      "\u001b[1;32m~\\AppData\\Local\\Temp/ipykernel_8380/3538628580.py\u001b[0m in \u001b[0;36m<module>\u001b[1;34m\u001b[0m\n\u001b[0;32m      1\u001b[0m \u001b[0ma\u001b[0m\u001b[1;33m=\u001b[0m\u001b[1;36m5.5\u001b[0m\u001b[1;33m+\u001b[0m\u001b[1;36m0j\u001b[0m\u001b[1;33m\u001b[0m\u001b[1;33m\u001b[0m\u001b[0m\n\u001b[1;32m----> 2\u001b[1;33m \u001b[0ma1\u001b[0m\u001b[1;33m=\u001b[0m\u001b[0mfloat\u001b[0m\u001b[1;33m(\u001b[0m\u001b[0ma\u001b[0m\u001b[1;33m)\u001b[0m\u001b[1;33m\u001b[0m\u001b[1;33m\u001b[0m\u001b[0m\n\u001b[0m\u001b[0;32m      3\u001b[0m \u001b[0ma4\u001b[0m\u001b[1;33m=\u001b[0m\u001b[0mint\u001b[0m\u001b[1;33m(\u001b[0m\u001b[0ma\u001b[0m\u001b[1;33m)\u001b[0m\u001b[1;33m\u001b[0m\u001b[1;33m\u001b[0m\u001b[0m\n\u001b[0;32m      4\u001b[0m \u001b[0ma2\u001b[0m\u001b[1;33m=\u001b[0m\u001b[0mstr\u001b[0m\u001b[1;33m(\u001b[0m\u001b[0ma\u001b[0m\u001b[1;33m)\u001b[0m\u001b[1;33m\u001b[0m\u001b[1;33m\u001b[0m\u001b[0m\n\u001b[0;32m      5\u001b[0m \u001b[0ma3\u001b[0m\u001b[1;33m=\u001b[0m\u001b[0mbool\u001b[0m\u001b[1;33m(\u001b[0m\u001b[0ma\u001b[0m\u001b[1;33m)\u001b[0m\u001b[1;33m\u001b[0m\u001b[1;33m\u001b[0m\u001b[0m\n",
      "\u001b[1;31mTypeError\u001b[0m: can't convert complex to float"
     ]
    }
   ],
   "source": [
    "#complex number\n",
    "a=5.5+0j\n",
    "a1=float(a)\n",
    "a4=int(a)\n",
    "a2=str(a)\n",
    "a3=bool(a)\n",
    "print(a1,a2,a3,a4)"
   ]
  },
  {
   "cell_type": "code",
   "execution_count": 1,
   "id": "4bd02448",
   "metadata": {},
   "outputs": [
    {
     "name": "stdout",
     "output_type": "stream",
     "text": [
      "['patna', 'pgdai']\n"
     ]
    }
   ],
   "source": [
    "t=(\"cdac\",\"patna\",\"pgdai\",\"courese\")\n",
    "a,*b,c=t\n",
    "print(b)\n",
    "    \n",
    "\n",
    "  \n"
   ]
  },
  {
   "cell_type": "code",
   "execution_count": 2,
   "id": "fc86998c",
   "metadata": {},
   "outputs": [
    {
     "ename": "TypeError",
     "evalue": "tuple indices must be integers or slices, not str",
     "output_type": "error",
     "traceback": [
      "\u001b[1;31m---------------------------------------------------------------------------\u001b[0m",
      "\u001b[1;31mTypeError\u001b[0m                                 Traceback (most recent call last)",
      "\u001b[1;32m~\\AppData\\Local\\Temp/ipykernel_18200/1859551837.py\u001b[0m in \u001b[0;36m<module>\u001b[1;34m\u001b[0m\n\u001b[0;32m      1\u001b[0m \u001b[1;31m#itearting/looping through a tuple\u001b[0m\u001b[1;33m\u001b[0m\u001b[1;33m\u001b[0m\u001b[0m\n\u001b[0;32m      2\u001b[0m \u001b[1;32mfor\u001b[0m \u001b[0mi\u001b[0m \u001b[1;32min\u001b[0m \u001b[0mt\u001b[0m\u001b[1;33m:\u001b[0m\u001b[1;33m\u001b[0m\u001b[1;33m\u001b[0m\u001b[0m\n\u001b[1;32m----> 3\u001b[1;33m     \u001b[0mprint\u001b[0m\u001b[1;33m(\u001b[0m\u001b[0mt\u001b[0m \u001b[1;33m[\u001b[0m\u001b[0mi\u001b[0m\u001b[1;33m]\u001b[0m\u001b[1;33m)\u001b[0m\u001b[1;33m\u001b[0m\u001b[1;33m\u001b[0m\u001b[0m\n\u001b[0m",
      "\u001b[1;31mTypeError\u001b[0m: tuple indices must be integers or slices, not str"
     ]
    }
   ],
   "source": [
    "#itearting/looping through a tuple \n",
    "for i in t:\n",
    "    print(t [i])\n"
   ]
  },
  {
   "cell_type": "code",
   "execution_count": 14,
   "id": "86ee912b",
   "metadata": {},
   "outputs": [
    {
     "name": "stdout",
     "output_type": "stream",
     "text": [
      "[2, 4, 24]\n"
     ]
    }
   ],
   "source": [
    "#print all the indices where 1 is present in the list\n",
    "#subtract k=10 from each of the number in list if it is greater than k.\n",
    "l=[12,14,5,8,34,9]\n",
    "k=10\n",
    "print([i-k for i in l if i > k])\n",
    "\n",
    "\n",
    "  \n",
    "  "
   ]
  },
  {
   "cell_type": "code",
   "execution_count": 16,
   "id": "93014e72",
   "metadata": {},
   "outputs": [
    {
     "name": "stdout",
     "output_type": "stream",
     "text": [
      "How r u \n"
     ]
    }
   ],
   "source": [
    "#1 capitalize \n",
    "s=\"how r u \"\n",
    "print(s.capitalize())"
   ]
  },
  {
   "cell_type": "code",
   "execution_count": 53,
   "id": "543f4bf9",
   "metadata": {},
   "outputs": [
    {
     "name": "stdout",
     "output_type": "stream",
     "text": [
      "17\n",
      "17\n"
     ]
    }
   ],
   "source": [
    "#2 size of string\n",
    "s=\"how are you aditi\"\n",
    "print(len(s))\n",
    "l=0\n",
    "for i in s:\n",
    "    l=l+1\n",
    "print(l)"
   ]
  },
  {
   "cell_type": "code",
   "execution_count": 22,
   "id": "a19f70a2",
   "metadata": {},
   "outputs": [
    {
     "name": "stdout",
     "output_type": "stream",
     "text": [
      " HOW R U SIR\n"
     ]
    }
   ],
   "source": [
    "#4 upper_ case \n",
    "s=\" how r u sir\"\n",
    "print(s.upper())\n"
   ]
  },
  {
   "cell_type": "code",
   "execution_count": 24,
   "id": "ab89d697",
   "metadata": {},
   "outputs": [
    {
     "name": "stdout",
     "output_type": "stream",
     "text": [
      "['heavean', 'from', 'boy', 'a', 'i']\n"
     ]
    }
   ],
   "source": [
    "#5 reverse_list\n",
    "l=[\"i\", \"a\",\"boy\",\"from\",\"heavean\"]\n",
    "l.reverse()\n",
    "print(l)"
   ]
  },
  {
   "cell_type": "code",
   "execution_count": 97,
   "id": "1c9326fe",
   "metadata": {},
   "outputs": [
    {
     "name": "stdout",
     "output_type": "stream",
     "text": [
      "EE\n"
     ]
    }
   ],
   "source": [
    "#6 first and last letter in capital\n",
    "s=\"eove\"\n",
    "w1=(s[0].upper() + s[-1].upper())\n",
    "\n",
    "print(w1)"
   ]
  },
  {
   "cell_type": "code",
   "execution_count": 41,
   "id": "939dfb18",
   "metadata": {},
   "outputs": [
    {
     "name": "stdout",
     "output_type": "stream",
     "text": [
      "my name is aditya i live in in india\n"
     ]
    }
   ],
   "source": [
    "#7 cancertion to string\n",
    "s=\"my name is aditya \"\n",
    "t=\"i live in in india\"\n",
    "print(s  +  t)\n"
   ]
  },
  {
   "cell_type": "code",
   "execution_count": 43,
   "id": "c6328489",
   "metadata": {},
   "outputs": [
    {
     "name": "stdout",
     "output_type": "stream",
     "text": [
      "how r u sir\n"
     ]
    }
   ],
   "source": [
    "#lower_case\n",
    "s=\"HOW R U SIR\"\n",
    "print(s.lower())"
   ]
  },
  {
   "cell_type": "code",
   "execution_count": 51,
   "id": "1a9018f6",
   "metadata": {},
   "outputs": [
    {
     "name": "stdout",
     "output_type": "stream",
     "text": [
      "HOW R U SIRHOW R U SIRHOW R U SIR\n"
     ]
    }
   ],
   "source": [
    "# repeat 3 times string \n",
    "s3=\"HOW R U SIR\"\n",
    "s=s3*3\n",
    "print(s)"
   ]
  },
  {
   "cell_type": "code",
   "execution_count": 91,
   "id": "e24de1d9",
   "metadata": {},
   "outputs": [
    {
     "data": {
      "text/plain": [
       "['l', 'o', 'v', 'e']"
      ]
     },
     "execution_count": 91,
     "metadata": {},
     "output_type": "execute_result"
    }
   ],
   "source": [
    "#converting string into list\n",
    "s=\"love\"\n",
    "list(s)\n"
   ]
  },
  {
   "cell_type": "code",
   "execution_count": 98,
   "id": "f9993fd3",
   "metadata": {},
   "outputs": [
    {
     "ename": "AttributeError",
     "evalue": "'str' object has no attribute 'c'",
     "output_type": "error",
     "traceback": [
      "\u001b[1;31m---------------------------------------------------------------------------\u001b[0m",
      "\u001b[1;31mAttributeError\u001b[0m                            Traceback (most recent call last)",
      "\u001b[1;32m~\\AppData\\Local\\Temp/ipykernel_18200/4228441971.py\u001b[0m in \u001b[0;36m<module>\u001b[1;34m\u001b[0m\n\u001b[0;32m     11\u001b[0m \u001b[1;31m#\u001b[0m\u001b[1;33m\u001b[0m\u001b[1;33m\u001b[0m\u001b[0m\n\u001b[0;32m     12\u001b[0m \u001b[0ma\u001b[0m\u001b[1;33m=\u001b[0m\u001b[1;34m\"love\"\u001b[0m\u001b[1;33m\u001b[0m\u001b[1;33m\u001b[0m\u001b[0m\n\u001b[1;32m---> 13\u001b[1;33m \u001b[0ma\u001b[0m\u001b[1;33m.\u001b[0m\u001b[0mc\u001b[0m\u001b[1;33m\u001b[0m\u001b[1;33m\u001b[0m\u001b[0m\n\u001b[0m",
      "\u001b[1;31mAttributeError\u001b[0m: 'str' object has no attribute 'c'"
     ]
    }
   ],
   "source": [
    "#write a code to create empty string\n",
    "#write a code to remove ith chacter from string\n",
    "#wtr a code to spilit a string based on \n",
    "#create a which consist all type of data type\n",
    "#wrt a progrm to find frequency of a chacter \n",
    "#wrt a progrm to swap a two numbers using temp nd without a temp\n",
    "#wrt a code to perform the diff btw list nd taple\n",
    "#wrt a code to insert list within the list \n",
    "#wrt a code to imute your a list \n",
    "\n"
   ]
  },
  {
   "cell_type": "code",
   "execution_count": 2,
   "id": "7849b379",
   "metadata": {},
   "outputs": [
    {
     "name": "stdout",
     "output_type": "stream",
     "text": [
      "a_c\n"
     ]
    }
   ],
   "source": [
    "# practising\n",
    "a=\"a\"\n",
    "b=\"c\"\n",
    "print(a+'_'+b)\n"
   ]
  },
  {
   "cell_type": "code",
   "execution_count": 5,
   "id": "f8bd0896",
   "metadata": {},
   "outputs": [
    {
     "data": {
      "text/plain": [
       "'n'"
      ]
     },
     "execution_count": 5,
     "metadata": {},
     "output_type": "execute_result"
    }
   ],
   "source": [
    "a=\"rajan\"\n",
    "a[0]\n",
    "a[1]\n",
    "a[2]\n",
    "a[3]\n",
    "a[4]\n",
    "\n",
    "                                    "
   ]
  },
  {
   "cell_type": "code",
   "execution_count": 7,
   "id": "611825fc",
   "metadata": {},
   "outputs": [
    {
     "data": {
      "text/plain": [
       "'bcde'"
      ]
     },
     "execution_count": 7,
     "metadata": {},
     "output_type": "execute_result"
    }
   ],
   "source": [
    "a='abcdefgh'\n",
    "a[1:5]"
   ]
  },
  {
   "cell_type": "code",
   "execution_count": 8,
   "id": "223421ec",
   "metadata": {},
   "outputs": [
    {
     "data": {
      "text/plain": [
       "'bdfh'"
      ]
     },
     "execution_count": 8,
     "metadata": {},
     "output_type": "execute_result"
    }
   ],
   "source": [
    "a[1: :2]"
   ]
  },
  {
   "cell_type": "code",
   "execution_count": 9,
   "id": "5159e261",
   "metadata": {},
   "outputs": [
    {
     "data": {
      "text/plain": [
       "'abc'"
      ]
     },
     "execution_count": 9,
     "metadata": {},
     "output_type": "execute_result"
    }
   ],
   "source": [
    "a[:3]"
   ]
  },
  {
   "cell_type": "code",
   "execution_count": 10,
   "id": "97cc0f64",
   "metadata": {},
   "outputs": [
    {
     "data": {
      "text/plain": [
       "'cdefgh'"
      ]
     },
     "execution_count": 10,
     "metadata": {},
     "output_type": "execute_result"
    }
   ],
   "source": [
    "a[2:]"
   ]
  },
  {
   "cell_type": "code",
   "execution_count": 11,
   "id": "370b1386",
   "metadata": {},
   "outputs": [
    {
     "data": {
      "text/plain": [
       "'efgh'"
      ]
     },
     "execution_count": 11,
     "metadata": {},
     "output_type": "execute_result"
    }
   ],
   "source": [
    "a[-4:]"
   ]
  },
  {
   "cell_type": "code",
   "execution_count": 13,
   "id": "d50694c6",
   "metadata": {},
   "outputs": [
    {
     "data": {
      "text/plain": [
       "'abcdef'"
      ]
     },
     "execution_count": 13,
     "metadata": {},
     "output_type": "execute_result"
    }
   ],
   "source": [
    "a[:-2]"
   ]
  },
  {
   "cell_type": "code",
   "execution_count": 16,
   "id": "4a85e98b",
   "metadata": {},
   "outputs": [
    {
     "data": {
      "text/plain": [
       "'cdefgh'"
      ]
     },
     "execution_count": 16,
     "metadata": {},
     "output_type": "execute_result"
    }
   ],
   "source": [
    "a[-6: :1]"
   ]
  },
  {
   "cell_type": "code",
   "execution_count": 40,
   "id": "1b5672a9",
   "metadata": {},
   "outputs": [
    {
     "name": "stdout",
     "output_type": "stream",
     "text": [
      "cdac_india\n"
     ]
    }
   ],
   "source": [
    "l=\"cdac\"\n",
    "b=\"india\"\n",
    "print(l+\"_\"+b)"
   ]
  },
  {
   "cell_type": "code",
   "execution_count": 25,
   "id": "0c7f4b7b",
   "metadata": {},
   "outputs": [
    {
     "name": "stdout",
     "output_type": "stream",
     "text": [
      "[10, 20, True, 40, 50]\n"
     ]
    }
   ],
   "source": [
    "a=[10,20,30,40,50]\n",
    "a[2]=True           # iteam assigment\n",
    "print(a)\n",
    "\n"
   ]
  },
  {
   "cell_type": "code",
   "execution_count": 31,
   "id": "1196268f",
   "metadata": {},
   "outputs": [
    {
     "name": "stdout",
     "output_type": "stream",
     "text": [
      "[10, 20, True, 40, 50, True, 'sita', 'true']\n"
     ]
    }
   ],
   "source": [
    "a.append(\"true\")\n",
    "print(a)"
   ]
  },
  {
   "cell_type": "code",
   "execution_count": 44,
   "id": "b28bb74e",
   "metadata": {},
   "outputs": [
    {
     "ename": "NameError",
     "evalue": "name 'i' is not defined",
     "output_type": "error",
     "traceback": [
      "\u001b[1;31m---------------------------------------------------------------------------\u001b[0m",
      "\u001b[1;31mNameError\u001b[0m                                 Traceback (most recent call last)",
      "\u001b[1;32m~\\AppData\\Local\\Temp/ipykernel_19600/220941788.py\u001b[0m in \u001b[0;36m<module>\u001b[1;34m\u001b[0m\n\u001b[0;32m      1\u001b[0m \u001b[0ma\u001b[0m\u001b[1;33m=\u001b[0m\u001b[1;34m\"aditya\"\u001b[0m\u001b[1;33m\u001b[0m\u001b[1;33m\u001b[0m\u001b[0m\n\u001b[1;32m----> 2\u001b[1;33m \u001b[0ma\u001b[0m\u001b[1;33m.\u001b[0m\u001b[0mreplace\u001b[0m\u001b[1;33m(\u001b[0m\u001b[0mi\u001b[0m\u001b[1;33m,\u001b[0m\u001b[0mb\u001b[0m\u001b[1;33m)\u001b[0m\u001b[1;33m\u001b[0m\u001b[1;33m\u001b[0m\u001b[0m\n\u001b[0m",
      "\u001b[1;31mNameError\u001b[0m: name 'i' is not defined"
     ]
    }
   ],
   "source": [
    "\n"
   ]
  },
  {
   "cell_type": "code",
   "execution_count": 48,
   "id": "b50570b7",
   "metadata": {},
   "outputs": [
    {
     "name": "stdout",
     "output_type": "stream",
     "text": [
      " indiaindiaindiaindia\n"
     ]
    }
   ],
   "source": [
    "a=\"aditya\"\n",
    "a=\" \"\n",
    "for i in range(len(b)):\n",
    "    if i!=2:\n",
    "        a=(a+b)\n",
    "print(a)\n",
    "                \n",
    "        \n",
    "            "
   ]
  },
  {
   "cell_type": "code",
   "execution_count": 58,
   "id": "514b69f3",
   "metadata": {},
   "outputs": [
    {
     "data": {
      "text/plain": [
       "['ram is a boy']"
      ]
     },
     "execution_count": 58,
     "metadata": {},
     "output_type": "execute_result"
    }
   ],
   "source": [
    "a=\"ram is a boy\"\n",
    "a.split(\".\")"
   ]
  },
  {
   "cell_type": "code",
   "execution_count": null,
   "id": "6ca11a21",
   "metadata": {},
   "outputs": [],
   "source": [
    "l=(aditya,the)\n",
    "l."
   ]
  },
  {
   "cell_type": "code",
   "execution_count": 59,
   "id": "6f63dc0b",
   "metadata": {},
   "outputs": [],
   "source": [
    "a=[1,2,3,4,5,6,7]"
   ]
  },
  {
   "cell_type": "code",
   "execution_count": 71,
   "id": "24806a2f",
   "metadata": {},
   "outputs": [
    {
     "name": "stdout",
     "output_type": "stream",
     "text": [
      "range(10, 21)\n"
     ]
    }
   ],
   "source": [
    "#write a progrm to append 10 to 20 in a list\n",
    "a=[]\n",
    "b=range(10,21)\n",
    "a.append(b)\n",
    "print(b)"
   ]
  },
  {
   "cell_type": "code",
   "execution_count": 86,
   "id": "eab8e263",
   "metadata": {},
   "outputs": [
    {
     "name": "stdout",
     "output_type": "stream",
     "text": [
      "20\n"
     ]
    }
   ],
   "source": [
    "a=[]\n",
    "for i in  range(10,21):\n",
    "    a.append(i)\n",
    "print(i)\n",
    "    \n",
    "    \n"
   ]
  },
  {
   "cell_type": "code",
   "execution_count": 88,
   "id": "00f8208b",
   "metadata": {},
   "outputs": [
    {
     "name": "stdout",
     "output_type": "stream",
     "text": [
      "[10, 11, 12, 13, 14, 15, 16, 17, 18, 19, 20]\n"
     ]
    }
   ],
   "source": [
    "a=[]\n",
    "for i in  range(10,21):\n",
    "    a.append(i)\n",
    "print(a)\n",
    "    "
   ]
  },
  {
   "cell_type": "code",
   "execution_count": 89,
   "id": "f62dd576",
   "metadata": {},
   "outputs": [
    {
     "name": "stdout",
     "output_type": "stream",
     "text": [
      "10\n",
      "20\n",
      "30\n",
      "40\n"
     ]
    }
   ],
   "source": [
    "a=[10,20,30,40]\n",
    "for i in a:\n",
    "    print(i)"
   ]
  },
  {
   "cell_type": "code",
   "execution_count": 96,
   "id": "27423b42",
   "metadata": {},
   "outputs": [
    {
     "name": "stdout",
     "output_type": "stream",
     "text": [
      "0 1 2 3 4 5 6 7 8 9 "
     ]
    }
   ],
   "source": [
    "for i in range(10):\n",
    "    print(i,end = ' ')"
   ]
  },
  {
   "cell_type": "code",
   "execution_count": 97,
   "id": "492a1a4c",
   "metadata": {},
   "outputs": [
    {
     "name": "stdout",
     "output_type": "stream",
     "text": [
      "10 11 12 13 14 15 16 17 18 19 "
     ]
    }
   ],
   "source": [
    "for i in range(10,20):\n",
    "    print(i,end = ' ')\n"
   ]
  },
  {
   "cell_type": "code",
   "execution_count": 98,
   "id": "12d31b6b",
   "metadata": {},
   "outputs": [
    {
     "name": "stdout",
     "output_type": "stream",
     "text": [
      "10 13 16 19 22 25 28 31 34 37 40 43 46 49 "
     ]
    }
   ],
   "source": [
    "for i in range(10,50,3):\n",
    "    print(i,end = ' ')\n"
   ]
  },
  {
   "cell_type": "code",
   "execution_count": 102,
   "id": "f1c51671",
   "metadata": {},
   "outputs": [
    {
     "name": "stdout",
     "output_type": "stream",
     "text": [
      "{10: 'shyam', 'z': 'ram'}\n"
     ]
    }
   ],
   "source": [
    "a={10:20,\"z\":\"ram\",10:\"shyam\"}    \n",
    "print (a)                      #no dulicate key allowed in a output.."
   ]
  },
  {
   "cell_type": "code",
   "execution_count": null,
   "id": "e02e7b63",
   "metadata": {},
   "outputs": [],
   "source": [
    "#document all the topic from first clss\n",
    "#u have to practise from starting "
   ]
  },
  {
   "cell_type": "code",
   "execution_count": 4,
   "id": "1b3aab88",
   "metadata": {},
   "outputs": [],
   "source": [
    "a={}"
   ]
  },
  {
   "cell_type": "code",
   "execution_count": 2,
   "id": "b37bfac1",
   "metadata": {},
   "outputs": [
    {
     "data": {
      "text/plain": [
       "dict"
      ]
     },
     "execution_count": 2,
     "metadata": {},
     "output_type": "execute_result"
    }
   ],
   "source": [
    "type(a) #type of empty set is dict."
   ]
  },
  {
   "cell_type": "code",
   "execution_count": 5,
   "id": "c827b922",
   "metadata": {},
   "outputs": [
    {
     "name": "stdout",
     "output_type": "stream",
     "text": [
      "enter a first number11.5\n"
     ]
    },
    {
     "data": {
      "text/plain": [
       "float"
      ]
     },
     "execution_count": 5,
     "metadata": {},
     "output_type": "execute_result"
    }
   ],
   "source": [
    "#eluate the vaalue\n",
    "a=eval(input(\"enter a first number\")) \n",
    "type(a)"
   ]
  },
  {
   "cell_type": "code",
   "execution_count": null,
   "id": "2f3d5d58",
   "metadata": {},
   "outputs": [],
   "source": [
    "print('hello world')"
   ]
  },
  {
   "cell_type": "code",
   "execution_count": 6,
   "id": "7372fb60",
   "metadata": {},
   "outputs": [
    {
     "name": "stdout",
     "output_type": "stream",
     "text": [
      "enter the first number 2\n",
      "enter the second number3\n",
      "23\n"
     ]
    }
   ],
   "source": [
    "a=input(\"enter the first number \")\n",
    "b=input(\"enter the second number\")\n",
    "s=a+b                              #contenation\n",
    "print(s)                             "
   ]
  },
  {
   "cell_type": "code",
   "execution_count": 15,
   "id": "a973d9fd",
   "metadata": {},
   "outputs": [
    {
     "name": "stdout",
     "output_type": "stream",
     "text": [
      "enter the first number 6\n",
      "enter the second number6\n",
      "12\n"
     ]
    }
   ],
   "source": [
    "a=eval(input(\"enter the first number \"))\n",
    "b=eval(input(\"enter the second number\"))\n",
    "s=a+b                              \n",
    "print(s)                             "
   ]
  },
  {
   "cell_type": "code",
   "execution_count": null,
   "id": "8add4d83",
   "metadata": {},
   "outputs": [],
   "source": [
    "s=\"rajan\"\n",
    "\n"
   ]
  },
  {
   "cell_type": "code",
   "execution_count": null,
   "id": "c2f1e23e",
   "metadata": {},
   "outputs": [],
   "source": [
    "#varible are two types\n",
    "1 local\n",
    "2 global\n",
    "\n"
   ]
  },
  {
   "cell_type": "code",
   "execution_count": 23,
   "id": "d6f27e5b",
   "metadata": {},
   "outputs": [
    {
     "name": "stdout",
     "output_type": "stream",
     "text": [
      "a value: 20\n",
      "g value: 10\n",
      "outside g value  10\n"
     ]
    },
    {
     "ename": "NameError",
     "evalue": "name 'z' is not defined",
     "output_type": "error",
     "traceback": [
      "\u001b[1;31m---------------------------------------------------------------------------\u001b[0m",
      "\u001b[1;31mNameError\u001b[0m                                 Traceback (most recent call last)",
      "\u001b[1;32m~\\AppData\\Local\\Temp/ipykernel_36760/2115933603.py\u001b[0m in \u001b[0;36m<module>\u001b[1;34m\u001b[0m\n\u001b[0;32m      6\u001b[0m \u001b[0mA\u001b[0m\u001b[1;33m(\u001b[0m\u001b[1;33m)\u001b[0m\u001b[1;33m\u001b[0m\u001b[1;33m\u001b[0m\u001b[0m\n\u001b[0;32m      7\u001b[0m \u001b[0mprint\u001b[0m\u001b[1;33m(\u001b[0m\u001b[1;34m\"outside g value \"\u001b[0m\u001b[1;33m,\u001b[0m\u001b[0mg\u001b[0m\u001b[1;33m)\u001b[0m\u001b[1;33m\u001b[0m\u001b[1;33m\u001b[0m\u001b[0m\n\u001b[1;32m----> 8\u001b[1;33m \u001b[0mprint\u001b[0m\u001b[1;33m(\u001b[0m\u001b[1;34m\"outside g value \"\u001b[0m\u001b[1;33m,\u001b[0m\u001b[0mz\u001b[0m\u001b[1;33m)\u001b[0m\u001b[1;33m\u001b[0m\u001b[1;33m\u001b[0m\u001b[0m\n\u001b[0m",
      "\u001b[1;31mNameError\u001b[0m: name 'z' is not defined"
     ]
    }
   ],
   "source": [
    "g=10\n",
    "def A():\n",
    "    z=20\n",
    "    print(\"a value:\",z)\n",
    "    print(\"g value:\",g)\n",
    "A()    \n",
    "print(\"outside g value \",g)\n",
    "print(\"outside g value \",z)    "
   ]
  },
  {
   "cell_type": "code",
   "execution_count": 50,
   "id": "f0713b32",
   "metadata": {},
   "outputs": [
    {
     "data": {
      "text/plain": [
       "385"
      ]
     },
     "execution_count": 50,
     "metadata": {},
     "output_type": "execute_result"
    }
   ],
   "source": [
    "def square(n):\n",
    "    return n*n\n",
    "def sum_of_square(n):\n",
    "    sum=0\n",
    "    for i in range(n+1):\n",
    "         \n",
    "        sum+=square(i)\n",
    "        \n",
    "        \n",
    "    return(sum)   \n",
    "        \n",
    "    \n",
    "        \n",
    "   \n",
    "        \n",
    "    \n",
    "\n",
    "sum_of_square(10)        \n",
    "    "
   ]
  },
  {
   "cell_type": "code",
   "execution_count": 51,
   "id": "ce8c1455",
   "metadata": {},
   "outputs": [
    {
     "ename": "AttributeError",
     "evalue": "'function' object has no attribute 'keywords'",
     "output_type": "error",
     "traceback": [
      "\u001b[1;31m---------------------------------------------------------------------------\u001b[0m",
      "\u001b[1;31mAttributeError\u001b[0m                            Traceback (most recent call last)",
      "\u001b[1;32m~\\AppData\\Local\\Temp/ipykernel_36760/1371057312.py\u001b[0m in \u001b[0;36m<module>\u001b[1;34m\u001b[0m\n\u001b[1;32m----> 1\u001b[1;33m \u001b[0minput\u001b[0m\u001b[1;33m.\u001b[0m\u001b[0mkeywords\u001b[0m\u001b[1;33m\u001b[0m\u001b[1;33m\u001b[0m\u001b[0m\n\u001b[0m\u001b[0;32m      2\u001b[0m \u001b[0mprint\u001b[0m\u001b[1;33m(\u001b[0m\u001b[0mkeywords\u001b[0m\u001b[1;33m)\u001b[0m\u001b[1;33m\u001b[0m\u001b[1;33m\u001b[0m\u001b[0m\n",
      "\u001b[1;31mAttributeError\u001b[0m: 'function' object has no attribute 'keywords'"
     ]
    }
   ],
   "source": [
    "input.keywords\n",
    "print(keywords)\n"
   ]
  },
  {
   "cell_type": "code",
   "execution_count": 55,
   "id": "28c1f70e",
   "metadata": {},
   "outputs": [
    {
     "name": "stdout",
     "output_type": "stream",
     "text": [
      "10\n"
     ]
    },
    {
     "data": {
      "text/plain": [
       "1684344302160"
      ]
     },
     "execution_count": 55,
     "metadata": {},
     "output_type": "execute_result"
    }
   ],
   "source": [
    "a=10\n",
    "print(a)\n",
    "id(a)"
   ]
  },
  {
   "cell_type": "code",
   "execution_count": 53,
   "id": "61ca4f9a",
   "metadata": {},
   "outputs": [
    {
     "ename": "NameError",
     "evalue": "name 'rint' is not defined",
     "output_type": "error",
     "traceback": [
      "\u001b[1;31m---------------------------------------------------------------------------\u001b[0m",
      "\u001b[1;31mNameError\u001b[0m                                 Traceback (most recent call last)",
      "\u001b[1;32m~\\AppData\\Local\\Temp/ipykernel_36760/3984217108.py\u001b[0m in \u001b[0;36m<module>\u001b[1;34m\u001b[0m\n\u001b[0;32m      1\u001b[0m \u001b[0mb\u001b[0m\u001b[1;33m=\u001b[0m\u001b[1;36m10\u001b[0m\u001b[1;33m\u001b[0m\u001b[1;33m\u001b[0m\u001b[0m\n\u001b[1;32m----> 2\u001b[1;33m \u001b[0mrint\u001b[0m\u001b[1;33m(\u001b[0m\u001b[0mb\u001b[0m\u001b[1;33m)\u001b[0m\u001b[1;33m\u001b[0m\u001b[1;33m\u001b[0m\u001b[0m\n\u001b[0m\u001b[0;32m      3\u001b[0m \u001b[0mprint\u001b[0m\u001b[1;33m(\u001b[0m\u001b[0mtype\u001b[0m \u001b[1;33m(\u001b[0m\u001b[0mb\u001b[0m\u001b[1;33m)\u001b[0m\u001b[1;33m)\u001b[0m\u001b[1;33m\u001b[0m\u001b[1;33m\u001b[0m\u001b[0m\n",
      "\u001b[1;31mNameError\u001b[0m: name 'rint' is not defined"
     ]
    }
   ],
   "source": [
    "b=10\n",
    "rint(b)\n",
    "print(type (b))"
   ]
  },
  {
   "cell_type": "code",
   "execution_count": 54,
   "id": "fe36fd8c",
   "metadata": {},
   "outputs": [
    {
     "data": {
      "text/plain": [
       "1684421581040"
      ]
     },
     "execution_count": 54,
     "metadata": {},
     "output_type": "execute_result"
    }
   ],
   "source": [
    "#float \n",
    "a=10.5\n",
    "type(a)\n",
    "id(a)"
   ]
  },
  {
   "cell_type": "code",
   "execution_count": 59,
   "id": "1b9c9406",
   "metadata": {},
   "outputs": [
    {
     "name": "stdout",
     "output_type": "stream",
     "text": [
      "0o12\n",
      "0b1010\n",
      "0xa\n"
     ]
    }
   ],
   "source": [
    "#1 convert integer into binary number,hexan decimal,octal base\n",
    "a=10\n",
    "oct(a)\n",
    "bin(a)\n",
    "hex(a)\n",
    "\n",
    "print(oct(a))\n",
    "print(bin(a))\n",
    "print(hex(a))"
   ]
  },
  {
   "cell_type": "code",
   "execution_count": 74,
   "id": "225ff0d2",
   "metadata": {},
   "outputs": [
    {
     "name": "stdout",
     "output_type": "stream",
     "text": [
      "-0o12\n",
      "-0b1010\n",
      "-0xa\n",
      "1684421582576\n"
     ]
    }
   ],
   "source": [
    "#2convert negative integer into binary number,hexan decimal,octal base\n",
    "c=-10\n",
    "oct(c)\n",
    "bin(c)\n",
    "hex(c)\n",
    "id(c)\n",
    "print(oct(c))\n",
    "print(bin(c))\n",
    "print(hex(c))\n",
    "print(id(c))"
   ]
  },
  {
   "cell_type": "code",
   "execution_count": 75,
   "id": "c9350998",
   "metadata": {},
   "outputs": [
    {
     "name": "stdout",
     "output_type": "stream",
     "text": [
      "10\n",
      "0o12\n",
      "0xa\n",
      "-10\n",
      "1684421581584\n"
     ]
    }
   ],
   "source": [
    "#3convert binary number into postive integer,hexan decimal,octal base,negative integer\n",
    "b1=0b1010\n",
    "int(b1)\n",
    "oct(b1)\n",
    "hex(b1)\n",
    "int(-b1)\n",
    "id(-b1)\n",
    "print(int(b1))\n",
    "print(oct(b1))\n",
    "print(hex(b1))\n",
    "print(int(-b1))\n",
    "print(id(-b1))"
   ]
  },
  {
   "cell_type": "code",
   "execution_count": 77,
   "id": "c799b262",
   "metadata": {},
   "outputs": [
    {
     "name": "stdout",
     "output_type": "stream",
     "text": [
      "10\n",
      "0b1010\n",
      "0xa\n",
      "-10\n",
      "1684344302160\n"
     ]
    }
   ],
   "source": [
    " #4convert octal base into postive integer,hexan decimal base,binary number,negative integer\n",
    "oct1=0o12\n",
    "int(oct1)\n",
    "bin(oct1)\n",
    "hex(oct1)\n",
    "int(-oct1)\n",
    "id(oct1)\n",
    "\n",
    "print(int(oct1))\n",
    "print(bin(oct1))\n",
    "print(hex(oct1))\n",
    "print(int(-oct1))\n",
    "print(id(oct1))\n"
   ]
  },
  {
   "cell_type": "code",
   "execution_count": 76,
   "id": "251c4cb8",
   "metadata": {},
   "outputs": [
    {
     "name": "stdout",
     "output_type": "stream",
     "text": [
      "10\n",
      "0b1010\n",
      "0o12\n",
      "-10\n",
      "1684344302160\n"
     ]
    }
   ],
   "source": [
    "##5 convert hexan decimal base into binary number,octal base,negative integer,postive integer\n",
    "hex1=0xa\n",
    "int(hex1)\n",
    "bin(hex1)\n",
    "oct(hex1)\n",
    "int(-hex1)\n",
    "id(hex1)\n",
    "print(int(hex1))\n",
    "print(bin(hex1))\n",
    "print(oct(hex1))\n",
    "print(int(-hex1))\n",
    "print(id(hex1))"
   ]
  },
  {
   "cell_type": "code",
   "execution_count": 87,
   "id": "4795dc7d",
   "metadata": {},
   "outputs": [
    {
     "data": {
      "text/plain": [
       "10"
      ]
     },
     "execution_count": 87,
     "metadata": {},
     "output_type": "execute_result"
    }
   ],
   "source": [
    "#6 converting float into binary\n",
    "f=10.0625\n",
    "(int(f))"
   ]
  },
  {
   "cell_type": "code",
   "execution_count": 88,
   "id": "e6426b37",
   "metadata": {},
   "outputs": [
    {
     "data": {
      "text/plain": [
       "1.25"
      ]
     },
     "execution_count": 88,
     "metadata": {},
     "output_type": "execute_result"
    }
   ],
   "source": [
    "0.625*2\n"
   ]
  },
  {
   "cell_type": "code",
   "execution_count": 89,
   "id": "cb8396a7",
   "metadata": {},
   "outputs": [
    {
     "data": {
      "text/plain": [
       "2.5"
      ]
     },
     "execution_count": 89,
     "metadata": {},
     "output_type": "execute_result"
    }
   ],
   "source": [
    "1.25*2\n"
   ]
  },
  {
   "cell_type": "code",
   "execution_count": 90,
   "id": "7767d7ef",
   "metadata": {},
   "outputs": [
    {
     "data": {
      "text/plain": [
       "5.0"
      ]
     },
     "execution_count": 90,
     "metadata": {},
     "output_type": "execute_result"
    }
   ],
   "source": [
    "2.5*2"
   ]
  },
  {
   "cell_type": "code",
   "execution_count": 92,
   "id": "66c74bfa",
   "metadata": {},
   "outputs": [
    {
     "data": {
      "text/plain": [
       "'0b101'"
      ]
     },
     "execution_count": 92,
     "metadata": {},
     "output_type": "execute_result"
    }
   ],
   "source": [
    "bin(5)"
   ]
  },
  {
   "cell_type": "code",
   "execution_count": 93,
   "id": "3ded4c9f",
   "metadata": {},
   "outputs": [
    {
     "data": {
      "text/plain": [
       "'0b1010'"
      ]
     },
     "execution_count": 93,
     "metadata": {},
     "output_type": "execute_result"
    }
   ],
   "source": [
    "bin(10)"
   ]
  },
  {
   "cell_type": "code",
   "execution_count": null,
   "id": "f42cfc30",
   "metadata": {},
   "outputs": [],
   "source": [
    "# by doing fraction the value we get \n",
    "ob1011010\n",
    "10.25=ob1011010"
   ]
  },
  {
   "cell_type": "code",
   "execution_count": 95,
   "id": "28fcb8a6",
   "metadata": {},
   "outputs": [
    {
     "ename": "SyntaxError",
     "evalue": "invalid syntax (Temp/ipykernel_36760/1204860514.py, line 1)",
     "output_type": "error",
     "traceback": [
      "\u001b[1;36m  File \u001b[1;32m\"C:\\Users\\DELL\\AppData\\Local\\Temp/ipykernel_36760/1204860514.py\"\u001b[1;36m, line \u001b[1;32m1\u001b[0m\n\u001b[1;33m    output formatting\u001b[0m\n\u001b[1;37m           ^\u001b[0m\n\u001b[1;31mSyntaxError\u001b[0m\u001b[1;31m:\u001b[0m invalid syntax\n"
     ]
    }
   ],
   "source": [
    "output formatting\n",
    "%(1, 05.333)\n"
   ]
  },
  {
   "cell_type": "code",
   "execution_count": 96,
   "id": "8cd71821",
   "metadata": {},
   "outputs": [
    {
     "name": "stdout",
     "output_type": "stream",
     "text": [
      "Geeks :  1, Portal :  5.33\n"
     ]
    }
   ],
   "source": [
    "print(\"Geeks : %2d, Portal : %5.2f\" % (1, 05.333))  \n"
   ]
  },
  {
   "cell_type": "code",
   "execution_count": 97,
   "id": "d25b5b44",
   "metadata": {},
   "outputs": [
    {
     "name": "stdout",
     "output_type": "stream",
     "text": [
      "data: 1,sun: 5.35\n"
     ]
    }
   ],
   "source": [
    "print(\"data:%2d,sun:%5.2f\" %(1,05.353535))"
   ]
  },
  {
   "cell_type": "code",
   "execution_count": 98,
   "id": "35d29289",
   "metadata": {},
   "outputs": [
    {
     "data": {
      "text/plain": [
       "bool"
      ]
     },
     "execution_count": 98,
     "metadata": {},
     "output_type": "execute_result"
    }
   ],
   "source": [
    "a=True\n",
    "b=False\n",
    "type(a)\n",
    "type(b)"
   ]
  },
  {
   "cell_type": "code",
   "execution_count": 99,
   "id": "004bf894",
   "metadata": {},
   "outputs": [
    {
     "data": {
      "text/plain": [
       "complex"
      ]
     },
     "execution_count": 99,
     "metadata": {},
     "output_type": "execute_result"
    }
   ],
   "source": [
    "a=10+20j\n",
    "type(a)"
   ]
  },
  {
   "cell_type": "code",
   "execution_count": 101,
   "id": "f00cf3e9",
   "metadata": {},
   "outputs": [
    {
     "name": "stdout",
     "output_type": "stream",
     "text": [
      "1\n",
      "2\n",
      "0\n"
     ]
    }
   ],
   "source": [
    "c=True+False\n",
    "print(c)\n",
    "d=True+True\n",
    "print(d)\n",
    "e=False+False\n",
    "print(e)"
   ]
  },
  {
   "cell_type": "code",
   "execution_count": null,
   "id": "8bce2e56",
   "metadata": {},
   "outputs": [],
   "source": [
    "#complex number\n",
    "a=1o+30j\n"
   ]
  },
  {
   "cell_type": "code",
   "execution_count": 106,
   "id": "34ed1d02",
   "metadata": {},
   "outputs": [
    {
     "data": {
      "text/plain": [
       "'r'"
      ]
     },
     "execution_count": 106,
     "metadata": {},
     "output_type": "execute_result"
    }
   ],
   "source": [
    "#sting\n",
    "\n",
    "a=\"rajan\"\n",
    "type(a)\n",
    "b=\"RAJAN\"\n",
    "type(b)\n"
   ]
  },
  {
   "cell_type": "code",
   "execution_count": 109,
   "id": "e3cdb052",
   "metadata": {},
   "outputs": [
    {
     "ename": "SyntaxError",
     "evalue": "invalid syntax (Temp/ipykernel_36760/1865139295.py, line 2)",
     "output_type": "error",
     "traceback": [
      "\u001b[1;36m  File \u001b[1;32m\"C:\\Users\\DELL\\AppData\\Local\\Temp/ipykernel_36760/1865139295.py\"\u001b[1;36m, line \u001b[1;32m2\u001b[0m\n\u001b[1;33m    a=[::-1]\u001b[0m\n\u001b[1;37m       ^\u001b[0m\n\u001b[1;31mSyntaxError\u001b[0m\u001b[1;31m:\u001b[0m invalid syntax\n"
     ]
    }
   ],
   "source": [
    "a=\"rajan\"\n",
    "a=[::-1]"
   ]
  },
  {
   "cell_type": "code",
   "execution_count": 114,
   "id": "f4d122b2",
   "metadata": {},
   "outputs": [
    {
     "name": "stdout",
     "output_type": "stream",
     "text": [
      "2\n",
      "3\n",
      "4\n",
      "5\n",
      "6\n",
      "7\n",
      "8\n",
      "9\n",
      "10\n",
      "11\n"
     ]
    }
   ],
   "source": [
    "list1=[1,2,3,4,5,6,7,8,9,10]\n",
    "sum=0\n",
    "for i in list1:\n",
    "    sum=\n",
    "    print()\n",
    "\n"
   ]
  },
  {
   "cell_type": "code",
   "execution_count": 55,
   "id": "45a54027",
   "metadata": {},
   "outputs": [
    {
     "name": "stdout",
     "output_type": "stream",
     "text": [
      "{'True', 10.5, (10+20j), 'ranjan'}\n"
     ]
    }
   ],
   "source": [
    "a={10,10.5,10+20j,\"ranjan\",\"True\"}\n",
    "\n",
    "\n",
    "a.remove(10)\n",
    "print(a)\n"
   ]
  },
  {
   "cell_type": "code",
   "execution_count": 12,
   "id": "bdb4ca16",
   "metadata": {},
   "outputs": [
    {
     "data": {
      "text/plain": [
       "complex"
      ]
     },
     "execution_count": 12,
     "metadata": {},
     "output_type": "execute_result"
    }
   ],
   "source": [
    "a=(10+20j)\n",
    "type(a)"
   ]
  },
  {
   "cell_type": "code",
   "execution_count": 30,
   "id": "a9f590f5",
   "metadata": {},
   "outputs": [],
   "source": [
    "a={10,10.5,10+20j,\"ranjan\",\"True\"}\n",
    "set=frozenset(a)"
   ]
  },
  {
   "cell_type": "code",
   "execution_count": 33,
   "id": "e5fc31fa",
   "metadata": {},
   "outputs": [
    {
     "data": {
      "text/plain": [
       "dict"
      ]
     },
     "execution_count": 33,
     "metadata": {},
     "output_type": "execute_result"
    }
   ],
   "source": [
    "a={1:100,2:200,3:300,4:400}\n",
    "type(a)"
   ]
  },
  {
   "cell_type": "code",
   "execution_count": 34,
   "id": "93eb57fd",
   "metadata": {},
   "outputs": [
    {
     "name": "stdout",
     "output_type": "stream",
     "text": [
      "{1: 100, 2: 200, 3: 300, 4: 400}\n"
     ]
    },
    {
     "data": {
      "text/plain": [
       "{1: 100, 2: 200, 3: 300, 4: 400}"
      ]
     },
     "execution_count": 34,
     "metadata": {},
     "output_type": "execute_result"
    }
   ],
   "source": [
    "print(a)\n",
    "a"
   ]
  },
  {
   "cell_type": "code",
   "execution_count": 38,
   "id": "99d3079f",
   "metadata": {},
   "outputs": [
    {
     "data": {
      "text/plain": [
       "dict"
      ]
     },
     "execution_count": 38,
     "metadata": {},
     "output_type": "execute_result"
    }
   ],
   "source": [
    "b={1:100,2:\"ram\",3:10.5,4:\"true\",5:10+10j}\n",
    "type(b)"
   ]
  },
  {
   "cell_type": "code",
   "execution_count": 44,
   "id": "f7f13470",
   "metadata": {},
   "outputs": [
    {
     "ename": "KeyError",
     "evalue": "0",
     "output_type": "error",
     "traceback": [
      "\u001b[1;31m---------------------------------------------------------------------------\u001b[0m",
      "\u001b[1;31mKeyError\u001b[0m                                  Traceback (most recent call last)",
      "\u001b[1;32m~\\AppData\\Local\\Temp/ipykernel_16940/2300492240.py\u001b[0m in \u001b[0;36m<module>\u001b[1;34m\u001b[0m\n\u001b[0;32m      1\u001b[0m \u001b[0mc\u001b[0m\u001b[1;33m=\u001b[0m\u001b[1;33m{\u001b[0m\u001b[1;34m\"a\"\u001b[0m\u001b[1;33m:\u001b[0m\u001b[1;36m1\u001b[0m\u001b[1;33m,\u001b[0m\u001b[1;36m2\u001b[0m\u001b[1;33m:\u001b[0m\u001b[1;34m\"shyam\"\u001b[0m\u001b[1;33m,\u001b[0m\u001b[1;36m3\u001b[0m\u001b[1;33m:\u001b[0m\u001b[1;36m10\u001b[0m\u001b[1;33m+\u001b[0m\u001b[1;36m10j\u001b[0m\u001b[1;33m}\u001b[0m\u001b[1;33m\u001b[0m\u001b[1;33m\u001b[0m\u001b[0m\n\u001b[0;32m      2\u001b[0m \u001b[1;33m\u001b[0m\u001b[0m\n\u001b[1;32m----> 3\u001b[1;33m \u001b[0mc\u001b[0m\u001b[1;33m[\u001b[0m\u001b[1;36m0\u001b[0m\u001b[1;33m]\u001b[0m\u001b[1;33m\u001b[0m\u001b[1;33m\u001b[0m\u001b[0m\n\u001b[0m",
      "\u001b[1;31mKeyError\u001b[0m: 0"
     ]
    }
   ],
   "source": [
    "c={\"a\":1,2:\"shyam\",3:10+10j}\n",
    "\n",
    "c[0]"
   ]
  },
  {
   "cell_type": "code",
   "execution_count": 42,
   "id": "84455fda",
   "metadata": {},
   "outputs": [
    {
     "ename": "TypeError",
     "evalue": "unhashable type: 'dict'",
     "output_type": "error",
     "traceback": [
      "\u001b[1;31m---------------------------------------------------------------------------\u001b[0m",
      "\u001b[1;31mTypeError\u001b[0m                                 Traceback (most recent call last)",
      "\u001b[1;32m~\\AppData\\Local\\Temp/ipykernel_16940/1652718556.py\u001b[0m in \u001b[0;36m<module>\u001b[1;34m\u001b[0m\n\u001b[1;32m----> 1\u001b[1;33m \u001b[0md\u001b[0m\u001b[1;33m=\u001b[0m\u001b[1;33m{\u001b[0m\u001b[1;34m\"a\"\u001b[0m\u001b[1;33m:\u001b[0m\u001b[1;34m\"ram\"\u001b[0m\u001b[1;33m,\u001b[0m\u001b[0ma\u001b[0m\u001b[1;33m:\u001b[0m\u001b[1;34m\"shyam\"\u001b[0m\u001b[1;33m,\u001b[0m\u001b[1;34m\"a\"\u001b[0m\u001b[1;33m:\u001b[0m\u001b[1;34m\"mohan\"\u001b[0m\u001b[1;33m}\u001b[0m\u001b[1;33m\u001b[0m\u001b[1;33m\u001b[0m\u001b[0m\n\u001b[0m\u001b[0;32m      2\u001b[0m \u001b[0mtype\u001b[0m\u001b[1;33m(\u001b[0m\u001b[0md\u001b[0m\u001b[1;33m)\u001b[0m\u001b[1;33m\u001b[0m\u001b[1;33m\u001b[0m\u001b[0m\n\u001b[0;32m      3\u001b[0m \u001b[0mprint\u001b[0m\u001b[1;33m(\u001b[0m\u001b[0md\u001b[0m\u001b[1;33m)\u001b[0m\u001b[1;33m\u001b[0m\u001b[1;33m\u001b[0m\u001b[0m\n",
      "\u001b[1;31mTypeError\u001b[0m: unhashable type: 'dict'"
     ]
    }
   ],
   "source": [
    "d={\"a\":\"ram\",a:\"shyam\",\"a\":\"mohan\"}\n",
    "type(d)\n",
    "print(d)"
   ]
  },
  {
   "cell_type": "code",
   "execution_count": 45,
   "id": "f4607a65",
   "metadata": {},
   "outputs": [
    {
     "data": {
      "text/plain": [
       "'ram'"
      ]
     },
     "execution_count": 45,
     "metadata": {},
     "output_type": "execute_result"
    }
   ],
   "source": [
    "d={1:\"ram\",2:\"shyam\",3:\"mohan\"}\n",
    "d[1]"
   ]
  },
  {
   "cell_type": "code",
   "execution_count": 46,
   "id": "b414612a",
   "metadata": {},
   "outputs": [
    {
     "data": {
      "text/plain": [
       "'mohan'"
      ]
     },
     "execution_count": 46,
     "metadata": {},
     "output_type": "execute_result"
    }
   ],
   "source": [
    "d[3]"
   ]
  },
  {
   "cell_type": "code",
   "execution_count": 61,
   "id": "02d992d7",
   "metadata": {},
   "outputs": [
    {
     "name": "stdout",
     "output_type": "stream",
     "text": [
      "frozenset({'name', 'college', 'age', 'address', 'sex'})\n"
     ]
    }
   ],
   "source": [
    "#frozen set\n",
    "student = {\"name\": \"Ankit\", \"age\": 21, \"sex\": \"Male\",\n",
    "           \"college\": \"MNNIT Allahabad\", \"address\": \"Allahabad\"}\n",
    "key = frozenset(student)\n",
    "print( key)"
   ]
  },
  {
   "cell_type": "code",
   "execution_count": 12,
   "id": "64d49b92",
   "metadata": {},
   "outputs": [
    {
     "name": "stdout",
     "output_type": "stream",
     "text": [
      "{'age', 'roll number', 'enroll.no', 'address', 'college', 'name'}\n"
     ]
    }
   ],
   "source": [
    "#set methods\n",
    "set1={'name', 'college', 'age', 'address', \"enroll.no\"}\n",
    "set1.add(\"roll number\")\n",
    "print(set1)"
   ]
  },
  {
   "cell_type": "code",
   "execution_count": 13,
   "id": "5c345b35",
   "metadata": {},
   "outputs": [
    {
     "data": {
      "text/plain": [
       "set()"
      ]
     },
     "execution_count": 13,
     "metadata": {},
     "output_type": "execute_result"
    }
   ],
   "source": [
    "set1={'name', 'college', 'age', 'address', 'sex'}\n",
    "set1.clear()\n",
    "set1"
   ]
  },
  {
   "cell_type": "code",
   "execution_count": 14,
   "id": "975658df",
   "metadata": {},
   "outputs": [
    {
     "data": {
      "text/plain": [
       "{'address', 'age', 'college', 'enroll.no', 'name'}"
      ]
     },
     "execution_count": 14,
     "metadata": {},
     "output_type": "execute_result"
    }
   ],
   "source": [
    "set1={'name', 'college', 'age', 'address',\"enroll.no\" }\n",
    "set1.copy()\n",
    "set1set1={'name', 'college', 'age', 'address',\"enroll.no\" }"
   ]
  },
  {
   "cell_type": "code",
   "execution_count": 18,
   "id": "c397f1a3",
   "metadata": {},
   "outputs": [
    {
     "data": {
      "text/plain": [
       "{1, 2, 3, 4, 5, 6, 7, 8}"
      ]
     },
     "execution_count": 18,
     "metadata": {},
     "output_type": "execute_result"
    }
   ],
   "source": [
    "a={1,2,3,4,5,6,7,8}\n",
    "b={8,7,6,5,4,3,2,1}\n",
    "a.difference(b)\n",
    "b.difference(a)\n",
    "a\n",
    "b\n"
   ]
  },
  {
   "cell_type": "code",
   "execution_count": 20,
   "id": "db1d01c4",
   "metadata": {},
   "outputs": [
    {
     "name": "stdout",
     "output_type": "stream",
     "text": [
      "{'enroll.no', 'address', 'college', 'name'}\n"
     ]
    }
   ],
   "source": [
    "set1={'name', 'college', 'age', 'address',\"enroll.no\" }\n",
    "set1.remove(\"age\")\n",
    "print(set1)"
   ]
  },
  {
   "cell_type": "code",
   "execution_count": 31,
   "id": "429c8a0b",
   "metadata": {},
   "outputs": [
    {
     "data": {
      "text/plain": [
       "{2, 3, 4, 5, 6, 7, 8}"
      ]
     },
     "execution_count": 31,
     "metadata": {},
     "output_type": "execute_result"
    }
   ],
   "source": [
    "set1={1,2,3,4,5,6,7,8}\n",
    "set1.pop()\n",
    "set1"
   ]
  },
  {
   "cell_type": "code",
   "execution_count": 32,
   "id": "372a4f84",
   "metadata": {},
   "outputs": [
    {
     "name": "stdout",
     "output_type": "stream",
     "text": [
      "{'Orange', 'Yellow', 'Red', 'Blue', 'Black', 'Green'}\n"
     ]
    }
   ],
   "source": [
    "set1 = {\"Yellow\", \"Orange\", \"Black\"}\n",
    "list1 = [\"Blue\", \"Green\", \"Red\"]\n",
    "\n",
    "set1.update(list1)\n",
    "print(set1)"
   ]
  },
  {
   "cell_type": "code",
   "execution_count": 33,
   "id": "12096106",
   "metadata": {},
   "outputs": [
    {
     "name": "stdout",
     "output_type": "stream",
     "text": [
      "{40, 50, 30}\n"
     ]
    }
   ],
   "source": [
    "set1 = {10, 20, 30, 40, 50}\n",
    "set2 = {30, 40, 50, 60, 70}\n",
    "\n",
    "print(set1.intersection(set2))"
   ]
  },
  {
   "cell_type": "code",
   "execution_count": 34,
   "id": "28371fb2",
   "metadata": {},
   "outputs": [
    {
     "name": "stdout",
     "output_type": "stream",
     "text": [
      "{70, 40, 10, 50, 20, 60, 30}\n"
     ]
    }
   ],
   "source": [
    "set1 = {10, 20, 30, 40, 50}\n",
    "set2 = {30, 40, 50, 60, 70}\n",
    "\n",
    "print(set1.union(set2))"
   ]
  },
  {
   "cell_type": "code",
   "execution_count": 35,
   "id": "a0dff086",
   "metadata": {},
   "outputs": [
    {
     "name": "stdout",
     "output_type": "stream",
     "text": [
      "{10, 30}\n"
     ]
    }
   ],
   "source": [
    "\n",
    "set1 = {10, 20, 30}\n",
    "set2 = {20, 40, 50}\n",
    "\n",
    "set1.difference_update(set2)\n",
    "print(set1)"
   ]
  },
  {
   "cell_type": "code",
   "execution_count": 36,
   "id": "999447c8",
   "metadata": {},
   "outputs": [
    {
     "name": "stdout",
     "output_type": "stream",
     "text": [
      "{50, 70, 40, 60}\n"
     ]
    }
   ],
   "source": [
    "set2 = {30, 40, 50, 60, 70}\n",
    "set2.difference_update({10, 20, 30})\n",
    "print(set2)"
   ]
  },
  {
   "cell_type": "code",
   "execution_count": 37,
   "id": "727d6464",
   "metadata": {},
   "outputs": [
    {
     "name": "stdout",
     "output_type": "stream",
     "text": [
      "{20, 70, 10, 60}\n"
     ]
    }
   ],
   "source": [
    "set1 = {10, 20, 30, 40, 50}\n",
    "set2 = {30, 40, 50, 60, 70}\n",
    "\n",
    "print(set1.symmetric_difference(set2))"
   ]
  },
  {
   "cell_type": "code",
   "execution_count": 38,
   "id": "a04c38b7",
   "metadata": {},
   "outputs": [
    {
     "name": "stdout",
     "output_type": "stream",
     "text": [
      "{70, 10}\n"
     ]
    }
   ],
   "source": [
    "set1 = {10, 20, 30, 40, 50}\n",
    "set2 = {20, 30, 40, 50, 70}\n",
    "\n",
    "set1.symmetric_difference_update(set2)\n",
    "print(set1)"
   ]
  },
  {
   "cell_type": "code",
   "execution_count": null,
   "id": "608cc5c0",
   "metadata": {},
   "outputs": [],
   "source": [
    "set1 = {10, 20, 30, 40, 50}\n",
    "set2 = {30, 40, 50, 60, 70}\n",
    "\n",
    "set1.intersection_update(set2)\n",
    "print(set1)"
   ]
  },
  {
   "cell_type": "code",
   "execution_count": 42,
   "id": "08caf7b1",
   "metadata": {},
   "outputs": [
    {
     "data": {
      "text/plain": [
       "{}"
      ]
     },
     "execution_count": 42,
     "metadata": {},
     "output_type": "execute_result"
    }
   ],
   "source": [
    "#dict methods\n",
    "dict1={1:\"ram\",2:\"sita\",3:\"ravan\",4:\"laxman\",5:\"bhart\"}\n",
    "dict1.clear()\n",
    "dict1"
   ]
  },
  {
   "cell_type": "code",
   "execution_count": 43,
   "id": "47403d98",
   "metadata": {},
   "outputs": [
    {
     "data": {
      "text/plain": [
       "{1: 'ram', 2: 'sita', 3: 'ravan', 4: 'laxman', 5: 'bhart'}"
      ]
     },
     "execution_count": 43,
     "metadata": {},
     "output_type": "execute_result"
    }
   ],
   "source": [
    "dict1={1:\"ram\",2:\"sita\",3:\"ravan\",4:\"laxman\",5:\"bhart\"}\n",
    "dict1.copy\n",
    "dict1"
   ]
  },
  {
   "cell_type": "code",
   "execution_count": 48,
   "id": "8007af1e",
   "metadata": {},
   "outputs": [
    {
     "data": {
      "text/plain": [
       "'sita'"
      ]
     },
     "execution_count": 48,
     "metadata": {},
     "output_type": "execute_result"
    }
   ],
   "source": [
    "dict1={1:\"ram\",2:\"sita\",3:\"ravan\",4:\"laxman\",5:\"bhart\"}\n",
    "dict1.get(2)\n"
   ]
  },
  {
   "cell_type": "code",
   "execution_count": 72,
   "id": "4b8620d2",
   "metadata": {},
   "outputs": [
    {
     "data": {
      "text/plain": [
       "{'r': None, 'a': None, 'm': None}"
      ]
     },
     "execution_count": 72,
     "metadata": {},
     "output_type": "execute_result"
    }
   ],
   "source": [
    "dict1={1:\"ram\",2:\"sita\",3:\"ravan\",4:\"laxman\",5:\"bhart\"}\n",
    "dict1.fromkeys(\"ram\")"
   ]
  },
  {
   "cell_type": "code",
   "execution_count": 55,
   "id": "e4d0054c",
   "metadata": {},
   "outputs": [
    {
     "data": {
      "text/plain": [
       "dict_keys([1, 2, 3, 4, 5])"
      ]
     },
     "execution_count": 55,
     "metadata": {},
     "output_type": "execute_result"
    }
   ],
   "source": [
    "dict1={1:\"ram\",2:\"sita\",3:\"ravan\",4:\"laxman\",5:\"bhart\"}\n",
    "dict1.keys()"
   ]
  },
  {
   "cell_type": "code",
   "execution_count": 56,
   "id": "2d61a8d3",
   "metadata": {},
   "outputs": [
    {
     "data": {
      "text/plain": [
       "'sita'"
      ]
     },
     "execution_count": 56,
     "metadata": {},
     "output_type": "execute_result"
    }
   ],
   "source": [
    "dict1={1:\"ram\",2:\"sita\",3:\"ravan\",4:\"laxman\",5:\"bhart\"}\n",
    "dict1.pop(2)"
   ]
  },
  {
   "cell_type": "code",
   "execution_count": 57,
   "id": "77841976",
   "metadata": {},
   "outputs": [
    {
     "data": {
      "text/plain": [
       "dict_items([(1, 'ram'), (2, 'sita'), (3, 'ravan'), (4, 'laxman'), (5, 'bhart')])"
      ]
     },
     "execution_count": 57,
     "metadata": {},
     "output_type": "execute_result"
    }
   ],
   "source": [
    "dict1={1:\"ram\",2:\"sita\",3:\"ravan\",4:\"laxman\",5:\"bhart\"}\n",
    "dict1.items()"
   ]
  },
  {
   "cell_type": "code",
   "execution_count": 58,
   "id": "a3ef8222",
   "metadata": {},
   "outputs": [
    {
     "data": {
      "text/plain": [
       "(5, 'bhart')"
      ]
     },
     "execution_count": 58,
     "metadata": {},
     "output_type": "execute_result"
    }
   ],
   "source": [
    "dict1={1:\"ram\",2:\"sita\",3:\"ravan\",4:\"laxman\",5:\"bhart\"}\n",
    "dict1.popitem()"
   ]
  },
  {
   "cell_type": "code",
   "execution_count": 60,
   "id": "6fcdffc7",
   "metadata": {},
   "outputs": [
    {
     "data": {
      "text/plain": [
       "'laxman'"
      ]
     },
     "execution_count": 60,
     "metadata": {},
     "output_type": "execute_result"
    }
   ],
   "source": [
    "dict1={1:\"ram\",2:\"sita\",3:\"ravan\",4:\"laxman\",5:\"bhart\"}\n",
    "dict1.setdefault(4)"
   ]
  },
  {
   "cell_type": "code",
   "execution_count": 62,
   "id": "235eb5a6",
   "metadata": {},
   "outputs": [],
   "source": [
    "dict1={1:\"ram\",2:\"sita\",3:\"ravan\",4:\"laxman\",5:\"bhart\"}\n",
    "dict1.update()"
   ]
  },
  {
   "cell_type": "code",
   "execution_count": 63,
   "id": "dca4bb01",
   "metadata": {},
   "outputs": [
    {
     "data": {
      "text/plain": [
       "dict_values(['ram', 'sita', 'ravan', 'laxman', 'bhart'])"
      ]
     },
     "execution_count": 63,
     "metadata": {},
     "output_type": "execute_result"
    }
   ],
   "source": [
    "dict1={1:\"ram\",2:\"sita\",3:\"ravan\",4:\"laxman\",5:\"bhart\"}\n",
    "dict1.values()"
   ]
  },
  {
   "cell_type": "code",
   "execution_count": 9,
   "id": "b332beca",
   "metadata": {},
   "outputs": [
    {
     "ename": "SyntaxError",
     "evalue": "invalid syntax (Temp/ipykernel_19580/2349152724.py, line 2)",
     "output_type": "error",
     "traceback": [
      "\u001b[1;36m  File \u001b[1;32m\"C:\\Users\\DELL\\AppData\\Local\\Temp/ipykernel_19580/2349152724.py\"\u001b[1;36m, line \u001b[1;32m2\u001b[0m\n\u001b[1;33m    s=\u001b[0m\n\u001b[1;37m      ^\u001b[0m\n\u001b[1;31mSyntaxError\u001b[0m\u001b[1;31m:\u001b[0m invalid syntax\n"
     ]
    }
   ],
   "source": [
    "set1={10,20,30,40,50,60,70}\n",
    "s=\n",
    "frozenset(s(set1)\n",
    "          "
   ]
  },
  {
   "cell_type": "code",
   "execution_count": 75,
   "id": "be8e4ee6",
   "metadata": {},
   "outputs": [
    {
     "name": "stdout",
     "output_type": "stream",
     "text": [
      "0 1 2 3 4 5 6 7 8 9 "
     ]
    }
   ],
   "source": [
    "#range()\n",
    "for i in range(10):\n",
    "    print(i,end=\" \")\n"
   ]
  },
  {
   "cell_type": "code",
   "execution_count": 61,
   "id": "e7596a54",
   "metadata": {},
   "outputs": [
    {
     "ename": "TypeError",
     "evalue": "'tuple' object is not callable",
     "output_type": "error",
     "traceback": [
      "\u001b[1;31m---------------------------------------------------------------------------\u001b[0m",
      "\u001b[1;31mTypeError\u001b[0m                                 Traceback (most recent call last)",
      "\u001b[1;32m~\\AppData\\Local\\Temp/ipykernel_19580/732426172.py\u001b[0m in \u001b[0;36m<module>\u001b[1;34m\u001b[0m\n\u001b[1;32m----> 1\u001b[1;33m \u001b[1;32mfor\u001b[0m \u001b[0mi\u001b[0m \u001b[1;32min\u001b[0m \u001b[0mrange\u001b[0m\u001b[1;33m(\u001b[0m\u001b[1;36m1\u001b[0m\u001b[1;33m,\u001b[0m\u001b[1;36m99\u001b[0m\u001b[1;33m)\u001b[0m\u001b[1;33m:\u001b[0m\u001b[1;33m\u001b[0m\u001b[1;33m\u001b[0m\u001b[0m\n\u001b[0m\u001b[0;32m      2\u001b[0m     \u001b[0mprint\u001b[0m\u001b[1;33m(\u001b[0m\u001b[0mi\u001b[0m\u001b[1;33m,\u001b[0m\u001b[0mend\u001b[0m\u001b[1;33m=\u001b[0m\u001b[1;34m\" \"\u001b[0m\u001b[1;33m)\u001b[0m\u001b[1;33m\u001b[0m\u001b[1;33m\u001b[0m\u001b[0m\n",
      "\u001b[1;31mTypeError\u001b[0m: 'tuple' object is not callable"
     ]
    }
   ],
   "source": [
    "for i in range(1,99):\n",
    "    print(i,end=\" \")"
   ]
  },
  {
   "cell_type": "code",
   "execution_count": 79,
   "id": "8b3c3903",
   "metadata": {},
   "outputs": [
    {
     "name": "stdout",
     "output_type": "stream",
     "text": [
      "20 23 26 29 32 35 38 "
     ]
    }
   ],
   "source": [
    "for i in range(20,40,3):\n",
    "    print(i,end=\" \") # consider every third element."
   ]
  },
  {
   "cell_type": "code",
   "execution_count": 85,
   "id": "de707197",
   "metadata": {},
   "outputs": [
    {
     "name": "stdout",
     "output_type": "stream",
     "text": [
      "20 19 18 17 16 15 14 13 12 11 "
     ]
    }
   ],
   "source": [
    "for i in range(20,10,-1):\n",
    "    print(i,end=\" \") # it will be reverse the squence"
   ]
  },
  {
   "cell_type": "code",
   "execution_count": null,
   "id": "3ff04f0e",
   "metadata": {},
   "outputs": [],
   "source": [
    "#bytes\n",
    "these are the squence only\n",
    "it is group of element \n",
    "it is group of bytes number\n"
   ]
  },
  {
   "cell_type": "code",
   "execution_count": 86,
   "id": "ae851c1b",
   "metadata": {},
   "outputs": [
    {
     "name": "stdout",
     "output_type": "stream",
     "text": [
      "b'\\n\\x14\\x1e('\n"
     ]
    }
   ],
   "source": [
    "bytes \n",
    "x=[10,20,30,40]\n",
    "b=bytes(x)\n",
    "type(b)\n",
    "print(b)"
   ]
  },
  {
   "cell_type": "code",
   "execution_count": 88,
   "id": "5f234b5d",
   "metadata": {},
   "outputs": [
    {
     "name": "stdout",
     "output_type": "stream",
     "text": [
      "10 20 30 40 "
     ]
    }
   ],
   "source": [
    "for i in b:\n",
    "    print(i,end=\" \")"
   ]
  },
  {
   "cell_type": "code",
   "execution_count": 10,
   "id": "6a86c14c",
   "metadata": {},
   "outputs": [
    {
     "ename": "ValueError",
     "evalue": "bytes must be in range(0, 256)",
     "output_type": "error",
     "traceback": [
      "\u001b[1;31m---------------------------------------------------------------------------\u001b[0m",
      "\u001b[1;31mValueError\u001b[0m                                Traceback (most recent call last)",
      "\u001b[1;32m~\\AppData\\Local\\Temp/ipykernel_19580/518068522.py\u001b[0m in \u001b[0;36m<module>\u001b[1;34m\u001b[0m\n\u001b[0;32m      1\u001b[0m \u001b[0ma\u001b[0m\u001b[1;33m=\u001b[0m\u001b[1;33m[\u001b[0m\u001b[1;36m10\u001b[0m\u001b[1;33m,\u001b[0m\u001b[1;36m20\u001b[0m\u001b[1;33m,\u001b[0m\u001b[1;36m30\u001b[0m\u001b[1;33m,\u001b[0m\u001b[1;36m40\u001b[0m\u001b[1;33m,\u001b[0m\u001b[1;36m50\u001b[0m\u001b[1;33m,\u001b[0m\u001b[1;36m60\u001b[0m\u001b[1;33m,\u001b[0m\u001b[1;36m70\u001b[0m\u001b[1;33m,\u001b[0m\u001b[1;36m80\u001b[0m\u001b[1;33m,\u001b[0m\u001b[1;36m256\u001b[0m\u001b[1;33m,\u001b[0m\u001b[1;36m257\u001b[0m\u001b[1;33m,\u001b[0m\u001b[1;36m256\u001b[0m\u001b[1;33m]\u001b[0m\u001b[1;33m\u001b[0m\u001b[1;33m\u001b[0m\u001b[0m\n\u001b[1;32m----> 2\u001b[1;33m \u001b[0mb\u001b[0m\u001b[1;33m=\u001b[0m\u001b[0mbytes\u001b[0m\u001b[1;33m(\u001b[0m\u001b[0ma\u001b[0m\u001b[1;33m)\u001b[0m\u001b[1;33m\u001b[0m\u001b[1;33m\u001b[0m\u001b[0m\n\u001b[0m\u001b[0;32m      3\u001b[0m \u001b[0mprint\u001b[0m\u001b[1;33m(\u001b[0m\u001b[0mb\u001b[0m\u001b[1;33m)\u001b[0m\u001b[1;33m\u001b[0m\u001b[1;33m\u001b[0m\u001b[0m\n\u001b[0;32m      4\u001b[0m \u001b[0mprint\u001b[0m\u001b[1;33m(\u001b[0m\u001b[0mtype\u001b[0m\u001b[1;33m(\u001b[0m\u001b[0mb\u001b[0m\u001b[1;33m)\u001b[0m\u001b[1;33m)\u001b[0m\u001b[1;33m\u001b[0m\u001b[1;33m\u001b[0m\u001b[0m\n",
      "\u001b[1;31mValueError\u001b[0m: bytes must be in range(0, 256)"
     ]
    }
   ],
   "source": [
    "a=[10,20,30,40,50,60,70,80,256,257,256]\n",
    "b=bytes(a)\n",
    "print(b)\n",
    "print(type(b))\n"
   ]
  },
  {
   "cell_type": "code",
   "execution_count": 93,
   "id": "4e2bbae6",
   "metadata": {},
   "outputs": [
    {
     "name": "stdout",
     "output_type": "stream",
     "text": [
      "b'\\n\\x14\\x1e(2<FP\\xff'\n",
      "<class 'bytes'>\n"
     ]
    }
   ],
   "source": [
    "a=[10,20,30,40,50,60,70,80,255]\n",
    "b=bytes(a)\n",
    "print(b)\n",
    "print(type(b))"
   ]
  },
  {
   "cell_type": "code",
   "execution_count": 10,
   "id": "96ac481d",
   "metadata": {},
   "outputs": [
    {
     "data": {
      "text/plain": [
       "10"
      ]
     },
     "execution_count": 10,
     "metadata": {},
     "output_type": "execute_result"
    }
   ],
   "source": [
    "a=[10,20,30,40,50,60,70,80,255]\n",
    "a[0]"
   ]
  },
  {
   "cell_type": "code",
   "execution_count": 11,
   "id": "f9624bb2",
   "metadata": {},
   "outputs": [
    {
     "data": {
      "text/plain": [
       "255"
      ]
     },
     "execution_count": 11,
     "metadata": {},
     "output_type": "execute_result"
    }
   ],
   "source": [
    "a[-1]"
   ]
  },
  {
   "cell_type": "code",
   "execution_count": 13,
   "id": "9d724159",
   "metadata": {},
   "outputs": [
    {
     "data": {
      "text/plain": [
       "30"
      ]
     },
     "execution_count": 13,
     "metadata": {},
     "output_type": "execute_result"
    }
   ],
   "source": [
    "a[2]\n"
   ]
  },
  {
   "cell_type": "code",
   "execution_count": 6,
   "id": "948233ed",
   "metadata": {},
   "outputs": [
    {
     "data": {
      "text/plain": [
       "[10, 20, 100, 40, 50, 255]"
      ]
     },
     "execution_count": 6,
     "metadata": {},
     "output_type": "execute_result"
    }
   ],
   "source": [
    "a[2]=100\n",
    "a"
   ]
  },
  {
   "cell_type": "code",
   "execution_count": 5,
   "id": "4e5176fd",
   "metadata": {},
   "outputs": [],
   "source": [
    "#byte array"
   ]
  },
  {
   "cell_type": "code",
   "execution_count": 6,
   "id": "de3013ea",
   "metadata": {},
   "outputs": [
    {
     "data": {
      "text/plain": [
       "30"
      ]
     },
     "execution_count": 6,
     "metadata": {},
     "output_type": "execute_result"
    }
   ],
   "source": [
    "a=[10,20,30,40,50,255]\n",
    "ba=bytearray(a)\n",
    "ba[2]"
   ]
  },
  {
   "cell_type": "code",
   "execution_count": 5,
   "id": "9251dee5",
   "metadata": {},
   "outputs": [
    {
     "data": {
      "text/plain": [
       "bytearray(b'\\n\\x14d(2\\xff')"
      ]
     },
     "execution_count": 5,
     "metadata": {},
     "output_type": "execute_result"
    }
   ],
   "source": [
    "a=[10,20,30,40,50,255]\n",
    "ba=bytearray(a)\n",
    "\n",
    "ba[2]=100\n",
    "ba"
   ]
  },
  {
   "cell_type": "code",
   "execution_count": 7,
   "id": "6b238d25",
   "metadata": {},
   "outputs": [
    {
     "name": "stdout",
     "output_type": "stream",
     "text": [
      "10 20 30 40 50 255 "
     ]
    }
   ],
   "source": [
    "a=[10,20,30,40,50,255]\n",
    "ba=bytearray(a)\n",
    "for i in ba:                #byte array is mutable\n",
    "    print(i,end=\" \")\n",
    "    "
   ]
  },
  {
   "cell_type": "code",
   "execution_count": null,
   "id": "c167584b",
   "metadata": {},
   "outputs": [],
   "source": [
    "# operators\n",
    "1. arthmetic \n",
    "2. logical \n",
    "3. assisgment \n",
    "4. bitwise \n",
    "5. special \n",
    "\n"
   ]
  },
  {
   "cell_type": "code",
   "execution_count": null,
   "id": "c4ca073e",
   "metadata": {},
   "outputs": [],
   "source": [
    "# arthmetic opertors \n",
    "+ addision\n",
    "- subtraction\n",
    "* multiple\n",
    "/ divison\n",
    "** expoent\n",
    "% reminder\n"
   ]
  },
  {
   "cell_type": "code",
   "execution_count": 16,
   "id": "4a24f0ac",
   "metadata": {},
   "outputs": [
    {
     "name": "stdout",
     "output_type": "stream",
     "text": [
      "12 8 20 5.0 0 5 "
     ]
    }
   ],
   "source": [
    "a=10\n",
    "b=2\n",
    "s1=a+b\n",
    "s1\n",
    "s2=a-b\n",
    "s2\n",
    "s3=a*b\n",
    "s3\n",
    "s4=a/b\n",
    "s4\n",
    "s5=a%b\n",
    "s5\n",
    "s6=a//b\n",
    "s6\n",
    "print(s1,s2,s3,s4,s5,s6,end=\" \")"
   ]
  },
  {
   "cell_type": "code",
   "execution_count": 12,
   "id": "da7dee32",
   "metadata": {},
   "outputs": [
    {
     "data": {
      "text/plain": [
       "3.3333333333333335"
      ]
     },
     "execution_count": 12,
     "metadata": {},
     "output_type": "execute_result"
    }
   ],
   "source": [
    "a=10 \n",
    "b=3\n",
    "s=a/b\n",
    "s\n"
   ]
  },
  {
   "cell_type": "code",
   "execution_count": 13,
   "id": "e38073c7",
   "metadata": {},
   "outputs": [
    {
     "data": {
      "text/plain": [
       "1"
      ]
     },
     "execution_count": 13,
     "metadata": {},
     "output_type": "execute_result"
    }
   ],
   "source": [
    "a%b\n",
    "s=a%b\n",
    "s"
   ]
  },
  {
   "cell_type": "code",
   "execution_count": 14,
   "id": "e8443a20",
   "metadata": {},
   "outputs": [
    {
     "data": {
      "text/plain": [
       "3"
      ]
     },
     "execution_count": 14,
     "metadata": {},
     "output_type": "execute_result"
    }
   ],
   "source": [
    "a//b\n",
    "s=a//b\n",
    "s"
   ]
  },
  {
   "cell_type": "code",
   "execution_count": 18,
   "id": "07832b9a",
   "metadata": {},
   "outputs": [
    {
     "data": {
      "text/plain": [
       "5.0"
      ]
     },
     "execution_count": 18,
     "metadata": {},
     "output_type": "execute_result"
    }
   ],
   "source": [
    "a=11.5\n",
    "b=2\n",
    "s=a/b\n",
    "s\n",
    "p=a%b\n",
    "p\n",
    "z=a//b\n",
    "z"
   ]
  },
  {
   "cell_type": "code",
   "execution_count": 26,
   "id": "cbb45a59",
   "metadata": {},
   "outputs": [],
   "source": [
    "a=10\n",
    "b=2\n"
   ]
  },
  {
   "cell_type": "code",
   "execution_count": 21,
   "id": "0b535ad5",
   "metadata": {},
   "outputs": [
    {
     "data": {
      "text/plain": [
       "True"
      ]
     },
     "execution_count": 21,
     "metadata": {},
     "output_type": "execute_result"
    }
   ],
   "source": [
    "s=a>b\n",
    "s"
   ]
  },
  {
   "cell_type": "code",
   "execution_count": 25,
   "id": "9b5ec6f0",
   "metadata": {},
   "outputs": [
    {
     "data": {
      "text/plain": [
       "False"
      ]
     },
     "execution_count": 25,
     "metadata": {},
     "output_type": "execute_result"
    }
   ],
   "source": [
    "d=a<b\n",
    "d"
   ]
  },
  {
   "cell_type": "code",
   "execution_count": 23,
   "id": "0682ec47",
   "metadata": {},
   "outputs": [
    {
     "data": {
      "text/plain": [
       "True"
      ]
     },
     "execution_count": 23,
     "metadata": {},
     "output_type": "execute_result"
    }
   ],
   "source": [
    "f=a>=b\n",
    "f"
   ]
  },
  {
   "cell_type": "code",
   "execution_count": 24,
   "id": "f3c404ef",
   "metadata": {},
   "outputs": [
    {
     "data": {
      "text/plain": [
       "False"
      ]
     },
     "execution_count": 24,
     "metadata": {},
     "output_type": "execute_result"
    }
   ],
   "source": [
    "g=a<=b\n",
    "g"
   ]
  },
  {
   "cell_type": "code",
   "execution_count": 32,
   "id": "a81d3f95",
   "metadata": {},
   "outputs": [
    {
     "data": {
      "text/plain": [
       "False"
      ]
     },
     "execution_count": 32,
     "metadata": {},
     "output_type": "execute_result"
    }
   ],
   "source": [
    "a=\"mango\"\n",
    "b=\"ram\" # ascii code \n",
    "a>b\n"
   ]
  },
  {
   "cell_type": "code",
   "execution_count": 29,
   "id": "a5f17243",
   "metadata": {},
   "outputs": [
    {
     "data": {
      "text/plain": [
       "False"
      ]
     },
     "execution_count": 29,
     "metadata": {},
     "output_type": "execute_result"
    }
   ],
   "source": [
    "a>=b\n"
   ]
  },
  {
   "cell_type": "code",
   "execution_count": 30,
   "id": "8d53246c",
   "metadata": {},
   "outputs": [
    {
     "data": {
      "text/plain": [
       "True"
      ]
     },
     "execution_count": 30,
     "metadata": {},
     "output_type": "execute_result"
    }
   ],
   "source": [
    "a<b"
   ]
  },
  {
   "cell_type": "code",
   "execution_count": 31,
   "id": "92ed1800",
   "metadata": {},
   "outputs": [
    {
     "data": {
      "text/plain": [
       "True"
      ]
     },
     "execution_count": 31,
     "metadata": {},
     "output_type": "execute_result"
    }
   ],
   "source": [
    "a<=b"
   ]
  },
  {
   "cell_type": "code",
   "execution_count": 33,
   "id": "a36d015b",
   "metadata": {},
   "outputs": [
    {
     "data": {
      "text/plain": [
       "True"
      ]
     },
     "execution_count": 33,
     "metadata": {},
     "output_type": "execute_result"
    }
   ],
   "source": [
    "a=\"ram\"\n",
    "b=\"rat\"\n",
    "a>b      # m value less t\n"
   ]
  },
  {
   "cell_type": "code",
   "execution_count": 34,
   "id": "a16030f0",
   "metadata": {},
   "outputs": [
    {
     "data": {
      "text/plain": [
       "False"
      ]
     },
     "execution_count": 34,
     "metadata": {},
     "output_type": "execute_result"
    }
   ],
   "source": [
    "a>=b"
   ]
  },
  {
   "cell_type": "code",
   "execution_count": 35,
   "id": "6184b2a0",
   "metadata": {},
   "outputs": [
    {
     "data": {
      "text/plain": [
       "True"
      ]
     },
     "execution_count": 35,
     "metadata": {},
     "output_type": "execute_result"
    }
   ],
   "source": [
    "a<b"
   ]
  },
  {
   "cell_type": "code",
   "execution_count": 36,
   "id": "27158c0a",
   "metadata": {},
   "outputs": [
    {
     "data": {
      "text/plain": [
       "True"
      ]
     },
     "execution_count": 36,
     "metadata": {},
     "output_type": "execute_result"
    }
   ],
   "source": [
    "a<=b"
   ]
  },
  {
   "cell_type": "code",
   "execution_count": 37,
   "id": "2422bada",
   "metadata": {},
   "outputs": [
    {
     "name": "stdout",
     "output_type": "stream",
     "text": [
      "True\n"
     ]
    }
   ],
   "source": [
    "print(10<20<30<40<50)\n"
   ]
  },
  {
   "cell_type": "code",
   "execution_count": 39,
   "id": "81123e0e",
   "metadata": {},
   "outputs": [
    {
     "name": "stdout",
     "output_type": "stream",
     "text": [
      "False\n"
     ]
    }
   ],
   "source": [
    "print(10<20<30<40>50)"
   ]
  },
  {
   "cell_type": "code",
   "execution_count": 48,
   "id": "7aa2475d",
   "metadata": {},
   "outputs": [
    {
     "name": "stdout",
     "output_type": "stream",
     "text": [
      "28\n"
     ]
    }
   ],
   "source": [
    "list1=[1,2,3,4,5,6,7]\n",
    "sum=0\n",
    "for i in list1:\n",
    "    sum=sum+i\n",
    "print(sum)"
   ]
  },
  {
   "cell_type": "code",
   "execution_count": 52,
   "id": "792c29eb",
   "metadata": {},
   "outputs": [
    {
     "name": "stdout",
     "output_type": "stream",
     "text": [
      "-55\n"
     ]
    }
   ],
   "source": [
    "list2=[1,2,3,4,5,6,7,8,9,10]\n",
    "sum=0\n",
    "for i in list2:\n",
    "    sum=sum-i\n",
    "print(sum)"
   ]
  },
  {
   "cell_type": "code",
   "execution_count": 58,
   "id": "9351f0c4",
   "metadata": {},
   "outputs": [
    {
     "ename": "TypeError",
     "evalue": "'tuple' object is not callable",
     "output_type": "error",
     "traceback": [
      "\u001b[1;31m---------------------------------------------------------------------------\u001b[0m",
      "\u001b[1;31mTypeError\u001b[0m                                 Traceback (most recent call last)",
      "\u001b[1;32m~\\AppData\\Local\\Temp/ipykernel_19580/2959267415.py\u001b[0m in \u001b[0;36m<module>\u001b[1;34m\u001b[0m\n\u001b[0;32m      1\u001b[0m \u001b[1;31m#print all number zero hundred\u001b[0m\u001b[1;33m\u001b[0m\u001b[1;33m\u001b[0m\u001b[0m\n\u001b[0;32m      2\u001b[0m \u001b[1;33m\u001b[0m\u001b[0m\n\u001b[1;32m----> 3\u001b[1;33m \u001b[1;32mfor\u001b[0m \u001b[0mi\u001b[0m \u001b[1;32min\u001b[0m \u001b[0mrange\u001b[0m \u001b[1;33m(\u001b[0m\u001b[1;36m1\u001b[0m\u001b[1;33m,\u001b[0m\u001b[1;36m100\u001b[0m\u001b[1;33m)\u001b[0m\u001b[1;33m:\u001b[0m\u001b[1;33m\u001b[0m\u001b[1;33m\u001b[0m\u001b[0m\n\u001b[0m\u001b[0;32m      4\u001b[0m     \u001b[0mprint\u001b[0m\u001b[1;33m(\u001b[0m\u001b[0mi\u001b[0m\u001b[1;33m)\u001b[0m\u001b[1;33m\u001b[0m\u001b[1;33m\u001b[0m\u001b[0m\n",
      "\u001b[1;31mTypeError\u001b[0m: 'tuple' object is not callable"
     ]
    }
   ],
   "source": [
    "#print all number zero hundred\n",
    "\n",
    "for i in range (1,100):\n",
    "    print(i)"
   ]
  },
  {
   "cell_type": "code",
   "execution_count": 1,
   "id": "ba3de29c",
   "metadata": {},
   "outputs": [
    {
     "name": "stdout",
     "output_type": "stream",
     "text": [
      "False\n"
     ]
    }
   ],
   "source": [
    "# idenity of operators\n",
    "a=10\n",
    "b=20\n",
    "print(a is b)"
   ]
  },
  {
   "cell_type": "code",
   "execution_count": 2,
   "id": "056ca2c1",
   "metadata": {},
   "outputs": [
    {
     "name": "stdout",
     "output_type": "stream",
     "text": [
      "True\n"
     ]
    }
   ],
   "source": [
    "c=10\n",
    "print(a is c)"
   ]
  },
  {
   "cell_type": "code",
   "execution_count": 3,
   "id": "9b1ee7dc",
   "metadata": {},
   "outputs": [
    {
     "name": "stdout",
     "output_type": "stream",
     "text": [
      "False\n"
     ]
    }
   ],
   "source": [
    "a=10.0\n",
    "b=10.0\n",
    "print(a is b)"
   ]
  },
  {
   "cell_type": "code",
   "execution_count": 12,
   "id": "ad654fbb",
   "metadata": {},
   "outputs": [
    {
     "name": "stdout",
     "output_type": "stream",
     "text": [
      "False\n"
     ]
    },
    {
     "data": {
      "text/plain": [
       "2109609109824"
      ]
     },
     "execution_count": 12,
     "metadata": {},
     "output_type": "execute_result"
    }
   ],
   "source": [
    "a=[10,20,30]\n",
    "b=[10,20,30]\n",
    "id(a)\n",
    "id(b)\n",
    "print(a is b)\n",
    "id(a)\n",
    "id(b)"
   ]
  },
  {
   "cell_type": "code",
   "execution_count": 10,
   "id": "d65fad25",
   "metadata": {},
   "outputs": [
    {
     "name": "stdout",
     "output_type": "stream",
     "text": [
      "False\n"
     ]
    }
   ],
   "source": [
    "a=(10,20,30)\n",
    "b=(10,20,30)\n",
    "id(a)\n",
    "id(b)\n",
    "print(a is b)\n",
    "\n"
   ]
  },
  {
   "cell_type": "code",
   "execution_count": 13,
   "id": "7f32dc49",
   "metadata": {},
   "outputs": [
    {
     "name": "stdout",
     "output_type": "stream",
     "text": [
      "False\n"
     ]
    },
    {
     "data": {
      "text/plain": [
       "2109609060272"
      ]
     },
     "execution_count": 13,
     "metadata": {},
     "output_type": "execute_result"
    }
   ],
   "source": [
    "a=\"ranjan\"\n",
    "b=\"rajan\"\n",
    "id(a)\n",
    "id(b)\n",
    "print(a is b)\n",
    "id(a)"
   ]
  },
  {
   "cell_type": "code",
   "execution_count": 16,
   "id": "40e7ad56",
   "metadata": {},
   "outputs": [
    {
     "name": "stdout",
     "output_type": "stream",
     "text": [
      "True\n"
     ]
    }
   ],
   "source": [
    "#memership operators\n",
    "l=[10,20,30]\n",
    "print(10 in l)"
   ]
  },
  {
   "cell_type": "code",
   "execution_count": 17,
   "id": "9707a902",
   "metadata": {},
   "outputs": [
    {
     "name": "stdout",
     "output_type": "stream",
     "text": [
      "False\n",
      "True\n"
     ]
    }
   ],
   "source": [
    "print(40 in l)\n",
    "print(50 not in l)"
   ]
  },
  {
   "cell_type": "code",
   "execution_count": 18,
   "id": "6f91d52e",
   "metadata": {},
   "outputs": [
    {
     "ename": "SyntaxError",
     "evalue": "invalid syntax (Temp/ipykernel_19464/2437662790.py, line 2)",
     "output_type": "error",
     "traceback": [
      "\u001b[1;36m  File \u001b[1;32m\"C:\\Users\\DELL\\AppData\\Local\\Temp/ipykernel_19464/2437662790.py\"\u001b[1;36m, line \u001b[1;32m2\u001b[0m\n\u001b[1;33m    & and\u001b[0m\n\u001b[1;37m    ^\u001b[0m\n\u001b[1;31mSyntaxError\u001b[0m\u001b[1;31m:\u001b[0m invalid syntax\n"
     ]
    }
   ],
   "source": [
    "#bitwise operators\n",
    "& and\n",
    "!or\n",
    "^\n",
    "~\n",
    "<<"
   ]
  },
  {
   "cell_type": "code",
   "execution_count": 19,
   "id": "4c5c5d63",
   "metadata": {},
   "outputs": [
    {
     "name": "stdout",
     "output_type": "stream",
     "text": [
      "4\n"
     ]
    }
   ],
   "source": [
    "print(4&5)\n"
   ]
  },
  {
   "cell_type": "code",
   "execution_count": 20,
   "id": "6a8f6374",
   "metadata": {},
   "outputs": [
    {
     "name": "stdout",
     "output_type": "stream",
     "text": [
      "0.8\n"
     ]
    }
   ],
   "source": [
    "print(4/5)"
   ]
  },
  {
   "cell_type": "code",
   "execution_count": 21,
   "id": "423dcfe3",
   "metadata": {},
   "outputs": [
    {
     "name": "stdout",
     "output_type": "stream",
     "text": [
      "1\n"
     ]
    }
   ],
   "source": [
    "print(4^5)"
   ]
  },
  {
   "cell_type": "code",
   "execution_count": 22,
   "id": "58b5129b",
   "metadata": {},
   "outputs": [
    {
     "ename": "SyntaxError",
     "evalue": "invalid syntax (Temp/ipykernel_19464/3798558195.py, line 1)",
     "output_type": "error",
     "traceback": [
      "\u001b[1;36m  File \u001b[1;32m\"C:\\Users\\DELL\\AppData\\Local\\Temp/ipykernel_19464/3798558195.py\"\u001b[1;36m, line \u001b[1;32m1\u001b[0m\n\u001b[1;33m    print(4~5)\u001b[0m\n\u001b[1;37m           ^\u001b[0m\n\u001b[1;31mSyntaxError\u001b[0m\u001b[1;31m:\u001b[0m invalid syntax\n"
     ]
    }
   ],
   "source": [
    "print(4~5)"
   ]
  },
  {
   "cell_type": "code",
   "execution_count": 24,
   "id": "95a959e3",
   "metadata": {},
   "outputs": [
    {
     "name": "stdout",
     "output_type": "stream",
     "text": [
      "enter a number2\n",
      "enter a number2\n"
     ]
    }
   ],
   "source": [
    "#input a statement\n",
    "a=eval(input(\"enter a number\"))\n",
    "b=eval(input(\"enter a number\"))\n",
    "sum=a,b\n",
    "sum\n"
   ]
  },
  {
   "cell_type": "code",
   "execution_count": 25,
   "id": "22d211c1",
   "metadata": {},
   "outputs": [
    {
     "name": "stdout",
     "output_type": "stream",
     "text": [
      "aditya\n"
     ]
    }
   ],
   "source": [
    "print(\"aditya\")"
   ]
  },
  {
   "cell_type": "code",
   "execution_count": 27,
   "id": "6f17ab38",
   "metadata": {},
   "outputs": [
    {
     "name": "stdout",
     "output_type": "stream",
     "text": [
      "aditya\n"
     ]
    }
   ],
   "source": [
    "print('aditya')"
   ]
  },
  {
   "cell_type": "code",
   "execution_count": 29,
   "id": "5ef7c587",
   "metadata": {},
   "outputs": [
    {
     "name": "stdout",
     "output_type": "stream",
     "text": [
      "rajan+sihna\n"
     ]
    }
   ],
   "source": [
    "print('rajan+'sihna')"
   ]
  },
  {
   "cell_type": "code",
   "execution_count": 30,
   "id": "50b92439",
   "metadata": {},
   "outputs": [
    {
     "name": "stdout",
     "output_type": "stream",
     "text": [
      "rajan+sihna\n"
     ]
    }
   ],
   "source": [
    "print(\"rajan+\"\"sihna\")"
   ]
  },
  {
   "cell_type": "code",
   "execution_count": 31,
   "id": "78835461",
   "metadata": {},
   "outputs": [
    {
     "name": "stdout",
     "output_type": "stream",
     "text": [
      "rajan "
     ]
    }
   ],
   "source": [
    "print(\"rajan\",end=\" \")"
   ]
  },
  {
   "cell_type": "code",
   "execution_count": 37,
   "id": "2c67ea2e",
   "metadata": {},
   "outputs": [
    {
     "name": "stdout",
     "output_type": "stream",
     "text": [
      "rajan:"
     ]
    }
   ],
   "source": [
    "print('rajan',end= \":\")"
   ]
  },
  {
   "cell_type": "code",
   "execution_count": 34,
   "id": "55cb4359",
   "metadata": {},
   "outputs": [
    {
     "name": "stdout",
     "output_type": "stream",
     "text": [
      "rajan_sinha\n"
     ]
    }
   ],
   "source": [
    "print(\"rajan\"\"_\"+\"sinha\")"
   ]
  },
  {
   "cell_type": "code",
   "execution_count": null,
   "id": "3f821b77",
   "metadata": {},
   "outputs": [],
   "source": [
    "#print formatting\n",
    "%i=integer\n",
    "%d=integer\n",
    "%f=float\n",
    "%=string\n"
   ]
  },
  {
   "cell_type": "code",
   "execution_count": 61,
   "id": "906558be",
   "metadata": {},
   "outputs": [
    {
     "name": "stderr",
     "output_type": "stream",
     "text": [
      "<>:2: SyntaxWarning: 'str' object is not callable; perhaps you missed a comma?\n",
      "<>:2: SyntaxWarning: 'str' object is not callable; perhaps you missed a comma?\n",
      "C:\\Users\\DELL\\AppData\\Local\\Temp/ipykernel_19464/609058544.py:2: SyntaxWarning: 'str' object is not callable; perhaps you missed a comma?\n",
      "  print('a value is %i\" and b value is %i'(a,b))\n"
     ]
    },
    {
     "ename": "TypeError",
     "evalue": "'str' object is not callable",
     "output_type": "error",
     "traceback": [
      "\u001b[1;31m---------------------------------------------------------------------------\u001b[0m",
      "\u001b[1;31mTypeError\u001b[0m                                 Traceback (most recent call last)",
      "\u001b[1;32m~\\AppData\\Local\\Temp/ipykernel_19464/609058544.py\u001b[0m in \u001b[0;36m<module>\u001b[1;34m\u001b[0m\n\u001b[0;32m      1\u001b[0m \u001b[0ma\u001b[0m\u001b[1;33m,\u001b[0m\u001b[0mb\u001b[0m\u001b[1;33m,\u001b[0m\u001b[0mc\u001b[0m\u001b[1;33m=\u001b[0m\u001b[1;36m10\u001b[0m\u001b[1;33m,\u001b[0m\u001b[1;36m20\u001b[0m\u001b[1;33m,\u001b[0m\u001b[1;36m30\u001b[0m\u001b[1;33m\u001b[0m\u001b[1;33m\u001b[0m\u001b[0m\n\u001b[1;32m----> 2\u001b[1;33m \u001b[0mprint\u001b[0m\u001b[1;33m(\u001b[0m\u001b[1;34m'a value is %i\" and b value is %i'\u001b[0m\u001b[1;33m(\u001b[0m\u001b[0ma\u001b[0m\u001b[1;33m,\u001b[0m\u001b[0mb\u001b[0m\u001b[1;33m)\u001b[0m\u001b[1;33m)\u001b[0m\u001b[1;33m\u001b[0m\u001b[1;33m\u001b[0m\u001b[0m\n\u001b[0m",
      "\u001b[1;31mTypeError\u001b[0m: 'str' object is not callable"
     ]
    }
   ],
   "source": [
    "a,b,c=10,20,30\n",
    "print('a value is %i\" and b value is %i'(a,b))"
   ]
  },
  {
   "cell_type": "code",
   "execution_count": 59,
   "id": "a0959e99",
   "metadata": {},
   "outputs": [
    {
     "name": "stdout",
     "output_type": "stream",
     "text": [
      "b is  20 and a is 10 and c is 30\n"
     ]
    }
   ],
   "source": [
    "a=10\n",
    "b=20\n",
    "c=30\n",
    "print(\"b is % i and a is %i and c is %i\"%(b,a,c))"
   ]
  },
  {
   "cell_type": "code",
   "execution_count": 57,
   "id": "89bc73ba",
   "metadata": {},
   "outputs": [
    {
     "name": "stdout",
     "output_type": "stream",
     "text": [
      "b is  10 and a is 20 and c is 30\n"
     ]
    }
   ],
   "source": [
    "a=10\n",
    "b=20\n",
    "c=30\n",
    "print(\"b is % i and a is %i and c is %i\"%(a,b,c))"
   ]
  },
  {
   "cell_type": "code",
   "execution_count": 49,
   "id": "45303875",
   "metadata": {},
   "outputs": [
    {
     "name": "stdout",
     "output_type": "stream",
     "text": [
      "a value is ranjan and b value is 10.500000 and c value is 40\n"
     ]
    }
   ],
   "source": [
    "a=\"ranjan\"\n",
    "b=10.5\n",
    "c=40\n",
    "print('a value is %s and b value is %f and c value is %d'%(a,b,c))"
   ]
  },
  {
   "cell_type": "code",
   "execution_count": 51,
   "id": "556496d6",
   "metadata": {},
   "outputs": [
    {
     "name": "stdout",
     "output_type": "stream",
     "text": [
      "a value is ranjan and b value is 10.5 and c value is 40\n"
     ]
    }
   ],
   "source": [
    "print(\"a value is {} and b value is {} and c value is {}\".format(a,b,c))"
   ]
  },
  {
   "cell_type": "code",
   "execution_count": 55,
   "id": "f0d472df",
   "metadata": {},
   "outputs": [
    {
     "name": "stdout",
     "output_type": "stream",
     "text": [
      "a value is 40 and b value is ranjan and c value is 10.5\n"
     ]
    }
   ],
   "source": [
    "print(\"a value is {2} and b value is {0} and c value is {1}\".format(a,b,c))"
   ]
  },
  {
   "cell_type": "code",
   "execution_count": 70,
   "id": "96bff065",
   "metadata": {},
   "outputs": [
    {
     "name": "stdout",
     "output_type": "stream",
     "text": [
      "first number =5\n",
      "second number =6\n",
      " b is greater\n"
     ]
    }
   ],
   "source": [
    "#write a progrm greater of two number\n",
    "a=eval(input( \"first number =\"))\n",
    "b=eval(input( \"second number =\"))\n",
    "if a>b:\n",
    "    print( \"a is greater\")\n",
    "if b>a:\n",
    "    print(\" b is greater\")\n",
    "\n",
    " "
   ]
  },
  {
   "cell_type": "code",
   "execution_count": 79,
   "id": "ecd1678b",
   "metadata": {},
   "outputs": [
    {
     "name": "stdout",
     "output_type": "stream",
     "text": [
      "first number =1\n",
      "second  number =2\n",
      " b is greater\n"
     ]
    }
   ],
   "source": [
    "a=eval(input( \"first number =\"))\n",
    "b=eval(input( \"second  number =\"))\n",
    "if a>b :\n",
    "    print( \"a is greater\")\n",
    "else :\n",
    "    print(\" b is greater\")\n"
   ]
  },
  {
   "cell_type": "code",
   "execution_count": 78,
   "id": "83476002",
   "metadata": {},
   "outputs": [
    {
     "name": "stdout",
     "output_type": "stream",
     "text": [
      "first number =1\n",
      "second  number =2\n",
      "third  number =3\n",
      " c is greatetr\n"
     ]
    }
   ],
   "source": [
    "#write a progrm\n",
    "a=eval(input( \"first number =\"))\n",
    "b=eval(input( \"second  number =\"))\n",
    "c=eval(input( \"third  number =\"))\n",
    "if a>b and a>c:\n",
    "    print( \"a is greater\")\n",
    "elif b>a and b>c:\n",
    "    print(\" b is greater\")\n",
    "else :\n",
    "    print(\" c is greatetr\")"
   ]
  },
  {
   "cell_type": "code",
   "execution_count": null,
   "id": "416d0889",
   "metadata": {},
   "outputs": [],
   "source": []
  }
 ],
 "metadata": {
  "kernelspec": {
   "display_name": "Python 3 (ipykernel)",
   "language": "python",
   "name": "python3"
  },
  "language_info": {
   "codemirror_mode": {
    "name": "ipython",
    "version": 3
   },
   "file_extension": ".py",
   "mimetype": "text/x-python",
   "name": "python",
   "nbconvert_exporter": "python",
   "pygments_lexer": "ipython3",
   "version": "3.9.7"
  }
 },
 "nbformat": 4,
 "nbformat_minor": 5
}
