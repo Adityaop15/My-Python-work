{
 "cells": [
  {
   "cell_type": "code",
   "execution_count": 33,
   "id": "bfe60f20",
   "metadata": {},
   "outputs": [],
   "source": [
    "import numpy as np\n",
    "import pandas as pd\n",
    "\n",
    "  "
   ]
  },
  {
   "cell_type": "code",
   "execution_count": 34,
   "id": "348efdc1",
   "metadata": {},
   "outputs": [
    {
     "data": {
      "text/plain": [
       "array([[17,  8, 18,  5],\n",
       "       [12,  5,  9, 19],\n",
       "       [ 3, 16, 11,  7]])"
      ]
     },
     "execution_count": 34,
     "metadata": {},
     "output_type": "execute_result"
    }
   ],
   "source": [
    "x1 =  np.random.randint(low=1,high=20,size=(3,4))\n",
    "x1\n",
    "  "
   ]
  },
  {
   "cell_type": "code",
   "execution_count": 35,
   "id": "29877aaf",
   "metadata": {},
   "outputs": [
    {
     "data": {
      "text/plain": [
       "array([[ 6, 16, 16],\n",
       "       [ 3, 13, 15]])"
      ]
     },
     "execution_count": 35,
     "metadata": {},
     "output_type": "execute_result"
    }
   ],
   "source": [
    "x2= np.random.randint(low=1,high=20,size=(2,3))\n",
    "x2"
   ]
  },
  {
   "cell_type": "code",
   "execution_count": 36,
   "id": "4e0bc259",
   "metadata": {},
   "outputs": [
    {
     "data": {
      "text/plain": [
       "array([[ 7, 12]])"
      ]
     },
     "execution_count": 36,
     "metadata": {},
     "output_type": "execute_result"
    }
   ],
   "source": [
    "x3= np.random.randint(low=1,high=20,size=(1,2))\n",
    "x3\n"
   ]
  },
  {
   "cell_type": "code",
   "execution_count": 37,
   "id": "e43ae78a",
   "metadata": {},
   "outputs": [
    {
     "data": {
      "text/plain": [
       "array([], shape=(0, 1), dtype=int32)"
      ]
     },
     "execution_count": 37,
     "metadata": {},
     "output_type": "execute_result"
    }
   ],
   "source": [
    "x4= np.random.randint(low=1,high=20,size=(0,1))\n",
    "x4\n",
    "                  "
   ]
  },
  {
   "cell_type": "code",
   "execution_count": 52,
   "id": "eeea8e55",
   "metadata": {},
   "outputs": [
    {
     "name": "stdout",
     "output_type": "stream",
     "text": [
      "[17, 8, 18, 5] [12, 5, 9, 19] [3, 16, 11, 7] "
     ]
    }
   ],
   "source": [
    "y="
   ]
  },
  {
   "cell_type": "code",
   "execution_count": null,
   "id": "5bff3364",
   "metadata": {},
   "outputs": [],
   "source": [
    "•\tFind the angle between a= [ 1 1 0] and b=[1 0 1].\n",
    "•\tWrite a python program to check if a point lies inside the circle.\n",
    "User input : point(x,y) , center of circle(a,b) and radius of circle(r)\n",
    "\n",
    "•\tgiven a dataset of 10 observations and 5 features, write a program to find the 3 nearest points of a query point.\n",
    "\n",
    "\n",
    "•\tWrite python code to find the mean,variance and standard deviation of a vector.\n",
    "\n",
    "•\tPython code to find transpose of a matrix.\n",
    "\n",
    "•\tPython code to find euclidean, manhattan and cosine distance  between 2 vectors."
   ]
  },
  {
   "cell_type": "code",
   "execution_count": 56,
   "id": "33e2f783",
   "metadata": {},
   "outputs": [
    {
     "data": {
      "text/plain": [
       "array([[15, 17,  4],\n",
       "       [ 6,  3, 10],\n",
       "       [ 3,  2, 14],\n",
       "       [ 3, 12,  7]])"
      ]
     },
     "execution_count": 56,
     "metadata": {},
     "output_type": "execute_result"
    }
   ],
   "source": [
    "#transpose the matrix\n",
    "x4= np.random.randint(low=1,high=20,size=(4,3))\n",
    "x4"
   ]
  },
  {
   "cell_type": "code",
   "execution_count": 57,
   "id": "5dbc2d91",
   "metadata": {},
   "outputs": [
    {
     "name": "stdout",
     "output_type": "stream",
     "text": [
      "[[15  6  3  3]\n",
      " [17  3  2 12]\n",
      " [ 4 10 14  7]]\n"
     ]
    }
   ],
   "source": [
    "transpose=x4.T\n",
    "print(transpose)"
   ]
  },
  {
   "cell_type": "code",
   "execution_count": 63,
   "id": "7684c164",
   "metadata": {},
   "outputs": [
    {
     "name": "stdout",
     "output_type": "stream",
     "text": [
      "[16  1  7 17 15 14  3  8  7 11]\n"
     ]
    }
   ],
   "source": [
    "#Write python code to find the mean,variance and standard deviation of a vector.\n",
    "x1=np.random.randint(low=1,high=20,size=(10))\n",
    "\n",
    "print(x1)\n"
   ]
  },
  {
   "cell_type": "code",
   "execution_count": 80,
   "id": "6d561f58",
   "metadata": {},
   "outputs": [
    {
     "name": "stdout",
     "output_type": "stream",
     "text": [
      "mean= 49.5 99\n",
      "[ 1  3  7  7  8 11 14 15 16 17]\n",
      "medain= 14.5\n"
     ]
    }
   ],
   "source": [
    "#assisgment one\n",
    "#calculate the mean\n",
    "list1=x1\n",
    "s=0\n",
    "mean=0\n",
    "for i in list1:\n",
    "    s=(s+i)\n",
    "    mean=(s/2)\n",
    "print(\"mean=\",mean,s)\n",
    "\n",
    "\n",
    "list1.sort()\n",
    "print(list1)\n",
    "median=0\n",
    "for i in list1:\n",
    "    medain=(list1[6]+list1[7])/2\n",
    "print(\"medain=\",medain)\n"
   ]
  },
  {
   "cell_type": "code",
   "execution_count": 76,
   "id": "a8df955c",
   "metadata": {},
   "outputs": [
    {
     "data": {
      "text/plain": [
       "5.281098370604357"
      ]
     },
     "execution_count": 76,
     "metadata": {},
     "output_type": "execute_result"
    }
   ],
   "source": [
    "c=np.std(x1)\n",
    "c"
   ]
  },
  {
   "cell_type": "code",
   "execution_count": 126,
   "id": "a08b33d4",
   "metadata": {},
   "outputs": [
    {
     "data": {
      "text/plain": [
       "2"
      ]
     },
     "execution_count": 126,
     "metadata": {},
     "output_type": "execute_result"
    }
   ],
   "source": [
    "#find the angle btw them\n",
    "a=(1,1,1) \n",
    "b=(1,0,1)\n",
    "c=np.dot(a,b)\n",
    "c\n"
   ]
  },
  {
   "cell_type": "code",
   "execution_count": 136,
   "id": "0c57b733",
   "metadata": {},
   "outputs": [
    {
     "name": "stdout",
     "output_type": "stream",
     "text": [
      "Outside\n"
     ]
    }
   ],
   "source": [
    "\n",
    "def isInside(circle_a, circle_b, r, x, y):\n",
    "    if ((x - circle_a) * (x - circle_a) +\n",
    "        (y - circle_b) * (y - circle_b) <= r * r):\n",
    "        return True\n",
    "    else:\n",
    "         return False\n",
    "x = 4\n",
    "y = 2\n",
    "circle_a = 1\n",
    "circle_b = 5\n",
    "r = 2\n",
    "if(isInside(circle_a, circle_b, r, x, y)):\n",
    " print(\"Inside\");\n",
    "else:\n",
    " print(\"Outside\");"
   ]
  },
  {
   "cell_type": "code",
   "execution_count": 154,
   "id": "195c1cb0",
   "metadata": {},
   "outputs": [
    {
     "name": "stdout",
     "output_type": "stream",
     "text": [
      "1\n",
      "2\n",
      "3\n",
      "4\n",
      "10\n",
      "2\n",
      "3\n",
      "4\n",
      "5\n",
      "14\n"
     ]
    }
   ],
   "source": [
    "l=[1,2,3,4,5]\n",
    "sum=0\n",
    "for i in l:\n",
    "    if i<5:\n",
    "        print(i)\n",
    "        sum=(sum+i)\n",
    "print (sum)\n",
    "l=[1,2,3,4,5]\n",
    "sum=0\n",
    "\n",
    "for i in l:\n",
    "    if i>1:\n",
    "        print(i)\n",
    "        sum=(sum+i)\n",
    "print(sum)        \n",
    "\n",
    "\n",
    "    \n",
    "    \n",
    "\n"
   ]
  },
  {
   "cell_type": "code",
   "execution_count": 148,
   "id": "fc8c1ead",
   "metadata": {},
   "outputs": [],
   "source": [
    "l=[1,2,3,4,5]\n",
    "sum=0\n",
    "for i in l:\n",
    "    if i<1:\n",
    "        print(i)\n",
    "sum=(sum+i)        \n",
    "\n"
   ]
  },
  {
   "cell_type": "code",
   "execution_count": 147,
   "id": "355ce3f1",
   "metadata": {},
   "outputs": [
    {
     "name": "stdout",
     "output_type": "stream",
     "text": [
      "2\n",
      "3\n",
      "4\n",
      "5\n",
      "14\n"
     ]
    }
   ],
   "source": [
    "l=[1,2,3,4,5]\n",
    "sum=0\n",
    "for i in l:\n",
    "    if i>1:\n",
    "        print(i)\n",
    "        sum=(sum+i)\n",
    "print(sum)        \n"
   ]
  },
  {
   "cell_type": "code",
   "execution_count": null,
   "id": "1c1dfcdd",
   "metadata": {},
   "outputs": [],
   "source": [
    "def is_leap(year):\n",
    "    leap = False\n",
    "    if year%4:\n",
    "        print(\" leap year\")\n",
    "    else:\n",
    "        print(\" not a leap year\")\n",
    "        return leap\n",
    "year = int(input())\n",
    "    \n",
    "    \n",
    "    \n",
    "    \n",
    "\n"
   ]
  },
  {
   "cell_type": "code",
   "execution_count": 7,
   "id": "82217680",
   "metadata": {},
   "outputs": [
    {
     "name": "stdout",
     "output_type": "stream",
     "text": [
      "2020\n",
      "True\n"
     ]
    }
   ],
   "source": [
    "year=(int(input()))\n",
    "leap=year%4==0\n",
    "\n",
    "\n",
    "print(leap)"
   ]
  },
  {
   "cell_type": "code",
   "execution_count": null,
   "id": "5a4dc8a1",
   "metadata": {},
   "outputs": [],
   "source": [
    "leap=year%4==0\n",
    "\n",
    "\n",
    "print(leap)"
   ]
  },
  {
   "cell_type": "code",
   "execution_count": 10,
   "id": "27b895e6",
   "metadata": {},
   "outputs": [
    {
     "name": "stdout",
     "output_type": "stream",
     "text": [
      "2024\n",
      "True\n"
     ]
    }
   ],
   "source": [
    "def is_leap(year):\n",
    "    leap = False\n",
    "    leap=year%4==0\n",
    "\n",
    "\n",
    "\n",
    "    \n",
    "\n",
    "    \n",
    "    return leap\n",
    "\n",
    "year = int(input())\n",
    "print(is_leap(year))"
   ]
  },
  {
   "cell_type": "code",
   "execution_count": 31,
   "id": "a54bfb70",
   "metadata": {},
   "outputs": [
    {
     "name": "stdout",
     "output_type": "stream",
     "text": [
      "1\n",
      "2\n",
      "3\n",
      "4\n",
      "10\n",
      "2\n",
      "3\n",
      "4\n",
      "5\n",
      "15\n"
     ]
    }
   ],
   "source": [
    "\n",
    "        \n",
    "\n"
   ]
  },
  {
   "cell_type": "code",
   "execution_count": 30,
   "id": "b06b6cdd",
   "metadata": {},
   "outputs": [
    {
     "name": "stdout",
     "output_type": "stream",
     "text": [
      "2\n",
      "3\n",
      "4\n",
      "5\n",
      "15\n"
     ]
    }
   ],
   "source": [
    "\n",
    "\n",
    "    \n",
    "    \n",
    "print(sum)"
   ]
  },
  {
   "cell_type": "code",
   "execution_count": 41,
   "id": "279da5e8",
   "metadata": {},
   "outputs": [
    {
     "name": "stdout",
     "output_type": "stream",
     "text": [
      "9\n"
     ]
    }
   ],
   "source": [
    "l=[1,2,3,4,5]\n",
    "sum=0\n",
    "for i in l:\n",
    "    if i<5:\n",
    "        \n",
    "        #print(i)\n",
    "        sum=(sum+i)\n",
    "print (sum)\n",
    "\n",
    "\n",
    "\n",
    "        "
   ]
  },
  {
   "cell_type": "code",
   "execution_count": null,
   "id": "b5e31547",
   "metadata": {},
   "outputs": [],
   "source": [
    "def max_min()\n"
   ]
  }
 ],
 "metadata": {
  "kernelspec": {
   "display_name": "Python 3 (ipykernel)",
   "language": "python",
   "name": "python3"
  },
  "language_info": {
   "codemirror_mode": {
    "name": "ipython",
    "version": 3
   },
   "file_extension": ".py",
   "mimetype": "text/x-python",
   "name": "python",
   "nbconvert_exporter": "python",
   "pygments_lexer": "ipython3",
   "version": "3.9.7"
  }
 },
 "nbformat": 4,
 "nbformat_minor": 5
}
